{
 "cells": [
  {
   "cell_type": "markdown",
   "id": "18a71cca",
   "metadata": {},
   "source": [
    "# Test.ipynb\n",
    "This jupyter notebook is used for the purpose of testing and evaluationg the trained machine learning models."
   ]
  },
  {
   "cell_type": "markdown",
   "id": "15e3341b",
   "metadata": {},
   "source": [
    "## Import Libraries and Magic"
   ]
  },
  {
   "cell_type": "code",
   "execution_count": 1,
   "id": "6f579fdb",
   "metadata": {},
   "outputs": [],
   "source": [
    "# load libraries and magics\n",
    "import numpy as np\n",
    "import pandas as pd\n",
    "from sklearn.model_selection import train_test_split\n",
    "from sklearn.linear_model import LogisticRegression, Lasso, LinearRegression\n",
    "from sklearn.tree import DecisionTreeClassifier, plot_tree\n",
    "from sklearn.ensemble import RandomForestClassifier\n",
    "from sklearn.model_selection import GridSearchCV, RandomizedSearchCV\n",
    "from sklearn.metrics import classification_report, precision_score, recall_score, precision_recall_curve, PrecisionRecallDisplay\n",
    "from sklearn.preprocessing import PolynomialFeatures,StandardScaler,MinMaxScaler, OneHotEncoder, OrdinalEncoder\n",
    "from sklearn.pipeline import Pipeline\n",
    "from sklearn.impute import SimpleImputer\n",
    "from sklearn.compose import ColumnTransformer\n",
    "from sklearn.metrics import r2_score,classification_report\n",
    "import matplotlib.pyplot as plt\n",
    "import warnings\n",
    "warnings.filterwarnings('ignore')\n",
    "%matplotlib inline\n",
    "plt.style.use('bmh')\n",
    "from pandas.plotting import scatter_matrix\n",
    "from pandas import DatetimeIndex as dt\n",
    "import joblib\n",
    "from sklearn.model_selection import cross_val_score\n",
    "import scipy.stats as stats\n",
    "from sklearn.metrics import accuracy_score\n"
   ]
  },
  {
   "cell_type": "markdown",
   "id": "6b12382b",
   "metadata": {},
   "source": [
    "## Load the datasets\n",
    "\n",
    "This includes the original dataset, and the prepared test/train datasets for each machine learning task"
   ]
  },
  {
   "cell_type": "code",
   "execution_count": 2,
   "id": "65ad8540",
   "metadata": {},
   "outputs": [],
   "source": [
    "#original dataset\n",
    "dataset = pd.read_csv(\"supermarket_sales.csv\")\n",
    "\n",
    "# For Multiple Linear Regression tasks\n",
    "lr_train_set_prepared = pd.read_csv(\"lr_train_set_prepared.csv\")\n",
    "lr_test_set_prepared = pd.read_csv(\"lr_test_set_prepared.csv\")\n",
    "\n",
    "# For Gender Classification task\n",
    "gender_train_set_prepared = pd.read_csv(\"gender_train_set_prepared.csv\")\n",
    "gender_test_set_prepared = pd.read_csv(\"gender_test_set_prepared.csv\")\n",
    "\n",
    "# For Customer Type Classification task\n",
    "customer_train_set_prepared = pd.read_csv(\"customer_train_set_prepared.csv\")\n",
    "customer_test_set_prepared = pd.read_csv(\"customer_test_set_prepared.csv\")\n",
    "\n",
    "# For Prediction of day of purchase\n",
    "day_train_set_prepared = pd.read_csv(\"day_train_set_prepared.csv\")\n",
    "day_test_set_prepared = pd.read_csv(\"day_test_set_prepared.csv\")"
   ]
  },
  {
   "cell_type": "markdown",
   "id": "314b7f7a",
   "metadata": {},
   "source": [
    "## Load the trained models\n",
    "\n",
    "There are a total of 8 trained models for a total of 5 different tasks"
   ]
  },
  {
   "cell_type": "code",
   "execution_count": 3,
   "id": "62888457",
   "metadata": {},
   "outputs": [],
   "source": [
    "# Linear regression without lasso for predicting gross income\n",
    "final_linear_model_gross_income = joblib.load(\"final_linear_model_gross_income.pkl\")\n",
    "\n",
    "# Linear regression with lasso for predicting gross income\n",
    "final_linear_lasso_model_gross_income = joblib.load(\"final_linear_lasso_model_gross_income.pkl\")\n",
    "\n",
    "# Linear regression without lasso for predicting unit price\n",
    "final_linear_model_unit_price = joblib.load(\"final_linear_model_unit_price.pkl\")\n",
    "\n",
    "# Linear regression with lasso for predicting unit price\n",
    "final_linear_lasso_model_unit_price = joblib.load(\"final_linear_lasso_model_unit_price.pkl\")\n",
    "\n",
    "# Logistic regression to classify gender\n",
    "final_log_model_gender = joblib.load(\"final_log_model_gender.pkl\")\n",
    "\n",
    "# Logistic regression to classify customer type\n",
    "final_log_model_customer = joblib.load(\"final_log_model_customer.pkl\")\n",
    "\n",
    "# Decision tree classifier to predict day of purchase\n",
    "final_dt_model_day = joblib.load(\"final_dt_model_day.pkl\")\n",
    "\n",
    "# Decision tree classifier to predict day of purchase\n",
    "final_rf_model_day = joblib.load(\"final_rf_model_day.pkl\")\n"
   ]
  },
  {
   "cell_type": "markdown",
   "id": "d32562fa",
   "metadata": {},
   "source": [
    "## Predicting the output of trained models"
   ]
  },
  {
   "cell_type": "markdown",
   "id": "0e325e81",
   "metadata": {},
   "source": [
    "### Multiple Linear regression for predicting gross income"
   ]
  },
  {
   "cell_type": "code",
   "execution_count": 4,
   "id": "3e6b96f7",
   "metadata": {},
   "outputs": [],
   "source": [
    "lr_train_data = lr_train_set_prepared.drop([\"gross income\"], axis = 1)\n",
    "lr_train_target = lr_train_set_prepared[\"gross income\"]\n",
    "\n",
    "lr_test_data = lr_test_set_prepared.drop([\"gross income\"], axis = 1)\n",
    "lr_test_target = lr_test_set_prepared[\"gross income\"]"
   ]
  },
  {
   "cell_type": "markdown",
   "id": "34b629e6",
   "metadata": {},
   "source": [
    "#### Without lasso regularization"
   ]
  },
  {
   "cell_type": "code",
   "execution_count": 5,
   "id": "e42bd343",
   "metadata": {},
   "outputs": [],
   "source": [
    "predicted_train_gi = final_linear_model_gross_income.predict(lr_train_data)\n",
    "\n",
    "predicted_test_gi = final_linear_model_gross_income.predict(lr_test_data)"
   ]
  },
  {
   "cell_type": "markdown",
   "id": "258b08fe",
   "metadata": {},
   "source": [
    "#### With lasso"
   ]
  },
  {
   "cell_type": "code",
   "execution_count": 6,
   "id": "91ec9f6c",
   "metadata": {},
   "outputs": [],
   "source": [
    "predicted_train_lasso_gi = final_linear_lasso_model_gross_income.predict(lr_train_data)\n",
    "\n",
    "predicted_test_lasso_gi = final_linear_lasso_model_gross_income.predict(lr_test_data)"
   ]
  },
  {
   "cell_type": "markdown",
   "id": "95ece627",
   "metadata": {},
   "source": [
    "### Multiple Linear regression for predicting unit price"
   ]
  },
  {
   "cell_type": "code",
   "execution_count": 7,
   "id": "2d725e2a",
   "metadata": {},
   "outputs": [],
   "source": [
    "lr_train_data2 = lr_train_set_prepared.drop([\"Unit price\"], axis = 1)\n",
    "lr_train_target2 = lr_train_set_prepared[\"Unit price\"]\n",
    "\n",
    "lr_test_data2 = lr_test_set_prepared.drop([\"Unit price\"], axis = 1)\n",
    "lr_test_target2 = lr_test_set_prepared[\"Unit price\"]"
   ]
  },
  {
   "cell_type": "markdown",
   "id": "aee69f87",
   "metadata": {},
   "source": [
    "#### Without  lasso regularization"
   ]
  },
  {
   "cell_type": "code",
   "execution_count": 8,
   "id": "f2a09be5",
   "metadata": {},
   "outputs": [],
   "source": [
    "predicted_train_up = final_linear_model_unit_price.predict(lr_train_data2)\n",
    "\n",
    "predicted_test_up = final_linear_model_unit_price.predict(lr_test_data2)"
   ]
  },
  {
   "cell_type": "markdown",
   "id": "4fa984f0",
   "metadata": {},
   "source": [
    "#### With lasso"
   ]
  },
  {
   "cell_type": "code",
   "execution_count": 9,
   "id": "baef73d2",
   "metadata": {},
   "outputs": [],
   "source": [
    "predicted_train_lasso_up = final_linear_lasso_model_unit_price.predict(lr_train_data2)\n",
    "\n",
    "predicted_test_lasso_up = final_linear_lasso_model_unit_price.predict(lr_test_data2)"
   ]
  },
  {
   "cell_type": "markdown",
   "id": "2c68cb3d",
   "metadata": {},
   "source": [
    "### Logistic Regression to Classify Gender"
   ]
  },
  {
   "cell_type": "code",
   "execution_count": 10,
   "id": "c0cc99af",
   "metadata": {},
   "outputs": [],
   "source": [
    "gender_train_data = gender_train_set_prepared.drop([\"Male\", \"Female\"], axis = 1)\n",
    "gender_train_target = gender_train_set_prepared[\"Male\"]\n",
    "\n",
    "gender_test_data = gender_test_set_prepared.drop([\"Male\",\"Female\"], axis = 1)\n",
    "gender_test_target = gender_test_set_prepared[\"Male\"]"
   ]
  },
  {
   "cell_type": "code",
   "execution_count": 11,
   "id": "23d98584",
   "metadata": {},
   "outputs": [],
   "source": [
    "predicted_train_gender = final_log_model_gender.predict(gender_train_data)\n",
    "\n",
    "predicted_test_gender = final_log_model_gender.predict(gender_test_data)"
   ]
  },
  {
   "cell_type": "markdown",
   "id": "90241d5c",
   "metadata": {},
   "source": [
    "### Logistic Regression to Classify Customer type"
   ]
  },
  {
   "cell_type": "code",
   "execution_count": 12,
   "id": "c72db196",
   "metadata": {},
   "outputs": [],
   "source": [
    "customer_train_data = customer_train_set_prepared.drop([\"Customer type\"], axis = 1)\n",
    "customer_train_target = customer_train_set_prepared[\"Customer type\"]\n",
    "\n",
    "customer_test_data = customer_test_set_prepared.drop([\"Customer type\"], axis = 1)\n",
    "customer_test_target = customer_test_set_prepared[\"Customer type\"]"
   ]
  },
  {
   "cell_type": "code",
   "execution_count": 13,
   "id": "7ffc3b51",
   "metadata": {},
   "outputs": [],
   "source": [
    "predicted_train_customer = final_log_model_customer.predict(customer_train_data)\n",
    "\n",
    "predicted_test_customer = final_log_model_customer.predict(customer_test_data)"
   ]
  },
  {
   "cell_type": "markdown",
   "id": "f0380fa1",
   "metadata": {},
   "source": [
    "### Classifiers for Predicting the Day of Purchase"
   ]
  },
  {
   "cell_type": "code",
   "execution_count": 14,
   "id": "73be16e1",
   "metadata": {},
   "outputs": [],
   "source": [
    "day_train_data = day_train_set_prepared.drop([\"Date\"], axis = 1)\n",
    "day_train_target = day_train_set_prepared[\"Date\"]\n",
    "\n",
    "day_test_data = day_test_set_prepared.drop([\"Date\"], axis = 1)\n",
    "day_test_target = day_test_set_prepared[\"Date\"]"
   ]
  },
  {
   "cell_type": "markdown",
   "id": "0c0d9890",
   "metadata": {},
   "source": [
    "#### With Decision Tree"
   ]
  },
  {
   "cell_type": "code",
   "execution_count": 15,
   "id": "b4916cdf",
   "metadata": {},
   "outputs": [],
   "source": [
    "predicted_train_dt_day = final_dt_model_day.predict(day_train_data)\n",
    "\n",
    "predicted_test_dt_day = final_dt_model_day.predict(day_test_data)"
   ]
  },
  {
   "cell_type": "markdown",
   "id": "85507a18",
   "metadata": {},
   "source": [
    "#### With Random Forest"
   ]
  },
  {
   "cell_type": "code",
   "execution_count": 16,
   "id": "7af59278",
   "metadata": {},
   "outputs": [],
   "source": [
    "predicted_train_rf_day = final_rf_model_day.predict(day_train_data)\n",
    "\n",
    "predicted_test_rf_day = final_rf_model_day.predict(day_test_data)"
   ]
  },
  {
   "cell_type": "markdown",
   "id": "35658cd9",
   "metadata": {},
   "source": [
    "===============================================================================\n",
    "\n",
    "Now that we have the predictions, the final step is evaluation and observations regarding the given tasks.\n",
    "\n",
    "==============================================================================="
   ]
  },
  {
   "cell_type": "markdown",
   "id": "ff1beca1",
   "metadata": {},
   "source": [
    "## Evaluation and Observation"
   ]
  },
  {
   "cell_type": "markdown",
   "id": "057a2d1e",
   "metadata": {},
   "source": [
    "### Multiple Linear regression for predicting gross income\n",
    "\n",
    "For evaluating this we will be using r^2 score nad it's 95% confidence interval"
   ]
  },
  {
   "cell_type": "markdown",
   "id": "d6a7a414",
   "metadata": {},
   "source": [
    "#### Without lasso"
   ]
  },
  {
   "cell_type": "code",
   "execution_count": 17,
   "id": "289cad3c",
   "metadata": {},
   "outputs": [
    {
     "data": {
      "text/plain": [
       "(800,)"
      ]
     },
     "execution_count": 17,
     "metadata": {},
     "output_type": "execute_result"
    }
   ],
   "source": [
    "lr_train_target.shape"
   ]
  },
  {
   "cell_type": "code",
   "execution_count": 18,
   "id": "e53173c4",
   "metadata": {},
   "outputs": [
    {
     "data": {
      "text/plain": [
       "(200,)"
      ]
     },
     "execution_count": 18,
     "metadata": {},
     "output_type": "execute_result"
    }
   ],
   "source": [
    "lr_test_target.shape"
   ]
  },
  {
   "cell_type": "code",
   "execution_count": 19,
   "id": "8ddb5b25",
   "metadata": {},
   "outputs": [
    {
     "name": "stdout",
     "output_type": "stream",
     "text": [
      "For training data, r^2 score is  0.8866856425693278  and 95% confidence interval is  (-18.192457893952962, 95.20596294201955)\n",
      "For testing data, r^2 score is  0.9048251213906985  and 95% confidence interval is  (-0.3816482608800258, 7.7242048315752)\n"
     ]
    }
   ],
   "source": [
    "confidence = 0.95\n",
    "\n",
    "# for training dataset\n",
    "predicted_train_gi.reshape(800,1)\n",
    "r2_gi = r2_score(lr_train_target,predicted_train_gi)\n",
    "\n",
    "t = lr_train_target.to_numpy().reshape(800)\n",
    "scores1 = ((predicted_train_gi)**2) /((t)**2)\n",
    "\n",
    "print(\"For training data, r^2 score is \", r2_gi, \" and 95% confidence interval is \", stats.t.interval(confidence, len(scores1) - 1,\n",
    "                 loc=scores1.mean(),\n",
    "                 scale=scores1.std(ddof=1)/np.sqrt(len(scores1))))\n",
    "\n",
    "# for testing dataset\n",
    "predicted_test_gi.reshape(200,1)\n",
    "r2_gi1 = r2_score(lr_test_target,predicted_test_gi)\n",
    "\n",
    "t = lr_test_target.to_numpy().reshape(200)\n",
    "scores2 = ((predicted_test_gi)**2) /((t)**2)\n",
    "\n",
    "print(\"For testing data, r^2 score is \", r2_gi1, \" and 95% confidence interval is \", stats.t.interval(confidence, len(scores2) - 1,\n",
    "                 loc=scores2.mean(),\n",
    "                 scale=scores2.std(ddof=1)/np.sqrt(len(scores2))))"
   ]
  },
  {
   "cell_type": "markdown",
   "id": "277001c9",
   "metadata": {},
   "source": [
    "#### With lasso"
   ]
  },
  {
   "cell_type": "code",
   "execution_count": 20,
   "id": "2328d26d",
   "metadata": {},
   "outputs": [
    {
     "name": "stdout",
     "output_type": "stream",
     "text": [
      "For training data, r^2 score is  0.8857961155347721  and 95% confidence interval is  (-16.015794758951564, 84.40409096984598)\n",
      "For testing data, r^2 score is  0.9033248630665663  and 95% confidence interval is  (-0.487470459343637, 7.264882377148605)\n"
     ]
    }
   ],
   "source": [
    "confidence = 0.95\n",
    "\n",
    "# for training dataset\n",
    "predicted_train_gi.reshape(800,1)\n",
    "r2_gi = r2_score(lr_train_target,predicted_train_lasso_gi)\n",
    "\n",
    "t = lr_train_target.to_numpy().reshape(800)\n",
    "scores1 = ((predicted_train_lasso_gi)**2) /((t)**2)\n",
    "\n",
    "print(\"For training data, r^2 score is \", r2_gi, \" and 95% confidence interval is \", stats.t.interval(confidence, len(scores1) - 1,\n",
    "                 loc=scores1.mean(),\n",
    "                 scale=scores1.std(ddof=1)/np.sqrt(len(scores1))))\n",
    "\n",
    "# for testing dataset\n",
    "predicted_test_gi.reshape(200,1)\n",
    "r2_gi1 = r2_score(lr_test_target,predicted_test_lasso_gi)\n",
    "\n",
    "t = lr_test_target.to_numpy().reshape(200)\n",
    "scores2 = ((predicted_test_lasso_gi)**2) /((t)**2)\n",
    "\n",
    "print(\"For testing data, r^2 score is \", r2_gi1, \" and 95% confidence interval is \", stats.t.interval(confidence, len(scores2) - 1,\n",
    "                 loc=scores2.mean(),\n",
    "                 scale=scores2.std(ddof=1)/np.sqrt(len(scores2))))"
   ]
  },
  {
   "cell_type": "markdown",
   "id": "d9b71e6b",
   "metadata": {},
   "source": [
    "#### Effect of attributes on gross income"
   ]
  },
  {
   "cell_type": "code",
   "execution_count": 21,
   "id": "d6bda7a7",
   "metadata": {},
   "outputs": [
    {
     "data": {
      "text/plain": [
       "gross income              1.000000\n",
       "Quantity                  0.719682\n",
       "Unit price                0.679604\n",
       "Electronic accessories    0.089542\n",
       "Thurday                   0.084192\n",
       "Tuesday                   0.070058\n",
       "Food and beverage         0.051602\n",
       "Sunday                    0.039355\n",
       "Night                     0.037641\n",
       "Home and lifestyle        0.028862\n",
       "Saturday                  0.026788\n",
       "Evening                   0.017104\n",
       "Fashion accessories      -0.006514\n",
       "Afternoon                -0.007125\n",
       "Friday                   -0.027086\n",
       "Morning                  -0.038884\n",
       "Health and beauty        -0.061648\n",
       "Wednesday                -0.087655\n",
       "Monday                   -0.092892\n",
       "Sports and travel        -0.095087\n",
       "Name: gross income, dtype: float64"
      ]
     },
     "execution_count": 21,
     "metadata": {},
     "output_type": "execute_result"
    }
   ],
   "source": [
    "corr_matrix = lr_test_set_prepared.corr(method='pearson')   # creating a correlation matrix for current numerical attributes\n",
    "\n",
    "corr_matrix['gross income'].sort_values(ascending=False)"
   ]
  },
  {
   "cell_type": "markdown",
   "id": "43776a3d",
   "metadata": {},
   "source": [
    "Using the correlation matrix it shows that Gross income has highest positive correlation with *Quantity*, followed by *Unit price, Electronic accessories and Thursday* "
   ]
  },
  {
   "cell_type": "markdown",
   "id": "7848f215",
   "metadata": {},
   "source": [
    "#### Best $\\lambda$ for lasso"
   ]
  },
  {
   "cell_type": "code",
   "execution_count": 22,
   "id": "73c95f1b",
   "metadata": {},
   "outputs": [
    {
     "data": {
      "text/plain": [
       "Pipeline(steps=[('Lasso', Lasso(alpha=0.010000000000000002))])"
      ]
     },
     "execution_count": 22,
     "metadata": {},
     "output_type": "execute_result"
    }
   ],
   "source": [
    "final_linear_lasso_model_gross_income"
   ]
  },
  {
   "cell_type": "markdown",
   "id": "26955b78",
   "metadata": {},
   "source": [
    "The best $\\lambda$ for lasso regularizer is 0.010000000000000002.\n",
    "\n",
    "I had removed 'Invoice ID', 'Branch', 'City', 'Customer type', 'Gender','Total','Payment', 'cogs', 'gross margin percentage','Rating' features because of being redundant/not important for the task"
   ]
  },
  {
   "cell_type": "markdown",
   "id": "7177b710",
   "metadata": {},
   "source": [
    "### Multiple Linear regression for predicting unit price\n",
    "\n",
    "For evaluating this we will be using r^2 score nad it's 95% confidence interval"
   ]
  },
  {
   "cell_type": "markdown",
   "id": "fde6ff77",
   "metadata": {},
   "source": [
    "#### Without Lasso"
   ]
  },
  {
   "cell_type": "code",
   "execution_count": 23,
   "id": "b7de2232",
   "metadata": {},
   "outputs": [
    {
     "name": "stdout",
     "output_type": "stream",
     "text": [
      "For training data, r^2 score is  0.7785609514013406  and 95% confidence interval is  (0.1852370049272225, 4.618126532777801)\n",
      "For testing data, r^2 score is  0.794273232933886  and 95% confidence interval is  (0.6996066580028524, 1.625860704911672)\n"
     ]
    }
   ],
   "source": [
    "confidence = 0.95\n",
    "\n",
    "# for training dataset\n",
    "predicted_train_up.reshape(800,1)\n",
    "r2_up = r2_score(lr_train_target2,predicted_train_up)\n",
    "\n",
    "t = lr_train_target2.to_numpy().reshape(800)\n",
    "scores1 = ((predicted_train_up)**2) /((t)**2)\n",
    "\n",
    "print(\"For training data, r^2 score is \", r2_up, \" and 95% confidence interval is \", stats.t.interval(confidence, len(scores1) - 1,\n",
    "                 loc=scores1.mean(),\n",
    "                 scale=scores1.std(ddof=1)/np.sqrt(len(scores1))))\n",
    "\n",
    "# for testing dataset\n",
    "predicted_test_up.reshape(200,1)\n",
    "r2_up1 = r2_score(lr_test_target2,predicted_test_up)\n",
    "\n",
    "t = lr_test_target2.to_numpy().reshape(200)\n",
    "scores2 = ((predicted_test_up)**2) /((t)**2)\n",
    "\n",
    "print(\"For testing data, r^2 score is \", r2_up1, \" and 95% confidence interval is \", stats.t.interval(confidence, len(scores2) - 1,\n",
    "                 loc=scores2.mean(),\n",
    "                 scale=scores2.std(ddof=1)/np.sqrt(len(scores2))))"
   ]
  },
  {
   "cell_type": "markdown",
   "id": "51bf0ef0",
   "metadata": {},
   "source": [
    "#### With Lasso"
   ]
  },
  {
   "cell_type": "code",
   "execution_count": 24,
   "id": "8622b350",
   "metadata": {},
   "outputs": [
    {
     "name": "stdout",
     "output_type": "stream",
     "text": [
      "For training data, r^2 score is  0.7911583077776843  and 95% confidence interval is  (-89.78651821385827, 430.4203972421658)\n",
      "For testing data, r^2 score is  0.8417603221127841  and 95% confidence interval is  (1.305330748034982, 13.620150550032257)\n"
     ]
    }
   ],
   "source": [
    "confidence = 0.95\n",
    "\n",
    "# for training dataset\n",
    "predicted_train_up.reshape(800,1)\n",
    "r2_up = r2_score(lr_train_target,predicted_train_lasso_up)\n",
    "\n",
    "t = lr_train_target.to_numpy().reshape(800)\n",
    "scores1 = ((predicted_train_lasso_up)**2) /((t)**2)\n",
    "\n",
    "print(\"For training data, r^2 score is \", r2_up, \" and 95% confidence interval is \", stats.t.interval(confidence, len(scores1) - 1,\n",
    "                 loc=scores1.mean(),\n",
    "                 scale=scores1.std(ddof=1)/np.sqrt(len(scores1))))\n",
    "\n",
    "# for testing dataset\n",
    "predicted_test_up.reshape(200,1)\n",
    "r2_up1 = r2_score(lr_test_target,predicted_test_lasso_up)\n",
    "\n",
    "t = lr_test_target.to_numpy().reshape(200)\n",
    "scores2 = ((predicted_test_lasso_up)**2) /((t)**2)\n",
    "\n",
    "print(\"For testing data, r^2 score is \", r2_up1, \" and 95% confidence interval is \", stats.t.interval(confidence, len(scores2) - 1,\n",
    "                 loc=scores2.mean(),\n",
    "                 scale=scores2.std(ddof=1)/np.sqrt(len(scores2))))"
   ]
  },
  {
   "cell_type": "markdown",
   "id": "ab762bd3",
   "metadata": {},
   "source": [
    "#### Effect of attributes on unit price"
   ]
  },
  {
   "cell_type": "code",
   "execution_count": 25,
   "id": "364619c5",
   "metadata": {},
   "outputs": [
    {
     "data": {
      "text/plain": [
       "Unit price                1.000000\n",
       "gross income              0.679604\n",
       "Electronic accessories    0.151244\n",
       "Food and beverage         0.139876\n",
       "Quantity                  0.081553\n",
       "Sunday                    0.070186\n",
       "Tuesday                   0.067670\n",
       "Thurday                   0.062077\n",
       "Evening                   0.038742\n",
       "Saturday                  0.036462\n",
       "Home and lifestyle        0.024412\n",
       "Morning                   0.023644\n",
       "Monday                   -0.013052\n",
       "Night                    -0.026185\n",
       "Afternoon                -0.029385\n",
       "Health and beauty        -0.047005\n",
       "Fashion accessories      -0.068271\n",
       "Friday                   -0.083091\n",
       "Wednesday                -0.136357\n",
       "Sports and travel        -0.185531\n",
       "Name: Unit price, dtype: float64"
      ]
     },
     "execution_count": 25,
     "metadata": {},
     "output_type": "execute_result"
    }
   ],
   "source": [
    "corr_matrix = lr_test_set_prepared.corr(method='pearson')   # creating a correlation matrix for current numerical attributes\n",
    "\n",
    "corr_matrix['Unit price'].sort_values(ascending=False)"
   ]
  },
  {
   "cell_type": "markdown",
   "id": "fd9dc9ba",
   "metadata": {},
   "source": [
    "Using the correlation matrix it shows that Unit price has highest positive correlation with *gross income*, followed by *Electronic accessories, Food and beverage,Quantity and Sunday* "
   ]
  },
  {
   "cell_type": "markdown",
   "id": "797e5888",
   "metadata": {},
   "source": [
    "#### Best $\\lambda$ for lasso"
   ]
  },
  {
   "cell_type": "code",
   "execution_count": 26,
   "id": "536272f2",
   "metadata": {},
   "outputs": [
    {
     "data": {
      "text/plain": [
       "Pipeline(steps=[('Lasso', Lasso(alpha=0.010000000000000002))])"
      ]
     },
     "execution_count": 26,
     "metadata": {},
     "output_type": "execute_result"
    }
   ],
   "source": [
    "final_linear_lasso_model_unit_price"
   ]
  },
  {
   "cell_type": "markdown",
   "id": "7a51d071",
   "metadata": {},
   "source": [
    "The best $\\lambda$ for lasso regularizer is 0.010000000000000002.\n",
    "\n",
    "I had removed 'Invoice ID', 'Branch', 'City', 'Customer type', 'Gender','Total','Payment', 'cogs', 'gross margin percentage','Rating' features because of being redundant/not important for the task"
   ]
  },
  {
   "cell_type": "markdown",
   "id": "b65ddde1",
   "metadata": {},
   "source": [
    "### Logistic Regression for classifying gender\n"
   ]
  },
  {
   "cell_type": "code",
   "execution_count": 27,
   "id": "4e62ad09",
   "metadata": {},
   "outputs": [
    {
     "name": "stdout",
     "output_type": "stream",
     "text": [
      "Classification report on classifying gender on training data(0-> Male, 1-> Femeale)\n",
      "              precision    recall  f1-score   support\n",
      "\n",
      "         0.0       0.64      0.73      0.68       142\n",
      "         1.0       0.61      0.52      0.56       120\n",
      "\n",
      "    accuracy                           0.63       262\n",
      "   macro avg       0.63      0.62      0.62       262\n",
      "weighted avg       0.63      0.63      0.63       262\n",
      "\n"
     ]
    }
   ],
   "source": [
    "print(\"Classification report on classifying gender on training data(0-> Male, 1-> Femeale)\")\n",
    "print(classification_report(gender_train_target,predicted_train_gender))"
   ]
  },
  {
   "cell_type": "code",
   "execution_count": 28,
   "id": "14ac1b6b",
   "metadata": {},
   "outputs": [
    {
     "name": "stdout",
     "output_type": "stream",
     "text": [
      "Classification report on classifying gender on testing data(0-> Male, 1-> Femeale)\n",
      "              precision    recall  f1-score   support\n",
      "\n",
      "         0.0       0.63      0.61      0.62        36\n",
      "         1.0       0.55      0.57      0.56        30\n",
      "\n",
      "    accuracy                           0.59        66\n",
      "   macro avg       0.59      0.59      0.59        66\n",
      "weighted avg       0.59      0.59      0.59        66\n",
      "\n"
     ]
    }
   ],
   "source": [
    "print(\"Classification report on classifying gender on testing data(0-> Male, 1-> Femeale)\")\n",
    "print(classification_report(gender_test_target,predicted_test_gender))"
   ]
  },
  {
   "cell_type": "markdown",
   "id": "45793c50",
   "metadata": {},
   "source": [
    "#### Getting Parameter Values"
   ]
  },
  {
   "cell_type": "code",
   "execution_count": 29,
   "id": "c5a6fe4b",
   "metadata": {},
   "outputs": [],
   "source": [
    "poly_X = final_log_model_gender.named_steps['PolynomialFeatures'].transform(gender_test_data)"
   ]
  },
  {
   "cell_type": "code",
   "execution_count": 30,
   "id": "8995f3bd",
   "metadata": {},
   "outputs": [],
   "source": [
    "poly_attributes = ['Intercept']\n",
    "N_attributes = final_log_model_gender.named_steps['PolynomialFeatures'].powers_.shape[0]\n",
    "attrib_names = gender_test_data.columns\n",
    "\n",
    "for i in range(1,N_attributes):\n",
    "    temp = attrib_names[final_log_model_gender.named_steps['PolynomialFeatures'].powers_[i,:]==1]\n",
    "    \n",
    "    if len(temp)==1:\n",
    "        poly_attributes += [temp[0]]\n",
    "    else:\n",
    "        poly_attributes += [temp[0]+' + '+temp[1]]\n",
    "        \n",
    "poly_attributes = np.array(poly_attributes).reshape(-1,1)"
   ]
  },
  {
   "cell_type": "code",
   "execution_count": 31,
   "id": "dbdf1577",
   "metadata": {},
   "outputs": [],
   "source": [
    "w = final_log_model_gender.named_steps['LogisticRegression'].coef_.T"
   ]
  },
  {
   "cell_type": "code",
   "execution_count": 32,
   "id": "13fdfeae",
   "metadata": {},
   "outputs": [
    {
     "data": {
      "text/html": [
       "<div>\n",
       "<style scoped>\n",
       "    .dataframe tbody tr th:only-of-type {\n",
       "        vertical-align: middle;\n",
       "    }\n",
       "\n",
       "    .dataframe tbody tr th {\n",
       "        vertical-align: top;\n",
       "    }\n",
       "\n",
       "    .dataframe thead th {\n",
       "        text-align: right;\n",
       "    }\n",
       "</style>\n",
       "<table border=\"1\" class=\"dataframe\">\n",
       "  <thead>\n",
       "    <tr style=\"text-align: right;\">\n",
       "      <th></th>\n",
       "      <th>Attributes</th>\n",
       "      <th>Coefficients</th>\n",
       "    </tr>\n",
       "  </thead>\n",
       "  <tbody>\n",
       "    <tr>\n",
       "      <th>13</th>\n",
       "      <td>gross income + Food and beverages</td>\n",
       "      <td>-0.605799</td>\n",
       "    </tr>\n",
       "    <tr>\n",
       "      <th>27</th>\n",
       "      <td>Electronic accessories + Ewallet</td>\n",
       "      <td>0.460744</td>\n",
       "    </tr>\n",
       "    <tr>\n",
       "      <th>44</th>\n",
       "      <td>Health and beauty + Credit card</td>\n",
       "      <td>0.445073</td>\n",
       "    </tr>\n",
       "    <tr>\n",
       "      <th>16</th>\n",
       "      <td>gross income + Sports and travel</td>\n",
       "      <td>-0.431642</td>\n",
       "    </tr>\n",
       "    <tr>\n",
       "      <th>32</th>\n",
       "      <td>Fashion accessories + Cash</td>\n",
       "      <td>0.398857</td>\n",
       "    </tr>\n",
       "    <tr>\n",
       "      <th>11</th>\n",
       "      <td>gross income + Electronic accessories</td>\n",
       "      <td>0.341859</td>\n",
       "    </tr>\n",
       "    <tr>\n",
       "      <th>34</th>\n",
       "      <td>Fashion accessories + Ewallet</td>\n",
       "      <td>-0.319338</td>\n",
       "    </tr>\n",
       "    <tr>\n",
       "      <th>7</th>\n",
       "      <td>Sports and travel</td>\n",
       "      <td>-0.284125</td>\n",
       "    </tr>\n",
       "    <tr>\n",
       "      <th>39</th>\n",
       "      <td>Food and beverages + Credit card</td>\n",
       "      <td>-0.264958</td>\n",
       "    </tr>\n",
       "    <tr>\n",
       "      <th>14</th>\n",
       "      <td>gross income + Health and beauty</td>\n",
       "      <td>0.264817</td>\n",
       "    </tr>\n",
       "    <tr>\n",
       "      <th>5</th>\n",
       "      <td>Health and beauty</td>\n",
       "      <td>0.258469</td>\n",
       "    </tr>\n",
       "    <tr>\n",
       "      <th>12</th>\n",
       "      <td>gross income + Fashion accessories</td>\n",
       "      <td>0.257418</td>\n",
       "    </tr>\n",
       "    <tr>\n",
       "      <th>45</th>\n",
       "      <td>Health and beauty + Ewallet</td>\n",
       "      <td>-0.252430</td>\n",
       "    </tr>\n",
       "    <tr>\n",
       "      <th>25</th>\n",
       "      <td>Electronic accessories + Cash</td>\n",
       "      <td>-0.248072</td>\n",
       "    </tr>\n",
       "    <tr>\n",
       "      <th>9</th>\n",
       "      <td>Credit card</td>\n",
       "      <td>-0.207278</td>\n",
       "    </tr>\n",
       "    <tr>\n",
       "      <th>51</th>\n",
       "      <td>Sports and travel + Credit card</td>\n",
       "      <td>-0.205877</td>\n",
       "    </tr>\n",
       "    <tr>\n",
       "      <th>18</th>\n",
       "      <td>gross income + Credit card</td>\n",
       "      <td>-0.202095</td>\n",
       "    </tr>\n",
       "    <tr>\n",
       "      <th>49</th>\n",
       "      <td>Home and lifestyle + Ewallet</td>\n",
       "      <td>0.201361</td>\n",
       "    </tr>\n",
       "    <tr>\n",
       "      <th>47</th>\n",
       "      <td>Home and lifestyle + Cash</td>\n",
       "      <td>-0.198869</td>\n",
       "    </tr>\n",
       "    <tr>\n",
       "      <th>4</th>\n",
       "      <td>Food and beverages</td>\n",
       "      <td>-0.151688</td>\n",
       "    </tr>\n",
       "    <tr>\n",
       "      <th>38</th>\n",
       "      <td>Food and beverages + Cash</td>\n",
       "      <td>0.142822</td>\n",
       "    </tr>\n",
       "    <tr>\n",
       "      <th>19</th>\n",
       "      <td>gross income + Ewallet</td>\n",
       "      <td>0.130111</td>\n",
       "    </tr>\n",
       "    <tr>\n",
       "      <th>33</th>\n",
       "      <td>Fashion accessories + Credit card</td>\n",
       "      <td>-0.124590</td>\n",
       "    </tr>\n",
       "    <tr>\n",
       "      <th>2</th>\n",
       "      <td>Electronic accessories</td>\n",
       "      <td>0.121214</td>\n",
       "    </tr>\n",
       "    <tr>\n",
       "      <th>15</th>\n",
       "      <td>gross income + Home and lifestyle</td>\n",
       "      <td>0.108743</td>\n",
       "    </tr>\n",
       "    <tr>\n",
       "      <th>8</th>\n",
       "      <td>Cash</td>\n",
       "      <td>0.099376</td>\n",
       "    </tr>\n",
       "    <tr>\n",
       "      <th>26</th>\n",
       "      <td>Electronic accessories + Credit card</td>\n",
       "      <td>-0.091458</td>\n",
       "    </tr>\n",
       "    <tr>\n",
       "      <th>43</th>\n",
       "      <td>Health and beauty + Cash</td>\n",
       "      <td>0.065826</td>\n",
       "    </tr>\n",
       "    <tr>\n",
       "      <th>1</th>\n",
       "      <td>gross income</td>\n",
       "      <td>-0.064603</td>\n",
       "    </tr>\n",
       "    <tr>\n",
       "      <th>0</th>\n",
       "      <td>Intercept</td>\n",
       "      <td>-0.064176</td>\n",
       "    </tr>\n",
       "    <tr>\n",
       "      <th>50</th>\n",
       "      <td>Sports and travel + Cash</td>\n",
       "      <td>-0.061188</td>\n",
       "    </tr>\n",
       "    <tr>\n",
       "      <th>3</th>\n",
       "      <td>Fashion accessories</td>\n",
       "      <td>-0.045071</td>\n",
       "    </tr>\n",
       "    <tr>\n",
       "      <th>10</th>\n",
       "      <td>Ewallet</td>\n",
       "      <td>0.043727</td>\n",
       "    </tr>\n",
       "    <tr>\n",
       "      <th>6</th>\n",
       "      <td>Home and lifestyle</td>\n",
       "      <td>0.037025</td>\n",
       "    </tr>\n",
       "    <tr>\n",
       "      <th>48</th>\n",
       "      <td>Home and lifestyle + Credit card</td>\n",
       "      <td>0.034533</td>\n",
       "    </tr>\n",
       "    <tr>\n",
       "      <th>40</th>\n",
       "      <td>Food and beverages + Ewallet</td>\n",
       "      <td>-0.029552</td>\n",
       "    </tr>\n",
       "    <tr>\n",
       "      <th>52</th>\n",
       "      <td>Sports and travel + Ewallet</td>\n",
       "      <td>-0.017059</td>\n",
       "    </tr>\n",
       "    <tr>\n",
       "      <th>17</th>\n",
       "      <td>gross income + Cash</td>\n",
       "      <td>0.007380</td>\n",
       "    </tr>\n",
       "    <tr>\n",
       "      <th>42</th>\n",
       "      <td>Health and beauty + Sports and travel</td>\n",
       "      <td>0.000000</td>\n",
       "    </tr>\n",
       "    <tr>\n",
       "      <th>54</th>\n",
       "      <td>Cash + Ewallet</td>\n",
       "      <td>0.000000</td>\n",
       "    </tr>\n",
       "    <tr>\n",
       "      <th>46</th>\n",
       "      <td>Home and lifestyle + Sports and travel</td>\n",
       "      <td>0.000000</td>\n",
       "    </tr>\n",
       "    <tr>\n",
       "      <th>53</th>\n",
       "      <td>Cash + Credit card</td>\n",
       "      <td>0.000000</td>\n",
       "    </tr>\n",
       "    <tr>\n",
       "      <th>28</th>\n",
       "      <td>Fashion accessories + Food and beverages</td>\n",
       "      <td>0.000000</td>\n",
       "    </tr>\n",
       "    <tr>\n",
       "      <th>41</th>\n",
       "      <td>Health and beauty + Home and lifestyle</td>\n",
       "      <td>0.000000</td>\n",
       "    </tr>\n",
       "    <tr>\n",
       "      <th>37</th>\n",
       "      <td>Food and beverages + Sports and travel</td>\n",
       "      <td>0.000000</td>\n",
       "    </tr>\n",
       "    <tr>\n",
       "      <th>36</th>\n",
       "      <td>Food and beverages + Home and lifestyle</td>\n",
       "      <td>0.000000</td>\n",
       "    </tr>\n",
       "    <tr>\n",
       "      <th>35</th>\n",
       "      <td>Food and beverages + Health and beauty</td>\n",
       "      <td>0.000000</td>\n",
       "    </tr>\n",
       "    <tr>\n",
       "      <th>31</th>\n",
       "      <td>Fashion accessories + Sports and travel</td>\n",
       "      <td>0.000000</td>\n",
       "    </tr>\n",
       "    <tr>\n",
       "      <th>30</th>\n",
       "      <td>Fashion accessories + Home and lifestyle</td>\n",
       "      <td>0.000000</td>\n",
       "    </tr>\n",
       "    <tr>\n",
       "      <th>29</th>\n",
       "      <td>Fashion accessories + Health and beauty</td>\n",
       "      <td>0.000000</td>\n",
       "    </tr>\n",
       "    <tr>\n",
       "      <th>24</th>\n",
       "      <td>Electronic accessories + Sports and travel</td>\n",
       "      <td>0.000000</td>\n",
       "    </tr>\n",
       "    <tr>\n",
       "      <th>23</th>\n",
       "      <td>Electronic accessories + Home and lifestyle</td>\n",
       "      <td>0.000000</td>\n",
       "    </tr>\n",
       "    <tr>\n",
       "      <th>22</th>\n",
       "      <td>Electronic accessories + Health and beauty</td>\n",
       "      <td>0.000000</td>\n",
       "    </tr>\n",
       "    <tr>\n",
       "      <th>21</th>\n",
       "      <td>Electronic accessories + Food and beverages</td>\n",
       "      <td>0.000000</td>\n",
       "    </tr>\n",
       "    <tr>\n",
       "      <th>20</th>\n",
       "      <td>Electronic accessories + Fashion accessories</td>\n",
       "      <td>0.000000</td>\n",
       "    </tr>\n",
       "    <tr>\n",
       "      <th>55</th>\n",
       "      <td>Credit card + Ewallet</td>\n",
       "      <td>0.000000</td>\n",
       "    </tr>\n",
       "  </tbody>\n",
       "</table>\n",
       "</div>"
      ],
      "text/plain": [
       "                                      Attributes  Coefficients\n",
       "13             gross income + Food and beverages     -0.605799\n",
       "27              Electronic accessories + Ewallet      0.460744\n",
       "44               Health and beauty + Credit card      0.445073\n",
       "16              gross income + Sports and travel     -0.431642\n",
       "32                    Fashion accessories + Cash      0.398857\n",
       "11         gross income + Electronic accessories      0.341859\n",
       "34                 Fashion accessories + Ewallet     -0.319338\n",
       "7                              Sports and travel     -0.284125\n",
       "39              Food and beverages + Credit card     -0.264958\n",
       "14              gross income + Health and beauty      0.264817\n",
       "5                              Health and beauty      0.258469\n",
       "12            gross income + Fashion accessories      0.257418\n",
       "45                   Health and beauty + Ewallet     -0.252430\n",
       "25                 Electronic accessories + Cash     -0.248072\n",
       "9                                    Credit card     -0.207278\n",
       "51               Sports and travel + Credit card     -0.205877\n",
       "18                    gross income + Credit card     -0.202095\n",
       "49                  Home and lifestyle + Ewallet      0.201361\n",
       "47                     Home and lifestyle + Cash     -0.198869\n",
       "4                             Food and beverages     -0.151688\n",
       "38                     Food and beverages + Cash      0.142822\n",
       "19                        gross income + Ewallet      0.130111\n",
       "33             Fashion accessories + Credit card     -0.124590\n",
       "2                         Electronic accessories      0.121214\n",
       "15             gross income + Home and lifestyle      0.108743\n",
       "8                                           Cash      0.099376\n",
       "26          Electronic accessories + Credit card     -0.091458\n",
       "43                      Health and beauty + Cash      0.065826\n",
       "1                                   gross income     -0.064603\n",
       "0                                      Intercept     -0.064176\n",
       "50                      Sports and travel + Cash     -0.061188\n",
       "3                            Fashion accessories     -0.045071\n",
       "10                                       Ewallet      0.043727\n",
       "6                             Home and lifestyle      0.037025\n",
       "48              Home and lifestyle + Credit card      0.034533\n",
       "40                  Food and beverages + Ewallet     -0.029552\n",
       "52                   Sports and travel + Ewallet     -0.017059\n",
       "17                           gross income + Cash      0.007380\n",
       "42         Health and beauty + Sports and travel      0.000000\n",
       "54                                Cash + Ewallet      0.000000\n",
       "46        Home and lifestyle + Sports and travel      0.000000\n",
       "53                            Cash + Credit card      0.000000\n",
       "28      Fashion accessories + Food and beverages      0.000000\n",
       "41        Health and beauty + Home and lifestyle      0.000000\n",
       "37        Food and beverages + Sports and travel      0.000000\n",
       "36       Food and beverages + Home and lifestyle      0.000000\n",
       "35        Food and beverages + Health and beauty      0.000000\n",
       "31       Fashion accessories + Sports and travel      0.000000\n",
       "30      Fashion accessories + Home and lifestyle      0.000000\n",
       "29       Fashion accessories + Health and beauty      0.000000\n",
       "24    Electronic accessories + Sports and travel      0.000000\n",
       "23   Electronic accessories + Home and lifestyle      0.000000\n",
       "22    Electronic accessories + Health and beauty      0.000000\n",
       "21   Electronic accessories + Food and beverages      0.000000\n",
       "20  Electronic accessories + Fashion accessories      0.000000\n",
       "55                         Credit card + Ewallet      0.000000"
      ]
     },
     "execution_count": 32,
     "metadata": {},
     "output_type": "execute_result"
    }
   ],
   "source": [
    "dataf = pd.DataFrame(np.hstack((poly_attributes,w)), columns=['Attributes', 'Coefficients'])\n",
    "dataf['Coefficients'] = dataf['Coefficients'].astype(float)\n",
    "dataf.sort_values(by='Coefficients', key=abs, ascending=False)"
   ]
  },
  {
   "cell_type": "markdown",
   "id": "d2b9d416",
   "metadata": {},
   "source": [
    "Thus, the most informative and important features (top 5) for gender=Male are - \n",
    "1. **gross income + Food and beverages**\t\n",
    "2. **Electronic accessories + Ewallet**\n",
    "3. **Health and beauty + Credit card**\n",
    "4. **gross income + Sports and travel**\n",
    "5. **Fashion accessories + Cash**"
   ]
  },
  {
   "cell_type": "code",
   "execution_count": 33,
   "id": "3287044f",
   "metadata": {},
   "outputs": [
    {
     "data": {
      "text/plain": [
       "Text(0.5, 0, 'attribute index number')"
      ]
     },
     "execution_count": 33,
     "metadata": {},
     "output_type": "execute_result"
    },
    {
     "data": {
      "image/png": "[encoded data removed]",
      "text/plain": [
       "<Figure size 720x720 with 1 Axes>"
      ]
     },
     "metadata": {
      "needs_background": "light"
     },
     "output_type": "display_data"
    }
   ],
   "source": [
    "plt.rcParams[\"figure.figsize\"] = (10,10)\n",
    "\n",
    "plt.figure()\n",
    "plt.stem(dataf[\"Coefficients\"])\n",
    "plt.xlabel('attribute index number')"
   ]
  },
  {
   "cell_type": "markdown",
   "id": "b4296acc",
   "metadata": {},
   "source": [
    "### Logistic Regression for classifying customer type"
   ]
  },
  {
   "cell_type": "code",
   "execution_count": 34,
   "id": "617b16b3",
   "metadata": {},
   "outputs": [
    {
     "name": "stdout",
     "output_type": "stream",
     "text": [
      "Classification report on classifying customer type on training data(0-> Normal, 1-> Member)\n",
      "              precision    recall  f1-score   support\n",
      "\n",
      "         0.0       0.70      0.64      0.67       135\n",
      "         1.0       0.65      0.71      0.68       127\n",
      "\n",
      "    accuracy                           0.67       262\n",
      "   macro avg       0.67      0.67      0.67       262\n",
      "weighted avg       0.67      0.67      0.67       262\n",
      "\n"
     ]
    }
   ],
   "source": [
    "print(\"Classification report on classifying customer type on training data(0-> Normal, 1-> Member)\")\n",
    "print(classification_report(customer_train_target,predicted_train_customer))"
   ]
  },
  {
   "cell_type": "code",
   "execution_count": 35,
   "id": "c0dd9a50",
   "metadata": {},
   "outputs": [
    {
     "name": "stdout",
     "output_type": "stream",
     "text": [
      "Classification report on classifying customer type on testing data(0-> Normal, 1-> Member)\n",
      "              precision    recall  f1-score   support\n",
      "\n",
      "         0.0       0.43      0.29      0.35        34\n",
      "         1.0       0.44      0.59      0.51        32\n",
      "\n",
      "    accuracy                           0.44        66\n",
      "   macro avg       0.44      0.44      0.43        66\n",
      "weighted avg       0.44      0.44      0.43        66\n",
      "\n"
     ]
    }
   ],
   "source": [
    "print(\"Classification report on classifying customer type on testing data(0-> Normal, 1-> Member)\")\n",
    "print(classification_report(customer_test_target,predicted_test_customer))"
   ]
  },
  {
   "cell_type": "markdown",
   "id": "cf819988",
   "metadata": {},
   "source": [
    "#### Getting Parameter values"
   ]
  },
  {
   "cell_type": "code",
   "execution_count": 36,
   "id": "b13bf292",
   "metadata": {},
   "outputs": [],
   "source": [
    "poly_X = final_log_model_customer.named_steps['PolynomialFeatures'].transform(customer_test_data)"
   ]
  },
  {
   "cell_type": "code",
   "execution_count": 37,
   "id": "aea7306f",
   "metadata": {},
   "outputs": [],
   "source": [
    "poly_attributes = ['Intercept']\n",
    "N_attributes = final_log_model_customer.named_steps['PolynomialFeatures'].powers_.shape[0]\n",
    "attrib_names = customer_test_data.columns\n",
    "\n",
    "for i in range(1,N_attributes):\n",
    "    temp = attrib_names[final_log_model_customer.named_steps['PolynomialFeatures'].powers_[i,:]==1]\n",
    "    \n",
    "    if len(temp)==1:\n",
    "        poly_attributes += [temp[0]]\n",
    "    else:\n",
    "        poly_attributes += [temp[0]+' + '+temp[1]]\n",
    "        \n",
    "poly_attributes = np.array(poly_attributes).reshape(-1,1)"
   ]
  },
  {
   "cell_type": "code",
   "execution_count": 38,
   "id": "4c7f5110",
   "metadata": {},
   "outputs": [],
   "source": [
    "w = final_log_model_customer.named_steps['LogisticRegression'].coef_.T"
   ]
  },
  {
   "cell_type": "code",
   "execution_count": 39,
   "id": "b883e611",
   "metadata": {},
   "outputs": [
    {
     "data": {
      "text/html": [
       "<div>\n",
       "<style scoped>\n",
       "    .dataframe tbody tr th:only-of-type {\n",
       "        vertical-align: middle;\n",
       "    }\n",
       "\n",
       "    .dataframe tbody tr th {\n",
       "        vertical-align: top;\n",
       "    }\n",
       "\n",
       "    .dataframe thead th {\n",
       "        text-align: right;\n",
       "    }\n",
       "</style>\n",
       "<table border=\"1\" class=\"dataframe\">\n",
       "  <thead>\n",
       "    <tr style=\"text-align: right;\">\n",
       "      <th></th>\n",
       "      <th>Attributes</th>\n",
       "      <th>Coefficients</th>\n",
       "    </tr>\n",
       "  </thead>\n",
       "  <tbody>\n",
       "    <tr>\n",
       "      <th>17</th>\n",
       "      <td>gender + Monday</td>\n",
       "      <td>0.814949</td>\n",
       "    </tr>\n",
       "    <tr>\n",
       "      <th>63</th>\n",
       "      <td>Monday + Sunday</td>\n",
       "      <td>-0.810563</td>\n",
       "    </tr>\n",
       "    <tr>\n",
       "      <th>55</th>\n",
       "      <td>night + Friday</td>\n",
       "      <td>-0.804959</td>\n",
       "    </tr>\n",
       "    <tr>\n",
       "      <th>6</th>\n",
       "      <td>Monday</td>\n",
       "      <td>-0.684826</td>\n",
       "    </tr>\n",
       "    <tr>\n",
       "      <th>69</th>\n",
       "      <td>Wednesday + Thursday</td>\n",
       "      <td>0.674012</td>\n",
       "    </tr>\n",
       "    <tr>\n",
       "      <th>...</th>\n",
       "      <td>...</td>\n",
       "      <td>...</td>\n",
       "    </tr>\n",
       "    <tr>\n",
       "      <th>37</th>\n",
       "      <td>afternoon + Tuesday</td>\n",
       "      <td>0.000000</td>\n",
       "    </tr>\n",
       "    <tr>\n",
       "      <th>38</th>\n",
       "      <td>afternoon + Wednesday</td>\n",
       "      <td>0.000000</td>\n",
       "    </tr>\n",
       "    <tr>\n",
       "      <th>46</th>\n",
       "      <td>evening + Wednesday</td>\n",
       "      <td>0.000000</td>\n",
       "    </tr>\n",
       "    <tr>\n",
       "      <th>45</th>\n",
       "      <td>evening + Tuesday</td>\n",
       "      <td>0.000000</td>\n",
       "    </tr>\n",
       "    <tr>\n",
       "      <th>78</th>\n",
       "      <td>Saturday + Sunday</td>\n",
       "      <td>0.000000</td>\n",
       "    </tr>\n",
       "  </tbody>\n",
       "</table>\n",
       "<p>79 rows × 2 columns</p>\n",
       "</div>"
      ],
      "text/plain": [
       "               Attributes  Coefficients\n",
       "17        gender + Monday      0.814949\n",
       "63        Monday + Sunday     -0.810563\n",
       "55         night + Friday     -0.804959\n",
       "6                  Monday     -0.684826\n",
       "69   Wednesday + Thursday      0.674012\n",
       "..                    ...           ...\n",
       "37    afternoon + Tuesday      0.000000\n",
       "38  afternoon + Wednesday      0.000000\n",
       "46    evening + Wednesday      0.000000\n",
       "45      evening + Tuesday      0.000000\n",
       "78      Saturday + Sunday      0.000000\n",
       "\n",
       "[79 rows x 2 columns]"
      ]
     },
     "execution_count": 39,
     "metadata": {},
     "output_type": "execute_result"
    }
   ],
   "source": [
    "dataf2 = pd.DataFrame(np.hstack((poly_attributes,w)), columns=['Attributes', 'Coefficients'])\n",
    "dataf2['Coefficients'] = dataf2['Coefficients'].astype(float)\n",
    "dataf2.sort_values(by='Coefficients', key=abs, ascending=False)"
   ]
  },
  {
   "cell_type": "markdown",
   "id": "5b9cb062",
   "metadata": {},
   "source": [
    "Thus, the most informative and important features (top 5) for customer=Normal are - \n",
    "1. **gender + Monday**\t\n",
    "2. **Monday + Sunday**\n",
    "3. **night + Friday**\n",
    "4. **Monday**\n",
    "5. **Wednesday + Thursday**"
   ]
  },
  {
   "cell_type": "code",
   "execution_count": 40,
   "id": "50f20bec",
   "metadata": {},
   "outputs": [
    {
     "data": {
      "text/plain": [
       "Text(0.5, 0, 'attribute index number')"
      ]
     },
     "execution_count": 40,
     "metadata": {},
     "output_type": "execute_result"
    },
    {
     "data": {
      "image/png": "[encoded data removed]",
      "text/plain": [
       "<Figure size 720x720 with 1 Axes>"
      ]
     },
     "metadata": {
      "needs_background": "light"
     },
     "output_type": "display_data"
    }
   ],
   "source": [
    "plt.rcParams[\"figure.figsize\"] = (10,10)\n",
    "\n",
    "plt.figure()\n",
    "plt.stem(dataf2[\"Coefficients\"])\n",
    "plt.xlabel('attribute index number')"
   ]
  },
  {
   "cell_type": "markdown",
   "id": "1447dee2",
   "metadata": {},
   "source": [
    "### Classifiers for Predicting the Day of Purchase"
   ]
  },
  {
   "cell_type": "markdown",
   "id": "bb386562",
   "metadata": {},
   "source": [
    "#### Decision Tree"
   ]
  },
  {
   "cell_type": "code",
   "execution_count": 41,
   "id": "ddfd67b7",
   "metadata": {},
   "outputs": [
    {
     "name": "stdout",
     "output_type": "stream",
     "text": [
      "Classification report on classifying day of purchase on training data(0-> Monday, 1-> Tuesday, 2-> Wednesday, 3-> Thursday, 4-> Friday, 5-> Saturday, 6-> Sunday)\n",
      "              precision    recall  f1-score   support\n",
      "\n",
      "           0       0.31      0.09      0.14       100\n",
      "           1       0.24      0.53      0.33       126\n",
      "           2       0.48      0.27      0.34       115\n",
      "           3       0.34      0.31      0.32       110\n",
      "           4       0.47      0.28      0.35       111\n",
      "           5       0.27      0.47      0.34       131\n",
      "           6       0.44      0.13      0.20       107\n",
      "\n",
      "    accuracy                           0.31       800\n",
      "   macro avg       0.36      0.30      0.29       800\n",
      "weighted avg       0.36      0.31      0.29       800\n",
      "\n"
     ]
    }
   ],
   "source": [
    "print(\"Classification report on classifying day of purchase on training data(0-> Monday, 1-> Tuesday, 2-> Wednesday, 3-> Thursday, 4-> Friday, 5-> Saturday, 6-> Sunday)\")\n",
    "print(classification_report(day_train_target,predicted_train_dt_day))"
   ]
  },
  {
   "cell_type": "code",
   "execution_count": 42,
   "id": "d5e45c0f",
   "metadata": {},
   "outputs": [
    {
     "name": "stdout",
     "output_type": "stream",
     "text": [
      "95% CI for training data:  (0.12070371144521312, 0.19429628855478687)\n"
     ]
    }
   ],
   "source": [
    "scores = cross_val_score(final_dt_model_day, day_train_data, day_train_target,\n",
    "                        cv=10,\n",
    "                        scoring='accuracy')\n",
    "\n",
    "print('95% CI for training data: ', stats.t.interval(confidence, len(scores) - 1,\n",
    "                 loc=scores.mean(),\n",
    "                 scale=scores.std(ddof=1)/np.sqrt(len(scores))))"
   ]
  },
  {
   "cell_type": "code",
   "execution_count": 43,
   "id": "de0071e8",
   "metadata": {},
   "outputs": [
    {
     "name": "stdout",
     "output_type": "stream",
     "text": [
      "Classification report on classifying day of purchase on testing data(0-> Monday, 1-> Tuesday, 2-> Wednesday, 3-> Thursday, 4-> Friday, 5-> Saturday, 6-> Sunday)\n",
      "              precision    recall  f1-score   support\n",
      "\n",
      "           0       0.20      0.04      0.07        25\n",
      "           1       0.19      0.41      0.26        32\n",
      "           2       0.16      0.11      0.13        28\n",
      "           3       0.08      0.07      0.08        28\n",
      "           4       0.20      0.14      0.17        28\n",
      "           5       0.16      0.27      0.20        33\n",
      "           6       0.00      0.00      0.00        26\n",
      "\n",
      "    accuracy                           0.16       200\n",
      "   macro avg       0.14      0.15      0.13       200\n",
      "weighted avg       0.14      0.16      0.13       200\n",
      "\n"
     ]
    }
   ],
   "source": [
    "print(\"Classification report on classifying day of purchase on testing data(0-> Monday, 1-> Tuesday, 2-> Wednesday, 3-> Thursday, 4-> Friday, 5-> Saturday, 6-> Sunday)\")\n",
    "print(classification_report(day_test_target,predicted_test_dt_day))"
   ]
  },
  {
   "cell_type": "code",
   "execution_count": 44,
   "id": "bf1bb644",
   "metadata": {},
   "outputs": [
    {
     "name": "stdout",
     "output_type": "stream",
     "text": [
      "95% CI for testing data:  (0.1135718862799106, 0.22642811372008942)\n"
     ]
    }
   ],
   "source": [
    "scores = cross_val_score(final_dt_model_day, day_test_data, day_test_target,\n",
    "                        cv=10,\n",
    "                        scoring='accuracy')\n",
    "\n",
    "print('95% CI for testing data: ', stats.t.interval(confidence, len(scores) - 1,\n",
    "                 loc=scores.mean(),\n",
    "                 scale=scores.std(ddof=1)/np.sqrt(len(scores))))"
   ]
  },
  {
   "cell_type": "markdown",
   "id": "308616e9",
   "metadata": {},
   "source": [
    "#### Random Forest"
   ]
  },
  {
   "cell_type": "code",
   "execution_count": 45,
   "id": "5d8f1f8f",
   "metadata": {},
   "outputs": [
    {
     "name": "stdout",
     "output_type": "stream",
     "text": [
      "Classification report on classifying day of purchase on training data(0-> Monday, 1-> Tuesday, 2-> Wednesday, 3-> Thursday, 4-> Friday, 5-> Saturday, 6-> Sunday)\n",
      "              precision    recall  f1-score   support\n",
      "\n",
      "           0       0.77      0.56      0.65       100\n",
      "           1       0.68      0.83      0.74       126\n",
      "           2       0.80      0.78      0.79       115\n",
      "           3       0.80      0.67      0.73       110\n",
      "           4       0.74      0.70      0.72       111\n",
      "           5       0.67      0.89      0.77       131\n",
      "           6       0.85      0.72      0.78       107\n",
      "\n",
      "    accuracy                           0.74       800\n",
      "   macro avg       0.76      0.74      0.74       800\n",
      "weighted avg       0.75      0.74      0.74       800\n",
      "\n"
     ]
    }
   ],
   "source": [
    "print(\"Classification report on classifying day of purchase on training data(0-> Monday, 1-> Tuesday, 2-> Wednesday, 3-> Thursday, 4-> Friday, 5-> Saturday, 6-> Sunday)\")\n",
    "print(classification_report(day_train_target,predicted_train_rf_day))"
   ]
  },
  {
   "cell_type": "code",
   "execution_count": 46,
   "id": "882971ff",
   "metadata": {},
   "outputs": [
    {
     "name": "stdout",
     "output_type": "stream",
     "text": [
      "95% CI for training data:  (0.11729434616651219, 0.17270565383348774)\n"
     ]
    }
   ],
   "source": [
    "scores = cross_val_score(final_rf_model_day, day_train_data, day_train_target,\n",
    "                        cv=10,\n",
    "                        scoring='accuracy')\n",
    "\n",
    "print('95% CI for training data: ', stats.t.interval(confidence, len(scores) - 1,\n",
    "                 loc=scores.mean(),\n",
    "                 scale=scores.std(ddof=1)/np.sqrt(len(scores))))"
   ]
  },
  {
   "cell_type": "code",
   "execution_count": 47,
   "id": "d4149e01",
   "metadata": {},
   "outputs": [
    {
     "name": "stdout",
     "output_type": "stream",
     "text": [
      "Classification report on classifying day of purchase on testing data(0-> Monday, 1-> Tuesday, 2-> Wednesday, 3-> Thursday, 4-> Friday, 5-> Saturday, 6-> Sunday)\n",
      "              precision    recall  f1-score   support\n",
      "\n",
      "           0       0.17      0.04      0.06        25\n",
      "           1       0.21      0.34      0.26        32\n",
      "           2       0.20      0.29      0.23        28\n",
      "           3       0.14      0.07      0.10        28\n",
      "           4       0.16      0.14      0.15        28\n",
      "           5       0.10      0.15      0.12        33\n",
      "           6       0.08      0.04      0.05        26\n",
      "\n",
      "    accuracy                           0.16       200\n",
      "   macro avg       0.15      0.15      0.14       200\n",
      "weighted avg       0.15      0.16      0.14       200\n",
      "\n"
     ]
    }
   ],
   "source": [
    "print(\"Classification report on classifying day of purchase on testing data(0-> Monday, 1-> Tuesday, 2-> Wednesday, 3-> Thursday, 4-> Friday, 5-> Saturday, 6-> Sunday)\")\n",
    "print(classification_report(day_test_target,predicted_test_rf_day))"
   ]
  },
  {
   "cell_type": "code",
   "execution_count": 48,
   "id": "abd7a0bd",
   "metadata": {},
   "outputs": [
    {
     "name": "stdout",
     "output_type": "stream",
     "text": [
      "95% CI for testing data:  (0.12305912822201628, 0.19694087177798367)\n"
     ]
    }
   ],
   "source": [
    "scores = cross_val_score(final_rf_model_day, day_test_data, day_test_target,\n",
    "                        cv=10,\n",
    "                        scoring='accuracy')\n",
    "\n",
    "print('95% CI for testing data: ', stats.t.interval(confidence, len(scores) - 1,\n",
    "                 loc=scores.mean(),\n",
    "                 scale=scores.std(ddof=1)/np.sqrt(len(scores))))"
   ]
  },
  {
   "cell_type": "code",
   "execution_count": null,
   "id": "aa1f8889",
   "metadata": {},
   "outputs": [],
   "source": []
  }
 ],
 "metadata": {
  "kernelspec": {
   "display_name": "Python 3",
   "language": "python",
   "name": "python3"
  },
  "language_info": {
   "codemirror_mode": {
    "name": "ipython",
    "version": 3
   },
   "file_extension": ".py",
   "mimetype": "text/x-python",
   "name": "python",
   "nbconvert_exporter": "python",
   "pygments_lexer": "ipython3",
   "version": "3.8.8"
  }
 },
 "nbformat": 4,
 "nbformat_minor": 5
}
