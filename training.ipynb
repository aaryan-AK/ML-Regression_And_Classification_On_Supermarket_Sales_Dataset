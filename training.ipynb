{
 "cells": [
  {
   "cell_type": "markdown",
   "id": "85baecd2",
   "metadata": {},
   "source": [
    "# Training.ipynb\n",
    "This jupyter notebook is used for the purpose of hyperparameter tuning of different models."
   ]
  },
  {
   "cell_type": "markdown",
   "id": "752f819a",
   "metadata": {},
   "source": [
    "## Import libraries and magic"
   ]
  },
  {
   "cell_type": "code",
   "execution_count": 1,
   "id": "6684521e",
   "metadata": {},
   "outputs": [],
   "source": [
    "# load libraries and magics\n",
    "import numpy as np\n",
    "import pandas as pd\n",
    "from sklearn.model_selection import train_test_split\n",
    "from sklearn.linear_model import LogisticRegression, Lasso, LinearRegression\n",
    "from sklearn.tree import DecisionTreeClassifier, plot_tree\n",
    "from sklearn.ensemble import RandomForestClassifier\n",
    "from sklearn.model_selection import GridSearchCV, RandomizedSearchCV\n",
    "from sklearn.metrics import classification_report, precision_score, recall_score, precision_recall_curve, PrecisionRecallDisplay\n",
    "from sklearn.preprocessing import PolynomialFeatures,StandardScaler,MinMaxScaler, OneHotEncoder, OrdinalEncoder\n",
    "from sklearn.pipeline import Pipeline\n",
    "from sklearn.impute import SimpleImputer\n",
    "from sklearn.compose import ColumnTransformer\n",
    "from sklearn.metrics import r2_score,classification_report\n",
    "import matplotlib.pyplot as plt\n",
    "import warnings\n",
    "warnings.filterwarnings('ignore')\n",
    "%matplotlib inline\n",
    "plt.style.use('bmh')\n",
    "from pandas.plotting import scatter_matrix\n",
    "from pandas import DatetimeIndex as dt\n",
    "import joblib\n"
   ]
  },
  {
   "cell_type": "markdown",
   "id": "28d6d756",
   "metadata": {},
   "source": [
    "## Load the dataset"
   ]
  },
  {
   "cell_type": "code",
   "execution_count": 2,
   "id": "292d8bae",
   "metadata": {},
   "outputs": [],
   "source": [
    "dataset = pd.read_csv(\"supermarket_sales.csv\")"
   ]
  },
  {
   "cell_type": "code",
   "execution_count": 3,
   "id": "bc67fe83",
   "metadata": {},
   "outputs": [
    {
     "data": {
      "text/html": [
       "<div>\n",
       "<style scoped>\n",
       "    .dataframe tbody tr th:only-of-type {\n",
       "        vertical-align: middle;\n",
       "    }\n",
       "\n",
       "    .dataframe tbody tr th {\n",
       "        vertical-align: top;\n",
       "    }\n",
       "\n",
       "    .dataframe thead th {\n",
       "        text-align: right;\n",
       "    }\n",
       "</style>\n",
       "<table border=\"1\" class=\"dataframe\">\n",
       "  <thead>\n",
       "    <tr style=\"text-align: right;\">\n",
       "      <th></th>\n",
       "      <th>Invoice ID</th>\n",
       "      <th>Branch</th>\n",
       "      <th>City</th>\n",
       "      <th>Customer type</th>\n",
       "      <th>Gender</th>\n",
       "      <th>Product line</th>\n",
       "      <th>Unit price</th>\n",
       "      <th>Quantity</th>\n",
       "      <th>Total</th>\n",
       "      <th>Date</th>\n",
       "      <th>Time</th>\n",
       "      <th>Payment</th>\n",
       "      <th>cogs</th>\n",
       "      <th>gross margin percentage</th>\n",
       "      <th>gross income</th>\n",
       "      <th>Rating</th>\n",
       "    </tr>\n",
       "  </thead>\n",
       "  <tbody>\n",
       "    <tr>\n",
       "      <th>0</th>\n",
       "      <td>750-67-8428</td>\n",
       "      <td>A</td>\n",
       "      <td>Yangon</td>\n",
       "      <td>Member</td>\n",
       "      <td>Female</td>\n",
       "      <td>Health and beauty</td>\n",
       "      <td>74.69</td>\n",
       "      <td>7</td>\n",
       "      <td>548.9715</td>\n",
       "      <td>1/5/2019</td>\n",
       "      <td>13:08</td>\n",
       "      <td>Ewallet</td>\n",
       "      <td>522.83</td>\n",
       "      <td>4.761905</td>\n",
       "      <td>26.1415</td>\n",
       "      <td>9.1</td>\n",
       "    </tr>\n",
       "    <tr>\n",
       "      <th>1</th>\n",
       "      <td>226-31-3081</td>\n",
       "      <td>C</td>\n",
       "      <td>Naypyitaw</td>\n",
       "      <td>Normal</td>\n",
       "      <td>Female</td>\n",
       "      <td>Electronic accessories</td>\n",
       "      <td>15.28</td>\n",
       "      <td>5</td>\n",
       "      <td>80.2200</td>\n",
       "      <td>3/8/2019</td>\n",
       "      <td>10:29</td>\n",
       "      <td>Cash</td>\n",
       "      <td>76.40</td>\n",
       "      <td>4.761905</td>\n",
       "      <td>3.8200</td>\n",
       "      <td>9.6</td>\n",
       "    </tr>\n",
       "    <tr>\n",
       "      <th>2</th>\n",
       "      <td>631-41-3108</td>\n",
       "      <td>A</td>\n",
       "      <td>Yangon</td>\n",
       "      <td>Normal</td>\n",
       "      <td>Male</td>\n",
       "      <td>Home and lifestyle</td>\n",
       "      <td>46.33</td>\n",
       "      <td>7</td>\n",
       "      <td>340.5255</td>\n",
       "      <td>3/3/2019</td>\n",
       "      <td>13:23</td>\n",
       "      <td>Credit card</td>\n",
       "      <td>324.31</td>\n",
       "      <td>4.761905</td>\n",
       "      <td>16.2155</td>\n",
       "      <td>7.4</td>\n",
       "    </tr>\n",
       "    <tr>\n",
       "      <th>3</th>\n",
       "      <td>123-19-1176</td>\n",
       "      <td>A</td>\n",
       "      <td>Yangon</td>\n",
       "      <td>Member</td>\n",
       "      <td>Male</td>\n",
       "      <td>Health and beauty</td>\n",
       "      <td>58.22</td>\n",
       "      <td>8</td>\n",
       "      <td>489.0480</td>\n",
       "      <td>1/27/2019</td>\n",
       "      <td>20:33</td>\n",
       "      <td>Ewallet</td>\n",
       "      <td>465.76</td>\n",
       "      <td>4.761905</td>\n",
       "      <td>23.2880</td>\n",
       "      <td>8.4</td>\n",
       "    </tr>\n",
       "    <tr>\n",
       "      <th>4</th>\n",
       "      <td>373-73-7910</td>\n",
       "      <td>A</td>\n",
       "      <td>Yangon</td>\n",
       "      <td>Normal</td>\n",
       "      <td>Male</td>\n",
       "      <td>Sports and travel</td>\n",
       "      <td>86.31</td>\n",
       "      <td>7</td>\n",
       "      <td>634.3785</td>\n",
       "      <td>2/8/2019</td>\n",
       "      <td>10:37</td>\n",
       "      <td>Ewallet</td>\n",
       "      <td>604.17</td>\n",
       "      <td>4.761905</td>\n",
       "      <td>30.2085</td>\n",
       "      <td>5.3</td>\n",
       "    </tr>\n",
       "    <tr>\n",
       "      <th>...</th>\n",
       "      <td>...</td>\n",
       "      <td>...</td>\n",
       "      <td>...</td>\n",
       "      <td>...</td>\n",
       "      <td>...</td>\n",
       "      <td>...</td>\n",
       "      <td>...</td>\n",
       "      <td>...</td>\n",
       "      <td>...</td>\n",
       "      <td>...</td>\n",
       "      <td>...</td>\n",
       "      <td>...</td>\n",
       "      <td>...</td>\n",
       "      <td>...</td>\n",
       "      <td>...</td>\n",
       "      <td>...</td>\n",
       "    </tr>\n",
       "    <tr>\n",
       "      <th>995</th>\n",
       "      <td>233-67-5758</td>\n",
       "      <td>C</td>\n",
       "      <td>Naypyitaw</td>\n",
       "      <td>Normal</td>\n",
       "      <td>Male</td>\n",
       "      <td>Health and beauty</td>\n",
       "      <td>40.35</td>\n",
       "      <td>1</td>\n",
       "      <td>42.3675</td>\n",
       "      <td>1/29/2019</td>\n",
       "      <td>13:46</td>\n",
       "      <td>Ewallet</td>\n",
       "      <td>40.35</td>\n",
       "      <td>4.761905</td>\n",
       "      <td>2.0175</td>\n",
       "      <td>6.2</td>\n",
       "    </tr>\n",
       "    <tr>\n",
       "      <th>996</th>\n",
       "      <td>303-96-2227</td>\n",
       "      <td>B</td>\n",
       "      <td>Mandalay</td>\n",
       "      <td>Normal</td>\n",
       "      <td>Female</td>\n",
       "      <td>Home and lifestyle</td>\n",
       "      <td>97.38</td>\n",
       "      <td>10</td>\n",
       "      <td>1022.4900</td>\n",
       "      <td>3/2/2019</td>\n",
       "      <td>17:16</td>\n",
       "      <td>Ewallet</td>\n",
       "      <td>973.80</td>\n",
       "      <td>4.761905</td>\n",
       "      <td>48.6900</td>\n",
       "      <td>4.4</td>\n",
       "    </tr>\n",
       "    <tr>\n",
       "      <th>997</th>\n",
       "      <td>727-02-1313</td>\n",
       "      <td>A</td>\n",
       "      <td>Yangon</td>\n",
       "      <td>Member</td>\n",
       "      <td>Male</td>\n",
       "      <td>Food and beverages</td>\n",
       "      <td>31.84</td>\n",
       "      <td>1</td>\n",
       "      <td>33.4320</td>\n",
       "      <td>2/9/2019</td>\n",
       "      <td>13:22</td>\n",
       "      <td>Cash</td>\n",
       "      <td>31.84</td>\n",
       "      <td>4.761905</td>\n",
       "      <td>1.5920</td>\n",
       "      <td>7.7</td>\n",
       "    </tr>\n",
       "    <tr>\n",
       "      <th>998</th>\n",
       "      <td>347-56-2442</td>\n",
       "      <td>A</td>\n",
       "      <td>Yangon</td>\n",
       "      <td>Normal</td>\n",
       "      <td>Male</td>\n",
       "      <td>Home and lifestyle</td>\n",
       "      <td>65.82</td>\n",
       "      <td>1</td>\n",
       "      <td>69.1110</td>\n",
       "      <td>2/22/2019</td>\n",
       "      <td>15:33</td>\n",
       "      <td>Cash</td>\n",
       "      <td>65.82</td>\n",
       "      <td>4.761905</td>\n",
       "      <td>3.2910</td>\n",
       "      <td>4.1</td>\n",
       "    </tr>\n",
       "    <tr>\n",
       "      <th>999</th>\n",
       "      <td>849-09-3807</td>\n",
       "      <td>A</td>\n",
       "      <td>Yangon</td>\n",
       "      <td>Member</td>\n",
       "      <td>Female</td>\n",
       "      <td>Fashion accessories</td>\n",
       "      <td>88.34</td>\n",
       "      <td>7</td>\n",
       "      <td>649.2990</td>\n",
       "      <td>2/18/2019</td>\n",
       "      <td>13:28</td>\n",
       "      <td>Cash</td>\n",
       "      <td>618.38</td>\n",
       "      <td>4.761905</td>\n",
       "      <td>30.9190</td>\n",
       "      <td>6.6</td>\n",
       "    </tr>\n",
       "  </tbody>\n",
       "</table>\n",
       "<p>1000 rows × 16 columns</p>\n",
       "</div>"
      ],
      "text/plain": [
       "      Invoice ID Branch       City Customer type  Gender  \\\n",
       "0    750-67-8428      A     Yangon        Member  Female   \n",
       "1    226-31-3081      C  Naypyitaw        Normal  Female   \n",
       "2    631-41-3108      A     Yangon        Normal    Male   \n",
       "3    123-19-1176      A     Yangon        Member    Male   \n",
       "4    373-73-7910      A     Yangon        Normal    Male   \n",
       "..           ...    ...        ...           ...     ...   \n",
       "995  233-67-5758      C  Naypyitaw        Normal    Male   \n",
       "996  303-96-2227      B   Mandalay        Normal  Female   \n",
       "997  727-02-1313      A     Yangon        Member    Male   \n",
       "998  347-56-2442      A     Yangon        Normal    Male   \n",
       "999  849-09-3807      A     Yangon        Member  Female   \n",
       "\n",
       "               Product line  Unit price  Quantity      Total       Date  \\\n",
       "0         Health and beauty       74.69         7   548.9715   1/5/2019   \n",
       "1    Electronic accessories       15.28         5    80.2200   3/8/2019   \n",
       "2        Home and lifestyle       46.33         7   340.5255   3/3/2019   \n",
       "3         Health and beauty       58.22         8   489.0480  1/27/2019   \n",
       "4         Sports and travel       86.31         7   634.3785   2/8/2019   \n",
       "..                      ...         ...       ...        ...        ...   \n",
       "995       Health and beauty       40.35         1    42.3675  1/29/2019   \n",
       "996      Home and lifestyle       97.38        10  1022.4900   3/2/2019   \n",
       "997      Food and beverages       31.84         1    33.4320   2/9/2019   \n",
       "998      Home and lifestyle       65.82         1    69.1110  2/22/2019   \n",
       "999     Fashion accessories       88.34         7   649.2990  2/18/2019   \n",
       "\n",
       "      Time      Payment    cogs  gross margin percentage  gross income  Rating  \n",
       "0    13:08      Ewallet  522.83                 4.761905       26.1415     9.1  \n",
       "1    10:29         Cash   76.40                 4.761905        3.8200     9.6  \n",
       "2    13:23  Credit card  324.31                 4.761905       16.2155     7.4  \n",
       "3    20:33      Ewallet  465.76                 4.761905       23.2880     8.4  \n",
       "4    10:37      Ewallet  604.17                 4.761905       30.2085     5.3  \n",
       "..     ...          ...     ...                      ...           ...     ...  \n",
       "995  13:46      Ewallet   40.35                 4.761905        2.0175     6.2  \n",
       "996  17:16      Ewallet  973.80                 4.761905       48.6900     4.4  \n",
       "997  13:22         Cash   31.84                 4.761905        1.5920     7.7  \n",
       "998  15:33         Cash   65.82                 4.761905        3.2910     4.1  \n",
       "999  13:28         Cash  618.38                 4.761905       30.9190     6.6  \n",
       "\n",
       "[1000 rows x 16 columns]"
      ]
     },
     "execution_count": 3,
     "metadata": {},
     "output_type": "execute_result"
    }
   ],
   "source": [
    "dataset  #looking at the dataset"
   ]
  },
  {
   "cell_type": "markdown",
   "id": "ab168f1c",
   "metadata": {},
   "source": [
    "## Exploratory Data Analysis and Data Visualization "
   ]
  },
  {
   "cell_type": "code",
   "execution_count": 4,
   "id": "cd28565e",
   "metadata": {},
   "outputs": [
    {
     "data": {
      "text/html": [
       "<div>\n",
       "<style scoped>\n",
       "    .dataframe tbody tr th:only-of-type {\n",
       "        vertical-align: middle;\n",
       "    }\n",
       "\n",
       "    .dataframe tbody tr th {\n",
       "        vertical-align: top;\n",
       "    }\n",
       "\n",
       "    .dataframe thead th {\n",
       "        text-align: right;\n",
       "    }\n",
       "</style>\n",
       "<table border=\"1\" class=\"dataframe\">\n",
       "  <thead>\n",
       "    <tr style=\"text-align: right;\">\n",
       "      <th></th>\n",
       "      <th>Invoice ID</th>\n",
       "      <th>Branch</th>\n",
       "      <th>City</th>\n",
       "      <th>Customer type</th>\n",
       "      <th>Gender</th>\n",
       "      <th>Product line</th>\n",
       "      <th>Unit price</th>\n",
       "      <th>Quantity</th>\n",
       "      <th>Total</th>\n",
       "      <th>Date</th>\n",
       "      <th>Time</th>\n",
       "      <th>Payment</th>\n",
       "      <th>cogs</th>\n",
       "      <th>gross margin percentage</th>\n",
       "      <th>gross income</th>\n",
       "      <th>Rating</th>\n",
       "    </tr>\n",
       "  </thead>\n",
       "  <tbody>\n",
       "    <tr>\n",
       "      <th>0</th>\n",
       "      <td>750-67-8428</td>\n",
       "      <td>A</td>\n",
       "      <td>Yangon</td>\n",
       "      <td>Member</td>\n",
       "      <td>Female</td>\n",
       "      <td>Health and beauty</td>\n",
       "      <td>74.69</td>\n",
       "      <td>7</td>\n",
       "      <td>548.9715</td>\n",
       "      <td>1/5/2019</td>\n",
       "      <td>13:08</td>\n",
       "      <td>Ewallet</td>\n",
       "      <td>522.83</td>\n",
       "      <td>4.761905</td>\n",
       "      <td>26.1415</td>\n",
       "      <td>9.1</td>\n",
       "    </tr>\n",
       "    <tr>\n",
       "      <th>1</th>\n",
       "      <td>226-31-3081</td>\n",
       "      <td>C</td>\n",
       "      <td>Naypyitaw</td>\n",
       "      <td>Normal</td>\n",
       "      <td>Female</td>\n",
       "      <td>Electronic accessories</td>\n",
       "      <td>15.28</td>\n",
       "      <td>5</td>\n",
       "      <td>80.2200</td>\n",
       "      <td>3/8/2019</td>\n",
       "      <td>10:29</td>\n",
       "      <td>Cash</td>\n",
       "      <td>76.40</td>\n",
       "      <td>4.761905</td>\n",
       "      <td>3.8200</td>\n",
       "      <td>9.6</td>\n",
       "    </tr>\n",
       "    <tr>\n",
       "      <th>2</th>\n",
       "      <td>631-41-3108</td>\n",
       "      <td>A</td>\n",
       "      <td>Yangon</td>\n",
       "      <td>Normal</td>\n",
       "      <td>Male</td>\n",
       "      <td>Home and lifestyle</td>\n",
       "      <td>46.33</td>\n",
       "      <td>7</td>\n",
       "      <td>340.5255</td>\n",
       "      <td>3/3/2019</td>\n",
       "      <td>13:23</td>\n",
       "      <td>Credit card</td>\n",
       "      <td>324.31</td>\n",
       "      <td>4.761905</td>\n",
       "      <td>16.2155</td>\n",
       "      <td>7.4</td>\n",
       "    </tr>\n",
       "    <tr>\n",
       "      <th>3</th>\n",
       "      <td>123-19-1176</td>\n",
       "      <td>A</td>\n",
       "      <td>Yangon</td>\n",
       "      <td>Member</td>\n",
       "      <td>Male</td>\n",
       "      <td>Health and beauty</td>\n",
       "      <td>58.22</td>\n",
       "      <td>8</td>\n",
       "      <td>489.0480</td>\n",
       "      <td>1/27/2019</td>\n",
       "      <td>20:33</td>\n",
       "      <td>Ewallet</td>\n",
       "      <td>465.76</td>\n",
       "      <td>4.761905</td>\n",
       "      <td>23.2880</td>\n",
       "      <td>8.4</td>\n",
       "    </tr>\n",
       "    <tr>\n",
       "      <th>4</th>\n",
       "      <td>373-73-7910</td>\n",
       "      <td>A</td>\n",
       "      <td>Yangon</td>\n",
       "      <td>Normal</td>\n",
       "      <td>Male</td>\n",
       "      <td>Sports and travel</td>\n",
       "      <td>86.31</td>\n",
       "      <td>7</td>\n",
       "      <td>634.3785</td>\n",
       "      <td>2/8/2019</td>\n",
       "      <td>10:37</td>\n",
       "      <td>Ewallet</td>\n",
       "      <td>604.17</td>\n",
       "      <td>4.761905</td>\n",
       "      <td>30.2085</td>\n",
       "      <td>5.3</td>\n",
       "    </tr>\n",
       "  </tbody>\n",
       "</table>\n",
       "</div>"
      ],
      "text/plain": [
       "    Invoice ID Branch       City Customer type  Gender  \\\n",
       "0  750-67-8428      A     Yangon        Member  Female   \n",
       "1  226-31-3081      C  Naypyitaw        Normal  Female   \n",
       "2  631-41-3108      A     Yangon        Normal    Male   \n",
       "3  123-19-1176      A     Yangon        Member    Male   \n",
       "4  373-73-7910      A     Yangon        Normal    Male   \n",
       "\n",
       "             Product line  Unit price  Quantity     Total       Date   Time  \\\n",
       "0       Health and beauty       74.69         7  548.9715   1/5/2019  13:08   \n",
       "1  Electronic accessories       15.28         5   80.2200   3/8/2019  10:29   \n",
       "2      Home and lifestyle       46.33         7  340.5255   3/3/2019  13:23   \n",
       "3       Health and beauty       58.22         8  489.0480  1/27/2019  20:33   \n",
       "4       Sports and travel       86.31         7  634.3785   2/8/2019  10:37   \n",
       "\n",
       "       Payment    cogs  gross margin percentage  gross income  Rating  \n",
       "0      Ewallet  522.83                 4.761905       26.1415     9.1  \n",
       "1         Cash   76.40                 4.761905        3.8200     9.6  \n",
       "2  Credit card  324.31                 4.761905       16.2155     7.4  \n",
       "3      Ewallet  465.76                 4.761905       23.2880     8.4  \n",
       "4      Ewallet  604.17                 4.761905       30.2085     5.3  "
      ]
     },
     "execution_count": 4,
     "metadata": {},
     "output_type": "execute_result"
    }
   ],
   "source": [
    "dataset.head()   # observe the head of dataset"
   ]
  },
  {
   "cell_type": "markdown",
   "id": "d002463c",
   "metadata": {},
   "source": [
    "First, lets look at the general information about the dataset."
   ]
  },
  {
   "cell_type": "code",
   "execution_count": 5,
   "id": "91dcd32f",
   "metadata": {},
   "outputs": [
    {
     "name": "stdout",
     "output_type": "stream",
     "text": [
      "<class 'pandas.core.frame.DataFrame'>\n",
      "RangeIndex: 1000 entries, 0 to 999\n",
      "Data columns (total 16 columns):\n",
      " #   Column                   Non-Null Count  Dtype  \n",
      "---  ------                   --------------  -----  \n",
      " 0   Invoice ID               1000 non-null   object \n",
      " 1   Branch                   1000 non-null   object \n",
      " 2   City                     1000 non-null   object \n",
      " 3   Customer type            1000 non-null   object \n",
      " 4   Gender                   1000 non-null   object \n",
      " 5   Product line             1000 non-null   object \n",
      " 6   Unit price               1000 non-null   float64\n",
      " 7   Quantity                 1000 non-null   int64  \n",
      " 8   Total                    1000 non-null   float64\n",
      " 9   Date                     1000 non-null   object \n",
      " 10  Time                     1000 non-null   object \n",
      " 11  Payment                  1000 non-null   object \n",
      " 12  cogs                     1000 non-null   float64\n",
      " 13  gross margin percentage  1000 non-null   float64\n",
      " 14  gross income             1000 non-null   float64\n",
      " 15  Rating                   1000 non-null   float64\n",
      "dtypes: float64(6), int64(1), object(9)\n",
      "memory usage: 125.1+ KB\n"
     ]
    }
   ],
   "source": [
    "dataset.info()   # getting information about the dataset"
   ]
  },
  {
   "cell_type": "code",
   "execution_count": 6,
   "id": "75382835",
   "metadata": {},
   "outputs": [
    {
     "data": {
      "text/plain": [
       "Invoice ID                 0\n",
       "Branch                     0\n",
       "City                       0\n",
       "Customer type              0\n",
       "Gender                     0\n",
       "Product line               0\n",
       "Unit price                 0\n",
       "Quantity                   0\n",
       "Total                      0\n",
       "Date                       0\n",
       "Time                       0\n",
       "Payment                    0\n",
       "cogs                       0\n",
       "gross margin percentage    0\n",
       "gross income               0\n",
       "Rating                     0\n",
       "dtype: int64"
      ]
     },
     "execution_count": 6,
     "metadata": {},
     "output_type": "execute_result"
    }
   ],
   "source": [
    "dataset.isnull().sum()   #Finding the number of missing samples in each column"
   ]
  },
  {
   "cell_type": "code",
   "execution_count": 7,
   "id": "54bc7c10",
   "metadata": {},
   "outputs": [
    {
     "data": {
      "text/plain": [
       "Invoice ID                 1000\n",
       "Branch                        3\n",
       "City                          3\n",
       "Customer type                 2\n",
       "Gender                        2\n",
       "Product line                  6\n",
       "Unit price                  943\n",
       "Quantity                     10\n",
       "Total                       990\n",
       "Date                         89\n",
       "Time                        506\n",
       "Payment                       3\n",
       "cogs                        990\n",
       "gross margin percentage       1\n",
       "gross income                990\n",
       "Rating                       61\n",
       "dtype: int64"
      ]
     },
     "execution_count": 7,
     "metadata": {},
     "output_type": "execute_result"
    }
   ],
   "source": [
    "dataset.nunique()   # To check for distinct values in a=each column"
   ]
  },
  {
   "cell_type": "code",
   "execution_count": 8,
   "id": "02a2fa19",
   "metadata": {},
   "outputs": [
    {
     "data": {
      "text/html": [
       "<div>\n",
       "<style scoped>\n",
       "    .dataframe tbody tr th:only-of-type {\n",
       "        vertical-align: middle;\n",
       "    }\n",
       "\n",
       "    .dataframe tbody tr th {\n",
       "        vertical-align: top;\n",
       "    }\n",
       "\n",
       "    .dataframe thead th {\n",
       "        text-align: right;\n",
       "    }\n",
       "</style>\n",
       "<table border=\"1\" class=\"dataframe\">\n",
       "  <thead>\n",
       "    <tr style=\"text-align: right;\">\n",
       "      <th></th>\n",
       "      <th>Unit price</th>\n",
       "      <th>Quantity</th>\n",
       "      <th>Total</th>\n",
       "      <th>cogs</th>\n",
       "      <th>gross margin percentage</th>\n",
       "      <th>gross income</th>\n",
       "      <th>Rating</th>\n",
       "    </tr>\n",
       "  </thead>\n",
       "  <tbody>\n",
       "    <tr>\n",
       "      <th>count</th>\n",
       "      <td>1000.000000</td>\n",
       "      <td>1000.000000</td>\n",
       "      <td>1000.000000</td>\n",
       "      <td>1000.00000</td>\n",
       "      <td>1.000000e+03</td>\n",
       "      <td>1000.000000</td>\n",
       "      <td>1000.00000</td>\n",
       "    </tr>\n",
       "    <tr>\n",
       "      <th>mean</th>\n",
       "      <td>55.672130</td>\n",
       "      <td>5.510000</td>\n",
       "      <td>322.966749</td>\n",
       "      <td>307.58738</td>\n",
       "      <td>4.761905e+00</td>\n",
       "      <td>15.379369</td>\n",
       "      <td>6.97270</td>\n",
       "    </tr>\n",
       "    <tr>\n",
       "      <th>std</th>\n",
       "      <td>26.494628</td>\n",
       "      <td>2.923431</td>\n",
       "      <td>245.885335</td>\n",
       "      <td>234.17651</td>\n",
       "      <td>6.131498e-14</td>\n",
       "      <td>11.708825</td>\n",
       "      <td>1.71858</td>\n",
       "    </tr>\n",
       "    <tr>\n",
       "      <th>min</th>\n",
       "      <td>10.080000</td>\n",
       "      <td>1.000000</td>\n",
       "      <td>10.678500</td>\n",
       "      <td>10.17000</td>\n",
       "      <td>4.761905e+00</td>\n",
       "      <td>0.508500</td>\n",
       "      <td>4.00000</td>\n",
       "    </tr>\n",
       "    <tr>\n",
       "      <th>25%</th>\n",
       "      <td>32.875000</td>\n",
       "      <td>3.000000</td>\n",
       "      <td>124.422375</td>\n",
       "      <td>118.49750</td>\n",
       "      <td>4.761905e+00</td>\n",
       "      <td>5.924875</td>\n",
       "      <td>5.50000</td>\n",
       "    </tr>\n",
       "    <tr>\n",
       "      <th>50%</th>\n",
       "      <td>55.230000</td>\n",
       "      <td>5.000000</td>\n",
       "      <td>253.848000</td>\n",
       "      <td>241.76000</td>\n",
       "      <td>4.761905e+00</td>\n",
       "      <td>12.088000</td>\n",
       "      <td>7.00000</td>\n",
       "    </tr>\n",
       "    <tr>\n",
       "      <th>75%</th>\n",
       "      <td>77.935000</td>\n",
       "      <td>8.000000</td>\n",
       "      <td>471.350250</td>\n",
       "      <td>448.90500</td>\n",
       "      <td>4.761905e+00</td>\n",
       "      <td>22.445250</td>\n",
       "      <td>8.50000</td>\n",
       "    </tr>\n",
       "    <tr>\n",
       "      <th>max</th>\n",
       "      <td>99.960000</td>\n",
       "      <td>10.000000</td>\n",
       "      <td>1042.650000</td>\n",
       "      <td>993.00000</td>\n",
       "      <td>4.761905e+00</td>\n",
       "      <td>49.650000</td>\n",
       "      <td>10.00000</td>\n",
       "    </tr>\n",
       "  </tbody>\n",
       "</table>\n",
       "</div>"
      ],
      "text/plain": [
       "        Unit price     Quantity        Total        cogs  \\\n",
       "count  1000.000000  1000.000000  1000.000000  1000.00000   \n",
       "mean     55.672130     5.510000   322.966749   307.58738   \n",
       "std      26.494628     2.923431   245.885335   234.17651   \n",
       "min      10.080000     1.000000    10.678500    10.17000   \n",
       "25%      32.875000     3.000000   124.422375   118.49750   \n",
       "50%      55.230000     5.000000   253.848000   241.76000   \n",
       "75%      77.935000     8.000000   471.350250   448.90500   \n",
       "max      99.960000    10.000000  1042.650000   993.00000   \n",
       "\n",
       "       gross margin percentage  gross income      Rating  \n",
       "count             1.000000e+03   1000.000000  1000.00000  \n",
       "mean              4.761905e+00     15.379369     6.97270  \n",
       "std               6.131498e-14     11.708825     1.71858  \n",
       "min               4.761905e+00      0.508500     4.00000  \n",
       "25%               4.761905e+00      5.924875     5.50000  \n",
       "50%               4.761905e+00     12.088000     7.00000  \n",
       "75%               4.761905e+00     22.445250     8.50000  \n",
       "max               4.761905e+00     49.650000    10.00000  "
      ]
     },
     "execution_count": 8,
     "metadata": {},
     "output_type": "execute_result"
    }
   ],
   "source": [
    "dataset.describe()  # to summarizes the count, mean, standard deviation, min, and max for numeric variables"
   ]
  },
  {
   "cell_type": "code",
   "execution_count": 9,
   "id": "59470aa7",
   "metadata": {},
   "outputs": [
    {
     "data": {
      "image/png": "[encoded data removed]",
      "text/plain": [
       "<Figure size 1440x1080 with 9 Axes>"
      ]
     },
     "metadata": {
      "needs_background": "light"
     },
     "output_type": "display_data"
    }
   ],
   "source": [
    "dataset.hist(bins=50,figsize=(20,15));  #discover and visualize the data"
   ]
  },
  {
   "cell_type": "code",
   "execution_count": 10,
   "id": "31538891",
   "metadata": {
    "scrolled": true
   },
   "outputs": [
    {
     "data": {
      "text/html": [
       "<div>\n",
       "<style scoped>\n",
       "    .dataframe tbody tr th:only-of-type {\n",
       "        vertical-align: middle;\n",
       "    }\n",
       "\n",
       "    .dataframe tbody tr th {\n",
       "        vertical-align: top;\n",
       "    }\n",
       "\n",
       "    .dataframe thead th {\n",
       "        text-align: right;\n",
       "    }\n",
       "</style>\n",
       "<table border=\"1\" class=\"dataframe\">\n",
       "  <thead>\n",
       "    <tr style=\"text-align: right;\">\n",
       "      <th></th>\n",
       "      <th>Unit price</th>\n",
       "      <th>Quantity</th>\n",
       "      <th>Total</th>\n",
       "      <th>cogs</th>\n",
       "      <th>gross margin percentage</th>\n",
       "      <th>gross income</th>\n",
       "      <th>Rating</th>\n",
       "    </tr>\n",
       "  </thead>\n",
       "  <tbody>\n",
       "    <tr>\n",
       "      <th>Unit price</th>\n",
       "      <td>1.000000</td>\n",
       "      <td>0.010778</td>\n",
       "      <td>0.633962</td>\n",
       "      <td>0.633962</td>\n",
       "      <td>NaN</td>\n",
       "      <td>0.633962</td>\n",
       "      <td>-0.008778</td>\n",
       "    </tr>\n",
       "    <tr>\n",
       "      <th>Quantity</th>\n",
       "      <td>0.010778</td>\n",
       "      <td>1.000000</td>\n",
       "      <td>0.705510</td>\n",
       "      <td>0.705510</td>\n",
       "      <td>NaN</td>\n",
       "      <td>0.705510</td>\n",
       "      <td>-0.015815</td>\n",
       "    </tr>\n",
       "    <tr>\n",
       "      <th>Total</th>\n",
       "      <td>0.633962</td>\n",
       "      <td>0.705510</td>\n",
       "      <td>1.000000</td>\n",
       "      <td>1.000000</td>\n",
       "      <td>NaN</td>\n",
       "      <td>1.000000</td>\n",
       "      <td>-0.036442</td>\n",
       "    </tr>\n",
       "    <tr>\n",
       "      <th>cogs</th>\n",
       "      <td>0.633962</td>\n",
       "      <td>0.705510</td>\n",
       "      <td>1.000000</td>\n",
       "      <td>1.000000</td>\n",
       "      <td>NaN</td>\n",
       "      <td>1.000000</td>\n",
       "      <td>-0.036442</td>\n",
       "    </tr>\n",
       "    <tr>\n",
       "      <th>gross margin percentage</th>\n",
       "      <td>NaN</td>\n",
       "      <td>NaN</td>\n",
       "      <td>NaN</td>\n",
       "      <td>NaN</td>\n",
       "      <td>NaN</td>\n",
       "      <td>NaN</td>\n",
       "      <td>NaN</td>\n",
       "    </tr>\n",
       "    <tr>\n",
       "      <th>gross income</th>\n",
       "      <td>0.633962</td>\n",
       "      <td>0.705510</td>\n",
       "      <td>1.000000</td>\n",
       "      <td>1.000000</td>\n",
       "      <td>NaN</td>\n",
       "      <td>1.000000</td>\n",
       "      <td>-0.036442</td>\n",
       "    </tr>\n",
       "    <tr>\n",
       "      <th>Rating</th>\n",
       "      <td>-0.008778</td>\n",
       "      <td>-0.015815</td>\n",
       "      <td>-0.036442</td>\n",
       "      <td>-0.036442</td>\n",
       "      <td>NaN</td>\n",
       "      <td>-0.036442</td>\n",
       "      <td>1.000000</td>\n",
       "    </tr>\n",
       "  </tbody>\n",
       "</table>\n",
       "</div>"
      ],
      "text/plain": [
       "                         Unit price  Quantity     Total      cogs  \\\n",
       "Unit price                 1.000000  0.010778  0.633962  0.633962   \n",
       "Quantity                   0.010778  1.000000  0.705510  0.705510   \n",
       "Total                      0.633962  0.705510  1.000000  1.000000   \n",
       "cogs                       0.633962  0.705510  1.000000  1.000000   \n",
       "gross margin percentage         NaN       NaN       NaN       NaN   \n",
       "gross income               0.633962  0.705510  1.000000  1.000000   \n",
       "Rating                    -0.008778 -0.015815 -0.036442 -0.036442   \n",
       "\n",
       "                         gross margin percentage  gross income    Rating  \n",
       "Unit price                                   NaN      0.633962 -0.008778  \n",
       "Quantity                                     NaN      0.705510 -0.015815  \n",
       "Total                                        NaN      1.000000 -0.036442  \n",
       "cogs                                         NaN      1.000000 -0.036442  \n",
       "gross margin percentage                      NaN           NaN       NaN  \n",
       "gross income                                 NaN      1.000000 -0.036442  \n",
       "Rating                                       NaN     -0.036442  1.000000  "
      ]
     },
     "execution_count": 10,
     "metadata": {},
     "output_type": "execute_result"
    }
   ],
   "source": [
    "corr_matrix = dataset.corr(method='pearson')   # creating a correlation matrix for current numerical attributes\n",
    "\n",
    "corr_matrix"
   ]
  },
  {
   "cell_type": "code",
   "execution_count": 11,
   "id": "b2f62c63",
   "metadata": {},
   "outputs": [
    {
     "data": {
      "text/plain": [
       "array([[<AxesSubplot:xlabel='Unit price', ylabel='Unit price'>,\n",
       "        <AxesSubplot:xlabel='Quantity', ylabel='Unit price'>,\n",
       "        <AxesSubplot:xlabel='Total', ylabel='Unit price'>,\n",
       "        <AxesSubplot:xlabel='cogs', ylabel='Unit price'>,\n",
       "        <AxesSubplot:xlabel='gross margin percentage', ylabel='Unit price'>,\n",
       "        <AxesSubplot:xlabel='gross income', ylabel='Unit price'>,\n",
       "        <AxesSubplot:xlabel='Rating', ylabel='Unit price'>],\n",
       "       [<AxesSubplot:xlabel='Unit price', ylabel='Quantity'>,\n",
       "        <AxesSubplot:xlabel='Quantity', ylabel='Quantity'>,\n",
       "        <AxesSubplot:xlabel='Total', ylabel='Quantity'>,\n",
       "        <AxesSubplot:xlabel='cogs', ylabel='Quantity'>,\n",
       "        <AxesSubplot:xlabel='gross margin percentage', ylabel='Quantity'>,\n",
       "        <AxesSubplot:xlabel='gross income', ylabel='Quantity'>,\n",
       "        <AxesSubplot:xlabel='Rating', ylabel='Quantity'>],\n",
       "       [<AxesSubplot:xlabel='Unit price', ylabel='Total'>,\n",
       "        <AxesSubplot:xlabel='Quantity', ylabel='Total'>,\n",
       "        <AxesSubplot:xlabel='Total', ylabel='Total'>,\n",
       "        <AxesSubplot:xlabel='cogs', ylabel='Total'>,\n",
       "        <AxesSubplot:xlabel='gross margin percentage', ylabel='Total'>,\n",
       "        <AxesSubplot:xlabel='gross income', ylabel='Total'>,\n",
       "        <AxesSubplot:xlabel='Rating', ylabel='Total'>],\n",
       "       [<AxesSubplot:xlabel='Unit price', ylabel='cogs'>,\n",
       "        <AxesSubplot:xlabel='Quantity', ylabel='cogs'>,\n",
       "        <AxesSubplot:xlabel='Total', ylabel='cogs'>,\n",
       "        <AxesSubplot:xlabel='cogs', ylabel='cogs'>,\n",
       "        <AxesSubplot:xlabel='gross margin percentage', ylabel='cogs'>,\n",
       "        <AxesSubplot:xlabel='gross income', ylabel='cogs'>,\n",
       "        <AxesSubplot:xlabel='Rating', ylabel='cogs'>],\n",
       "       [<AxesSubplot:xlabel='Unit price', ylabel='gross margin percentage'>,\n",
       "        <AxesSubplot:xlabel='Quantity', ylabel='gross margin percentage'>,\n",
       "        <AxesSubplot:xlabel='Total', ylabel='gross margin percentage'>,\n",
       "        <AxesSubplot:xlabel='cogs', ylabel='gross margin percentage'>,\n",
       "        <AxesSubplot:xlabel='gross margin percentage', ylabel='gross margin percentage'>,\n",
       "        <AxesSubplot:xlabel='gross income', ylabel='gross margin percentage'>,\n",
       "        <AxesSubplot:xlabel='Rating', ylabel='gross margin percentage'>],\n",
       "       [<AxesSubplot:xlabel='Unit price', ylabel='gross income'>,\n",
       "        <AxesSubplot:xlabel='Quantity', ylabel='gross income'>,\n",
       "        <AxesSubplot:xlabel='Total', ylabel='gross income'>,\n",
       "        <AxesSubplot:xlabel='cogs', ylabel='gross income'>,\n",
       "        <AxesSubplot:xlabel='gross margin percentage', ylabel='gross income'>,\n",
       "        <AxesSubplot:xlabel='gross income', ylabel='gross income'>,\n",
       "        <AxesSubplot:xlabel='Rating', ylabel='gross income'>],\n",
       "       [<AxesSubplot:xlabel='Unit price', ylabel='Rating'>,\n",
       "        <AxesSubplot:xlabel='Quantity', ylabel='Rating'>,\n",
       "        <AxesSubplot:xlabel='Total', ylabel='Rating'>,\n",
       "        <AxesSubplot:xlabel='cogs', ylabel='Rating'>,\n",
       "        <AxesSubplot:xlabel='gross margin percentage', ylabel='Rating'>,\n",
       "        <AxesSubplot:xlabel='gross income', ylabel='Rating'>,\n",
       "        <AxesSubplot:xlabel='Rating', ylabel='Rating'>]], dtype=object)"
      ]
     },
     "execution_count": 11,
     "metadata": {},
     "output_type": "execute_result"
    },
    {
     "data": {
      "image/png": "[encoded data removed]",
      "text/plain": [
       "<Figure size 1080x1080 with 49 Axes>"
      ]
     },
     "metadata": {
      "needs_background": "light"
     },
     "output_type": "display_data"
    }
   ],
   "source": [
    "scatter_matrix(dataset, figsize=(15,15)) #plotting the scatter matrix for the dataset"
   ]
  },
  {
   "cell_type": "markdown",
   "id": "c27bc222",
   "metadata": {},
   "source": [
    "Following are some observations I made - \n",
    "1. The dataset has a total of 1000 samples. There are a total of 16 attributes, and none of the samples have any missing attribute value.\n",
    "2. It can also be observed that the the dataset has a mix of numerical and categorical attributes, Which, during the data-preprocessing will have to be encoded and transformed to numerical type.\n",
    "3. Some attributes such as 'Invoice ID', 'gross margin percentage', etc. will have to be dropped due to being irrevelent to the problem.\n",
    "4. The numerical attributes need to be scaled appropriately."
   ]
  },
  {
   "cell_type": "markdown",
   "id": "948d0bb2",
   "metadata": {},
   "source": [
    "## Data cleaning and preprocessing"
   ]
  },
  {
   "cell_type": "markdown",
   "id": "5bbf394f",
   "metadata": {},
   "source": [
    "The first step is to convert the date and time attributes as required"
   ]
  },
  {
   "cell_type": "code",
   "execution_count": 12,
   "id": "68a10a14",
   "metadata": {},
   "outputs": [
    {
     "data": {
      "text/plain": [
       "0       1/5/2019\n",
       "1       3/8/2019\n",
       "2       3/3/2019\n",
       "3      1/27/2019\n",
       "4       2/8/2019\n",
       "         ...    \n",
       "995    1/29/2019\n",
       "996     3/2/2019\n",
       "997     2/9/2019\n",
       "998    2/22/2019\n",
       "999    2/18/2019\n",
       "Name: Date, Length: 1000, dtype: object"
      ]
     },
     "execution_count": 12,
     "metadata": {},
     "output_type": "execute_result"
    }
   ],
   "source": [
    "dataset['Date']"
   ]
  },
  {
   "cell_type": "code",
   "execution_count": 13,
   "id": "61bb8127",
   "metadata": {},
   "outputs": [
    {
     "data": {
      "text/html": [
       "<div>\n",
       "<style scoped>\n",
       "    .dataframe tbody tr th:only-of-type {\n",
       "        vertical-align: middle;\n",
       "    }\n",
       "\n",
       "    .dataframe tbody tr th {\n",
       "        vertical-align: top;\n",
       "    }\n",
       "\n",
       "    .dataframe thead th {\n",
       "        text-align: right;\n",
       "    }\n",
       "</style>\n",
       "<table border=\"1\" class=\"dataframe\">\n",
       "  <thead>\n",
       "    <tr style=\"text-align: right;\">\n",
       "      <th></th>\n",
       "      <th>Invoice ID</th>\n",
       "      <th>Branch</th>\n",
       "      <th>City</th>\n",
       "      <th>Customer type</th>\n",
       "      <th>Gender</th>\n",
       "      <th>Product line</th>\n",
       "      <th>Unit price</th>\n",
       "      <th>Quantity</th>\n",
       "      <th>Total</th>\n",
       "      <th>Date</th>\n",
       "      <th>Time</th>\n",
       "      <th>Payment</th>\n",
       "      <th>cogs</th>\n",
       "      <th>gross margin percentage</th>\n",
       "      <th>gross income</th>\n",
       "      <th>Rating</th>\n",
       "    </tr>\n",
       "  </thead>\n",
       "  <tbody>\n",
       "    <tr>\n",
       "      <th>0</th>\n",
       "      <td>750-67-8428</td>\n",
       "      <td>A</td>\n",
       "      <td>Yangon</td>\n",
       "      <td>Member</td>\n",
       "      <td>Female</td>\n",
       "      <td>Health and beauty</td>\n",
       "      <td>74.69</td>\n",
       "      <td>7</td>\n",
       "      <td>548.9715</td>\n",
       "      <td>5</td>\n",
       "      <td>2</td>\n",
       "      <td>Ewallet</td>\n",
       "      <td>522.83</td>\n",
       "      <td>4.761905</td>\n",
       "      <td>26.1415</td>\n",
       "      <td>9.1</td>\n",
       "    </tr>\n",
       "    <tr>\n",
       "      <th>1</th>\n",
       "      <td>226-31-3081</td>\n",
       "      <td>C</td>\n",
       "      <td>Naypyitaw</td>\n",
       "      <td>Normal</td>\n",
       "      <td>Female</td>\n",
       "      <td>Electronic accessories</td>\n",
       "      <td>15.28</td>\n",
       "      <td>5</td>\n",
       "      <td>80.2200</td>\n",
       "      <td>4</td>\n",
       "      <td>1</td>\n",
       "      <td>Cash</td>\n",
       "      <td>76.40</td>\n",
       "      <td>4.761905</td>\n",
       "      <td>3.8200</td>\n",
       "      <td>9.6</td>\n",
       "    </tr>\n",
       "    <tr>\n",
       "      <th>2</th>\n",
       "      <td>631-41-3108</td>\n",
       "      <td>A</td>\n",
       "      <td>Yangon</td>\n",
       "      <td>Normal</td>\n",
       "      <td>Male</td>\n",
       "      <td>Home and lifestyle</td>\n",
       "      <td>46.33</td>\n",
       "      <td>7</td>\n",
       "      <td>340.5255</td>\n",
       "      <td>6</td>\n",
       "      <td>2</td>\n",
       "      <td>Credit card</td>\n",
       "      <td>324.31</td>\n",
       "      <td>4.761905</td>\n",
       "      <td>16.2155</td>\n",
       "      <td>7.4</td>\n",
       "    </tr>\n",
       "    <tr>\n",
       "      <th>3</th>\n",
       "      <td>123-19-1176</td>\n",
       "      <td>A</td>\n",
       "      <td>Yangon</td>\n",
       "      <td>Member</td>\n",
       "      <td>Male</td>\n",
       "      <td>Health and beauty</td>\n",
       "      <td>58.22</td>\n",
       "      <td>8</td>\n",
       "      <td>489.0480</td>\n",
       "      <td>6</td>\n",
       "      <td>4</td>\n",
       "      <td>Ewallet</td>\n",
       "      <td>465.76</td>\n",
       "      <td>4.761905</td>\n",
       "      <td>23.2880</td>\n",
       "      <td>8.4</td>\n",
       "    </tr>\n",
       "    <tr>\n",
       "      <th>4</th>\n",
       "      <td>373-73-7910</td>\n",
       "      <td>A</td>\n",
       "      <td>Yangon</td>\n",
       "      <td>Normal</td>\n",
       "      <td>Male</td>\n",
       "      <td>Sports and travel</td>\n",
       "      <td>86.31</td>\n",
       "      <td>7</td>\n",
       "      <td>634.3785</td>\n",
       "      <td>4</td>\n",
       "      <td>1</td>\n",
       "      <td>Ewallet</td>\n",
       "      <td>604.17</td>\n",
       "      <td>4.761905</td>\n",
       "      <td>30.2085</td>\n",
       "      <td>5.3</td>\n",
       "    </tr>\n",
       "    <tr>\n",
       "      <th>...</th>\n",
       "      <td>...</td>\n",
       "      <td>...</td>\n",
       "      <td>...</td>\n",
       "      <td>...</td>\n",
       "      <td>...</td>\n",
       "      <td>...</td>\n",
       "      <td>...</td>\n",
       "      <td>...</td>\n",
       "      <td>...</td>\n",
       "      <td>...</td>\n",
       "      <td>...</td>\n",
       "      <td>...</td>\n",
       "      <td>...</td>\n",
       "      <td>...</td>\n",
       "      <td>...</td>\n",
       "      <td>...</td>\n",
       "    </tr>\n",
       "    <tr>\n",
       "      <th>995</th>\n",
       "      <td>233-67-5758</td>\n",
       "      <td>C</td>\n",
       "      <td>Naypyitaw</td>\n",
       "      <td>Normal</td>\n",
       "      <td>Male</td>\n",
       "      <td>Health and beauty</td>\n",
       "      <td>40.35</td>\n",
       "      <td>1</td>\n",
       "      <td>42.3675</td>\n",
       "      <td>1</td>\n",
       "      <td>2</td>\n",
       "      <td>Ewallet</td>\n",
       "      <td>40.35</td>\n",
       "      <td>4.761905</td>\n",
       "      <td>2.0175</td>\n",
       "      <td>6.2</td>\n",
       "    </tr>\n",
       "    <tr>\n",
       "      <th>996</th>\n",
       "      <td>303-96-2227</td>\n",
       "      <td>B</td>\n",
       "      <td>Mandalay</td>\n",
       "      <td>Normal</td>\n",
       "      <td>Female</td>\n",
       "      <td>Home and lifestyle</td>\n",
       "      <td>97.38</td>\n",
       "      <td>10</td>\n",
       "      <td>1022.4900</td>\n",
       "      <td>5</td>\n",
       "      <td>3</td>\n",
       "      <td>Ewallet</td>\n",
       "      <td>973.80</td>\n",
       "      <td>4.761905</td>\n",
       "      <td>48.6900</td>\n",
       "      <td>4.4</td>\n",
       "    </tr>\n",
       "    <tr>\n",
       "      <th>997</th>\n",
       "      <td>727-02-1313</td>\n",
       "      <td>A</td>\n",
       "      <td>Yangon</td>\n",
       "      <td>Member</td>\n",
       "      <td>Male</td>\n",
       "      <td>Food and beverages</td>\n",
       "      <td>31.84</td>\n",
       "      <td>1</td>\n",
       "      <td>33.4320</td>\n",
       "      <td>5</td>\n",
       "      <td>2</td>\n",
       "      <td>Cash</td>\n",
       "      <td>31.84</td>\n",
       "      <td>4.761905</td>\n",
       "      <td>1.5920</td>\n",
       "      <td>7.7</td>\n",
       "    </tr>\n",
       "    <tr>\n",
       "      <th>998</th>\n",
       "      <td>347-56-2442</td>\n",
       "      <td>A</td>\n",
       "      <td>Yangon</td>\n",
       "      <td>Normal</td>\n",
       "      <td>Male</td>\n",
       "      <td>Home and lifestyle</td>\n",
       "      <td>65.82</td>\n",
       "      <td>1</td>\n",
       "      <td>69.1110</td>\n",
       "      <td>4</td>\n",
       "      <td>2</td>\n",
       "      <td>Cash</td>\n",
       "      <td>65.82</td>\n",
       "      <td>4.761905</td>\n",
       "      <td>3.2910</td>\n",
       "      <td>4.1</td>\n",
       "    </tr>\n",
       "    <tr>\n",
       "      <th>999</th>\n",
       "      <td>849-09-3807</td>\n",
       "      <td>A</td>\n",
       "      <td>Yangon</td>\n",
       "      <td>Member</td>\n",
       "      <td>Female</td>\n",
       "      <td>Fashion accessories</td>\n",
       "      <td>88.34</td>\n",
       "      <td>7</td>\n",
       "      <td>649.2990</td>\n",
       "      <td>0</td>\n",
       "      <td>2</td>\n",
       "      <td>Cash</td>\n",
       "      <td>618.38</td>\n",
       "      <td>4.761905</td>\n",
       "      <td>30.9190</td>\n",
       "      <td>6.6</td>\n",
       "    </tr>\n",
       "  </tbody>\n",
       "</table>\n",
       "<p>1000 rows × 16 columns</p>\n",
       "</div>"
      ],
      "text/plain": [
       "      Invoice ID Branch       City Customer type  Gender  \\\n",
       "0    750-67-8428      A     Yangon        Member  Female   \n",
       "1    226-31-3081      C  Naypyitaw        Normal  Female   \n",
       "2    631-41-3108      A     Yangon        Normal    Male   \n",
       "3    123-19-1176      A     Yangon        Member    Male   \n",
       "4    373-73-7910      A     Yangon        Normal    Male   \n",
       "..           ...    ...        ...           ...     ...   \n",
       "995  233-67-5758      C  Naypyitaw        Normal    Male   \n",
       "996  303-96-2227      B   Mandalay        Normal  Female   \n",
       "997  727-02-1313      A     Yangon        Member    Male   \n",
       "998  347-56-2442      A     Yangon        Normal    Male   \n",
       "999  849-09-3807      A     Yangon        Member  Female   \n",
       "\n",
       "               Product line  Unit price  Quantity      Total  Date Time  \\\n",
       "0         Health and beauty       74.69         7   548.9715     5    2   \n",
       "1    Electronic accessories       15.28         5    80.2200     4    1   \n",
       "2        Home and lifestyle       46.33         7   340.5255     6    2   \n",
       "3         Health and beauty       58.22         8   489.0480     6    4   \n",
       "4         Sports and travel       86.31         7   634.3785     4    1   \n",
       "..                      ...         ...       ...        ...   ...  ...   \n",
       "995       Health and beauty       40.35         1    42.3675     1    2   \n",
       "996      Home and lifestyle       97.38        10  1022.4900     5    3   \n",
       "997      Food and beverages       31.84         1    33.4320     5    2   \n",
       "998      Home and lifestyle       65.82         1    69.1110     4    2   \n",
       "999     Fashion accessories       88.34         7   649.2990     0    2   \n",
       "\n",
       "         Payment    cogs  gross margin percentage  gross income  Rating  \n",
       "0        Ewallet  522.83                 4.761905       26.1415     9.1  \n",
       "1           Cash   76.40                 4.761905        3.8200     9.6  \n",
       "2    Credit card  324.31                 4.761905       16.2155     7.4  \n",
       "3        Ewallet  465.76                 4.761905       23.2880     8.4  \n",
       "4        Ewallet  604.17                 4.761905       30.2085     5.3  \n",
       "..           ...     ...                      ...           ...     ...  \n",
       "995      Ewallet   40.35                 4.761905        2.0175     6.2  \n",
       "996      Ewallet  973.80                 4.761905       48.6900     4.4  \n",
       "997         Cash   31.84                 4.761905        1.5920     7.7  \n",
       "998         Cash   65.82                 4.761905        3.2910     4.1  \n",
       "999         Cash  618.38                 4.761905       30.9190     6.6  \n",
       "\n",
       "[1000 rows x 16 columns]"
      ]
     },
     "execution_count": 13,
     "metadata": {},
     "output_type": "execute_result"
    }
   ],
   "source": [
    "# 0. Monday, 1. Tuesday, 2. Wednesday, 3. Thursday 4. Friday, 5. Saturday, 6. Sunday\n",
    "dataset['Date'] = pd.to_datetime(dataset['Date'])\n",
    "dataset['Date'] = dataset['Date'].dt.weekday\n",
    "\n",
    "# to handle time data\n",
    "hour = pd.to_datetime(dataset['Time']).dt.strftime('%H').astype('float')\n",
    "hour_cat = pd.cut(hour, bins=[0., 12.0, 16.0, 18.0, np.inf], labels=[1, 2, 3, 4])\n",
    "dataset['Time'] = hour_cat\n",
    "dataset"
   ]
  },
  {
   "cell_type": "markdown",
   "id": "1957d099",
   "metadata": {},
   "source": [
    "Now, for different models, different attributes are required. So for each model/question, I will create different dataset using pipelines."
   ]
  },
  {
   "cell_type": "markdown",
   "id": "8e273982",
   "metadata": {},
   "source": [
    "### Data Preprocessing Pipelines"
   ]
  },
  {
   "cell_type": "markdown",
   "id": "b282d28d",
   "metadata": {},
   "source": [
    "#### 1. For Multiple Linear Regression\n",
    "Here, I will drop the following columns - 'Invoice ID', 'Branch', 'City', 'Customer type', 'Gender','Total','Payment', 'cogs', 'gross margin percentage','Rating'. Because these attributes are not important for the purpose of task at hand."
   ]
  },
  {
   "cell_type": "code",
   "execution_count": 14,
   "id": "7f76d3a7",
   "metadata": {
    "scrolled": true
   },
   "outputs": [
    {
     "data": {
      "text/html": [
       "<div>\n",
       "<style scoped>\n",
       "    .dataframe tbody tr th:only-of-type {\n",
       "        vertical-align: middle;\n",
       "    }\n",
       "\n",
       "    .dataframe tbody tr th {\n",
       "        vertical-align: top;\n",
       "    }\n",
       "\n",
       "    .dataframe thead th {\n",
       "        text-align: right;\n",
       "    }\n",
       "</style>\n",
       "<table border=\"1\" class=\"dataframe\">\n",
       "  <thead>\n",
       "    <tr style=\"text-align: right;\">\n",
       "      <th></th>\n",
       "      <th>Product line</th>\n",
       "      <th>Unit price</th>\n",
       "      <th>Quantity</th>\n",
       "      <th>Date</th>\n",
       "      <th>Time</th>\n",
       "      <th>gross income</th>\n",
       "    </tr>\n",
       "  </thead>\n",
       "  <tbody>\n",
       "    <tr>\n",
       "      <th>0</th>\n",
       "      <td>Health and beauty</td>\n",
       "      <td>74.69</td>\n",
       "      <td>7</td>\n",
       "      <td>5</td>\n",
       "      <td>2</td>\n",
       "      <td>26.1415</td>\n",
       "    </tr>\n",
       "    <tr>\n",
       "      <th>1</th>\n",
       "      <td>Electronic accessories</td>\n",
       "      <td>15.28</td>\n",
       "      <td>5</td>\n",
       "      <td>4</td>\n",
       "      <td>1</td>\n",
       "      <td>3.8200</td>\n",
       "    </tr>\n",
       "    <tr>\n",
       "      <th>2</th>\n",
       "      <td>Home and lifestyle</td>\n",
       "      <td>46.33</td>\n",
       "      <td>7</td>\n",
       "      <td>6</td>\n",
       "      <td>2</td>\n",
       "      <td>16.2155</td>\n",
       "    </tr>\n",
       "    <tr>\n",
       "      <th>3</th>\n",
       "      <td>Health and beauty</td>\n",
       "      <td>58.22</td>\n",
       "      <td>8</td>\n",
       "      <td>6</td>\n",
       "      <td>4</td>\n",
       "      <td>23.2880</td>\n",
       "    </tr>\n",
       "    <tr>\n",
       "      <th>4</th>\n",
       "      <td>Sports and travel</td>\n",
       "      <td>86.31</td>\n",
       "      <td>7</td>\n",
       "      <td>4</td>\n",
       "      <td>1</td>\n",
       "      <td>30.2085</td>\n",
       "    </tr>\n",
       "    <tr>\n",
       "      <th>...</th>\n",
       "      <td>...</td>\n",
       "      <td>...</td>\n",
       "      <td>...</td>\n",
       "      <td>...</td>\n",
       "      <td>...</td>\n",
       "      <td>...</td>\n",
       "    </tr>\n",
       "    <tr>\n",
       "      <th>995</th>\n",
       "      <td>Health and beauty</td>\n",
       "      <td>40.35</td>\n",
       "      <td>1</td>\n",
       "      <td>1</td>\n",
       "      <td>2</td>\n",
       "      <td>2.0175</td>\n",
       "    </tr>\n",
       "    <tr>\n",
       "      <th>996</th>\n",
       "      <td>Home and lifestyle</td>\n",
       "      <td>97.38</td>\n",
       "      <td>10</td>\n",
       "      <td>5</td>\n",
       "      <td>3</td>\n",
       "      <td>48.6900</td>\n",
       "    </tr>\n",
       "    <tr>\n",
       "      <th>997</th>\n",
       "      <td>Food and beverages</td>\n",
       "      <td>31.84</td>\n",
       "      <td>1</td>\n",
       "      <td>5</td>\n",
       "      <td>2</td>\n",
       "      <td>1.5920</td>\n",
       "    </tr>\n",
       "    <tr>\n",
       "      <th>998</th>\n",
       "      <td>Home and lifestyle</td>\n",
       "      <td>65.82</td>\n",
       "      <td>1</td>\n",
       "      <td>4</td>\n",
       "      <td>2</td>\n",
       "      <td>3.2910</td>\n",
       "    </tr>\n",
       "    <tr>\n",
       "      <th>999</th>\n",
       "      <td>Fashion accessories</td>\n",
       "      <td>88.34</td>\n",
       "      <td>7</td>\n",
       "      <td>0</td>\n",
       "      <td>2</td>\n",
       "      <td>30.9190</td>\n",
       "    </tr>\n",
       "  </tbody>\n",
       "</table>\n",
       "<p>1000 rows × 6 columns</p>\n",
       "</div>"
      ],
      "text/plain": [
       "               Product line  Unit price  Quantity  Date Time  gross income\n",
       "0         Health and beauty       74.69         7     5    2       26.1415\n",
       "1    Electronic accessories       15.28         5     4    1        3.8200\n",
       "2        Home and lifestyle       46.33         7     6    2       16.2155\n",
       "3         Health and beauty       58.22         8     6    4       23.2880\n",
       "4         Sports and travel       86.31         7     4    1       30.2085\n",
       "..                      ...         ...       ...   ...  ...           ...\n",
       "995       Health and beauty       40.35         1     1    2        2.0175\n",
       "996      Home and lifestyle       97.38        10     5    3       48.6900\n",
       "997      Food and beverages       31.84         1     5    2        1.5920\n",
       "998      Home and lifestyle       65.82         1     4    2        3.2910\n",
       "999     Fashion accessories       88.34         7     0    2       30.9190\n",
       "\n",
       "[1000 rows x 6 columns]"
      ]
     },
     "execution_count": 14,
     "metadata": {},
     "output_type": "execute_result"
    }
   ],
   "source": [
    "lr_dataset = dataset.drop(['Invoice ID', 'Branch', 'City', 'Customer type', 'Gender','Total','Payment', 'cogs', 'gross margin percentage','Rating'],\n",
    "                  axis = 1)\n",
    "lr_dataset"
   ]
  },
  {
   "cell_type": "code",
   "execution_count": 15,
   "id": "9e460107",
   "metadata": {},
   "outputs": [],
   "source": [
    "lr_train_set, lr_test_set = train_test_split(lr_dataset,\n",
    "                                      test_size = 0.2,\n",
    "                                      shuffle = True,\n",
    "                                      random_state = 42)"
   ]
  },
  {
   "cell_type": "code",
   "execution_count": 16,
   "id": "dcf1e8e6",
   "metadata": {},
   "outputs": [],
   "source": [
    "num_attribs_lr =  np.hstack((lr_dataset.columns[1:3],lr_dataset.columns[5]))\n",
    "cat_attribs_lr = [\"Date\",\"Time\",\"Product line\" ]\n",
    "\n",
    "# Pipeline for numerical attributes\n",
    "num_pipeline_lr = Pipeline([('std_scaler', StandardScaler())]) \n",
    "# Complete Pipeline\n",
    "full_pipeline_lr = ColumnTransformer([('num', num_pipeline_lr, num_attribs_lr), \n",
    "                                   ('cat', OneHotEncoder(), cat_attribs_lr)]) "
   ]
  },
  {
   "cell_type": "code",
   "execution_count": 17,
   "id": "2c9848a7",
   "metadata": {},
   "outputs": [],
   "source": [
    "lr_train_set_temp = full_pipeline_lr.fit_transform(lr_train_set)\n",
    "lr_test_set_temp = full_pipeline_lr.transform(lr_test_set)"
   ]
  },
  {
   "cell_type": "code",
   "execution_count": 18,
   "id": "65053d02",
   "metadata": {},
   "outputs": [],
   "source": [
    "# creating the final dataset\n",
    "\n",
    "lr_train_set_prepared = pd.DataFrame(lr_train_set_temp,\n",
    "            columns = np.hstack((num_attribs_lr,\n",
    "            [\"Monday\",\"Tuesday\",\"Wednesday\",\"Thurday\",\"Friday\",\"Saturday\",\"Sunday\"],\n",
    "            [\"Morning\",\"Afternoon\",\"Evening\",\"Night\"],\n",
    "            [\"Fashion accessories\",\"Food and beverage\", \"Electronic accessories\",\"Sports and travel\",\"Home and lifestyle\",\"Health and beauty\"])),\n",
    "            index = lr_train_set.index)\n",
    "lr_test_set_prepared = pd.DataFrame(lr_test_set_temp,\n",
    "            columns = np.hstack((num_attribs_lr,\n",
    "            [\"Monday\",\"Tuesday\",\"Wednesday\",\"Thurday\",\"Friday\",\"Saturday\",\"Sunday\"],\n",
    "            [\"Morning\",\"Afternoon\",\"Evening\",\"Night\"],\n",
    "            [\"Fashion accessories\",\"Food and beverage\", \"Electronic accessories\",\"Sports and travel\",\"Home and lifestyle\",\"Health and beauty\"])),\n",
    "            index = lr_test_set.index)"
   ]
  },
  {
   "cell_type": "markdown",
   "id": "82ba4637",
   "metadata": {},
   "source": [
    "Now, saving the prepared datasets for future use"
   ]
  },
  {
   "cell_type": "code",
   "execution_count": 19,
   "id": "77385c29",
   "metadata": {},
   "outputs": [],
   "source": [
    "lr_train_set_prepared.to_csv(\"lr_train_set_prepared.csv\",index = False, sep = ',')\n",
    "lr_test_set_prepared.to_csv(\"lr_test_set_prepared.csv\",index = False, sep = ',')"
   ]
  },
  {
   "cell_type": "markdown",
   "id": "a32d52b9",
   "metadata": {},
   "source": [
    "#### 2. For Gender Classificaation Task\n",
    "\n",
    "Here, I will select only the samples from the Branch C. I will then drop the following columns - 'Invoice ID', 'Branch', 'City', 'Customer type','Unit price', 'Quantity', 'Total', 'Date', 'Time','cogs', 'gross margin percentage','Rating'. Because these attributes are not important for the purpose of task at hand."
   ]
  },
  {
   "cell_type": "code",
   "execution_count": 20,
   "id": "06e4db30",
   "metadata": {},
   "outputs": [
    {
     "data": {
      "text/html": [
       "<div>\n",
       "<style scoped>\n",
       "    .dataframe tbody tr th:only-of-type {\n",
       "        vertical-align: middle;\n",
       "    }\n",
       "\n",
       "    .dataframe tbody tr th {\n",
       "        vertical-align: top;\n",
       "    }\n",
       "\n",
       "    .dataframe thead th {\n",
       "        text-align: right;\n",
       "    }\n",
       "</style>\n",
       "<table border=\"1\" class=\"dataframe\">\n",
       "  <thead>\n",
       "    <tr style=\"text-align: right;\">\n",
       "      <th></th>\n",
       "      <th>Gender</th>\n",
       "      <th>Product line</th>\n",
       "      <th>Payment</th>\n",
       "      <th>gross income</th>\n",
       "    </tr>\n",
       "  </thead>\n",
       "  <tbody>\n",
       "    <tr>\n",
       "      <th>1</th>\n",
       "      <td>Female</td>\n",
       "      <td>Electronic accessories</td>\n",
       "      <td>Cash</td>\n",
       "      <td>3.8200</td>\n",
       "    </tr>\n",
       "    <tr>\n",
       "      <th>5</th>\n",
       "      <td>Male</td>\n",
       "      <td>Electronic accessories</td>\n",
       "      <td>Ewallet</td>\n",
       "      <td>29.8865</td>\n",
       "    </tr>\n",
       "    <tr>\n",
       "      <th>7</th>\n",
       "      <td>Female</td>\n",
       "      <td>Home and lifestyle</td>\n",
       "      <td>Ewallet</td>\n",
       "      <td>36.7800</td>\n",
       "    </tr>\n",
       "    <tr>\n",
       "      <th>20</th>\n",
       "      <td>Male</td>\n",
       "      <td>Electronic accessories</td>\n",
       "      <td>Ewallet</td>\n",
       "      <td>21.5100</td>\n",
       "    </tr>\n",
       "    <tr>\n",
       "      <th>34</th>\n",
       "      <td>Female</td>\n",
       "      <td>Food and beverages</td>\n",
       "      <td>Ewallet</td>\n",
       "      <td>19.8840</td>\n",
       "    </tr>\n",
       "    <tr>\n",
       "      <th>...</th>\n",
       "      <td>...</td>\n",
       "      <td>...</td>\n",
       "      <td>...</td>\n",
       "      <td>...</td>\n",
       "    </tr>\n",
       "    <tr>\n",
       "      <th>983</th>\n",
       "      <td>Male</td>\n",
       "      <td>Health and beauty</td>\n",
       "      <td>Cash</td>\n",
       "      <td>34.9860</td>\n",
       "    </tr>\n",
       "    <tr>\n",
       "      <th>984</th>\n",
       "      <td>Male</td>\n",
       "      <td>Electronic accessories</td>\n",
       "      <td>Cash</td>\n",
       "      <td>33.7295</td>\n",
       "    </tr>\n",
       "    <tr>\n",
       "      <th>988</th>\n",
       "      <td>Male</td>\n",
       "      <td>Electronic accessories</td>\n",
       "      <td>Ewallet</td>\n",
       "      <td>41.1700</td>\n",
       "    </tr>\n",
       "    <tr>\n",
       "      <th>994</th>\n",
       "      <td>Female</td>\n",
       "      <td>Electronic accessories</td>\n",
       "      <td>Ewallet</td>\n",
       "      <td>3.0475</td>\n",
       "    </tr>\n",
       "    <tr>\n",
       "      <th>995</th>\n",
       "      <td>Male</td>\n",
       "      <td>Health and beauty</td>\n",
       "      <td>Ewallet</td>\n",
       "      <td>2.0175</td>\n",
       "    </tr>\n",
       "  </tbody>\n",
       "</table>\n",
       "<p>328 rows × 4 columns</p>\n",
       "</div>"
      ],
      "text/plain": [
       "     Gender            Product line  Payment  gross income\n",
       "1    Female  Electronic accessories     Cash        3.8200\n",
       "5      Male  Electronic accessories  Ewallet       29.8865\n",
       "7    Female      Home and lifestyle  Ewallet       36.7800\n",
       "20     Male  Electronic accessories  Ewallet       21.5100\n",
       "34   Female      Food and beverages  Ewallet       19.8840\n",
       "..      ...                     ...      ...           ...\n",
       "983    Male       Health and beauty     Cash       34.9860\n",
       "984    Male  Electronic accessories     Cash       33.7295\n",
       "988    Male  Electronic accessories  Ewallet       41.1700\n",
       "994  Female  Electronic accessories  Ewallet        3.0475\n",
       "995    Male       Health and beauty  Ewallet        2.0175\n",
       "\n",
       "[328 rows x 4 columns]"
      ]
     },
     "execution_count": 20,
     "metadata": {},
     "output_type": "execute_result"
    }
   ],
   "source": [
    "gender_dataset = dataset.where(dataset[\"Branch\"] == 'C').dropna(subset = [\"Branch\"])\n",
    "# this step only selects the samples with the Branch attribute as 'C'.\n",
    "\n",
    "gender_dataset = gender_dataset.drop(['Invoice ID', 'Branch', 'City', 'Customer type','Unit price', 'Quantity', 'Total', 'Date', 'Time','cogs', 'gross margin percentage','Rating'],axis = 1)\n",
    "gender_dataset"
   ]
  },
  {
   "cell_type": "code",
   "execution_count": 21,
   "id": "57c169d9",
   "metadata": {},
   "outputs": [],
   "source": [
    "gender_train_set, gender_test_set = train_test_split(gender_dataset,\n",
    "                                      test_size = 0.2,\n",
    "                                      shuffle = True,\n",
    "                                      random_state = 42,\n",
    "                                        stratify=gender_dataset[\"Gender\"])\n",
    "# here I am stratifying data based on the gender attribute so that the gender classes are equally proportioned in both test and training dataset.|"
   ]
  },
  {
   "cell_type": "code",
   "execution_count": 22,
   "id": "027fb2cf",
   "metadata": {},
   "outputs": [],
   "source": [
    "num_attribs_gender =  [\"gross income\"]\n",
    "cat_attribs_gender = [\"Product line\",\"Payment\",\"Gender\" ]\n",
    "\n",
    "# Pipeline for numerical attributes\n",
    "num_pipeline_gender = Pipeline([('std_scaler', StandardScaler())]) \n",
    "# Complete Pipeline\n",
    "full_pipeline_gender = ColumnTransformer([('num', num_pipeline_gender, num_attribs_gender), \n",
    "                                   ('cat', OneHotEncoder(), cat_attribs_gender)]) "
   ]
  },
  {
   "cell_type": "code",
   "execution_count": 23,
   "id": "7100264d",
   "metadata": {},
   "outputs": [],
   "source": [
    "gender_train_set_temp = full_pipeline_gender.fit_transform(gender_train_set)\n",
    "gender_test_set_temp = full_pipeline_gender.transform(gender_test_set)"
   ]
  },
  {
   "cell_type": "code",
   "execution_count": 24,
   "id": "90dfeccc",
   "metadata": {},
   "outputs": [],
   "source": [
    "# creating the final dataset\n",
    "\n",
    "gender_train_set_prepared = pd.DataFrame(gender_train_set_temp,\n",
    "            columns = [\"gross income\",\n",
    "                        \"Electronic accessories\",\"Fashion accessories\",\"Food and beverages\",\"Health and beauty\",\"Home and lifestyle\",\"Sports and travel\",\n",
    "                        \"Cash\",\"Credit card\",\"Ewallet\",\"Female\",\"Male\"],\n",
    "                        index  = gender_train_set.index)\n",
    "gender_test_set_prepared = pd.DataFrame(gender_test_set_temp,\n",
    "            columns = [\"gross income\",\n",
    "                        \"Electronic accessories\",\"Fashion accessories\",\"Food and beverages\",\"Health and beauty\",\"Home and lifestyle\",\"Sports and travel\",\n",
    "                        \"Cash\",\"Credit card\",\"Ewallet\",\"Female\",\"Male\"],\n",
    "                        index  = gender_test_set.index)"
   ]
  },
  {
   "cell_type": "markdown",
   "id": "91b751d1",
   "metadata": {},
   "source": [
    "Now, saving the prepared datasets for future use"
   ]
  },
  {
   "cell_type": "code",
   "execution_count": 25,
   "id": "f6ed2cb7",
   "metadata": {},
   "outputs": [],
   "source": [
    "gender_train_set_prepared.to_csv(\"gender_train_set_prepared.csv\",index = False, sep = ',')\n",
    "gender_test_set_prepared.to_csv(\"gender_test_set_prepared.csv\",index = False, sep = ',')"
   ]
  },
  {
   "cell_type": "markdown",
   "id": "bdf4a0bd",
   "metadata": {},
   "source": [
    "#### 3. For Customer Type Classificaation Task\n",
    "\n",
    "Here, I will select only the samples from the Branch C. I will then drop the following columns - 'Invoice ID', 'Branch', 'City','Unit price', 'Quantity', 'Total','cogs', 'gross margin percentage','Rating','Product line','gross income','Payment'. Because these attributes are not important for the purpose of task at hand."
   ]
  },
  {
   "cell_type": "code",
   "execution_count": 26,
   "id": "0108d8aa",
   "metadata": {},
   "outputs": [
    {
     "data": {
      "text/html": [
       "<div>\n",
       "<style scoped>\n",
       "    .dataframe tbody tr th:only-of-type {\n",
       "        vertical-align: middle;\n",
       "    }\n",
       "\n",
       "    .dataframe tbody tr th {\n",
       "        vertical-align: top;\n",
       "    }\n",
       "\n",
       "    .dataframe thead th {\n",
       "        text-align: right;\n",
       "    }\n",
       "</style>\n",
       "<table border=\"1\" class=\"dataframe\">\n",
       "  <thead>\n",
       "    <tr style=\"text-align: right;\">\n",
       "      <th></th>\n",
       "      <th>Customer type</th>\n",
       "      <th>Gender</th>\n",
       "      <th>Date</th>\n",
       "      <th>Time</th>\n",
       "    </tr>\n",
       "  </thead>\n",
       "  <tbody>\n",
       "    <tr>\n",
       "      <th>1</th>\n",
       "      <td>Normal</td>\n",
       "      <td>Female</td>\n",
       "      <td>4.0</td>\n",
       "      <td>1</td>\n",
       "    </tr>\n",
       "    <tr>\n",
       "      <th>5</th>\n",
       "      <td>Normal</td>\n",
       "      <td>Male</td>\n",
       "      <td>0.0</td>\n",
       "      <td>3</td>\n",
       "    </tr>\n",
       "    <tr>\n",
       "      <th>7</th>\n",
       "      <td>Normal</td>\n",
       "      <td>Female</td>\n",
       "      <td>6.0</td>\n",
       "      <td>1</td>\n",
       "    </tr>\n",
       "    <tr>\n",
       "      <th>20</th>\n",
       "      <td>Member</td>\n",
       "      <td>Male</td>\n",
       "      <td>0.0</td>\n",
       "      <td>1</td>\n",
       "    </tr>\n",
       "    <tr>\n",
       "      <th>34</th>\n",
       "      <td>Member</td>\n",
       "      <td>Female</td>\n",
       "      <td>2.0</td>\n",
       "      <td>1</td>\n",
       "    </tr>\n",
       "    <tr>\n",
       "      <th>...</th>\n",
       "      <td>...</td>\n",
       "      <td>...</td>\n",
       "      <td>...</td>\n",
       "      <td>...</td>\n",
       "    </tr>\n",
       "    <tr>\n",
       "      <th>983</th>\n",
       "      <td>Normal</td>\n",
       "      <td>Male</td>\n",
       "      <td>2.0</td>\n",
       "      <td>1</td>\n",
       "    </tr>\n",
       "    <tr>\n",
       "      <th>984</th>\n",
       "      <td>Normal</td>\n",
       "      <td>Male</td>\n",
       "      <td>2.0</td>\n",
       "      <td>1</td>\n",
       "    </tr>\n",
       "    <tr>\n",
       "      <th>988</th>\n",
       "      <td>Member</td>\n",
       "      <td>Male</td>\n",
       "      <td>4.0</td>\n",
       "      <td>4</td>\n",
       "    </tr>\n",
       "    <tr>\n",
       "      <th>994</th>\n",
       "      <td>Member</td>\n",
       "      <td>Female</td>\n",
       "      <td>0.0</td>\n",
       "      <td>1</td>\n",
       "    </tr>\n",
       "    <tr>\n",
       "      <th>995</th>\n",
       "      <td>Normal</td>\n",
       "      <td>Male</td>\n",
       "      <td>1.0</td>\n",
       "      <td>2</td>\n",
       "    </tr>\n",
       "  </tbody>\n",
       "</table>\n",
       "<p>328 rows × 4 columns</p>\n",
       "</div>"
      ],
      "text/plain": [
       "    Customer type  Gender  Date Time\n",
       "1          Normal  Female   4.0    1\n",
       "5          Normal    Male   0.0    3\n",
       "7          Normal  Female   6.0    1\n",
       "20         Member    Male   0.0    1\n",
       "34         Member  Female   2.0    1\n",
       "..            ...     ...   ...  ...\n",
       "983        Normal    Male   2.0    1\n",
       "984        Normal    Male   2.0    1\n",
       "988        Member    Male   4.0    4\n",
       "994        Member  Female   0.0    1\n",
       "995        Normal    Male   1.0    2\n",
       "\n",
       "[328 rows x 4 columns]"
      ]
     },
     "execution_count": 26,
     "metadata": {},
     "output_type": "execute_result"
    }
   ],
   "source": [
    "customer_dataset = dataset.where(dataset[\"Branch\"] == 'C').dropna(subset = [\"Branch\"])\n",
    "# this step only selects the samples with the Branch attribute as 'C'.\n",
    "\n",
    "customer_dataset = customer_dataset.drop(['Invoice ID', 'Branch', 'City','Unit price', 'Quantity', 'Total','cogs', 'gross margin percentage','Rating','Product line','gross income','Payment'],axis = 1)\n",
    "customer_dataset"
   ]
  },
  {
   "cell_type": "code",
   "execution_count": 27,
   "id": "09ce7d44",
   "metadata": {},
   "outputs": [],
   "source": [
    "customer_train_set, customer_test_set = train_test_split(customer_dataset,\n",
    "                                      test_size = 0.2,\n",
    "                                      shuffle = True,\n",
    "                                      random_state = 42,\n",
    "                                        stratify=customer_dataset[\"Customer type\"])\n",
    "# here I am stratifying data based on the customer attribute so that the customer classes are equally proportioned in both test and training dataset.|"
   ]
  },
  {
   "cell_type": "code",
   "execution_count": 28,
   "id": "451a2a2a",
   "metadata": {},
   "outputs": [],
   "source": [
    "cat_attribs_customer1 = [\"Customer type\",\"Gender\"]\n",
    "cat_attribs_customer2 = [\"Date\",\"Time\" ]\n",
    "\n",
    "# Complete Pipeline\n",
    "full_pipeline_customer = ColumnTransformer([('cat1', OrdinalEncoder(), cat_attribs_customer1),\n",
    "                                           ('cat2', OneHotEncoder(), cat_attribs_customer2)]) "
   ]
  },
  {
   "cell_type": "code",
   "execution_count": 29,
   "id": "6c8cf90f",
   "metadata": {},
   "outputs": [],
   "source": [
    "customer_train_set_temp = full_pipeline_customer.fit_transform(customer_train_set)\n",
    "customer_test_set_temp = full_pipeline_customer.transform(customer_test_set)"
   ]
  },
  {
   "cell_type": "code",
   "execution_count": 30,
   "id": "63645b9d",
   "metadata": {},
   "outputs": [],
   "source": [
    "# creating the final dataset\n",
    "\n",
    "customer_train_set_prepared = pd.DataFrame(customer_train_set_temp,\n",
    "            columns = ['Customer type','gender','morning','afternoon','evening','night','Monday','Tuesday','Wednesday','Thursday','Friday','Saturday','Sunday'],\n",
    "                        index  = customer_train_set.index)\n",
    "customer_test_set_prepared = pd.DataFrame(customer_test_set_temp,\n",
    "            columns = ['Customer type','gender','morning','afternoon','evening','night','Monday','Tuesday','Wednesday','Thursday','Friday','Saturday','Sunday'],\n",
    "                        index  = customer_test_set.index)"
   ]
  },
  {
   "cell_type": "markdown",
   "id": "7d54993e",
   "metadata": {},
   "source": [
    "Now, saving the prepared datasets for future use"
   ]
  },
  {
   "cell_type": "code",
   "execution_count": 31,
   "id": "8d59b467",
   "metadata": {},
   "outputs": [],
   "source": [
    "customer_train_set_prepared.to_csv(\"customer_train_set_prepared.csv\",index = False, sep = ',')\n",
    "customer_test_set_prepared.to_csv(\"customer_test_set_prepared.csv\",index = False, sep = ',')"
   ]
  },
  {
   "cell_type": "markdown",
   "id": "33089844",
   "metadata": {},
   "source": [
    "#### 4. For Prediction of the day of purchase\n",
    "\n",
    "Here, I will drop the following columns - 'Invoice ID', 'City', 'cogs', 'gross margin percentage','Rating''. Because these attributes are not important for the purpose of task at hand."
   ]
  },
  {
   "cell_type": "code",
   "execution_count": 32,
   "id": "9c005388",
   "metadata": {},
   "outputs": [
    {
     "data": {
      "text/html": [
       "<div>\n",
       "<style scoped>\n",
       "    .dataframe tbody tr th:only-of-type {\n",
       "        vertical-align: middle;\n",
       "    }\n",
       "\n",
       "    .dataframe tbody tr th {\n",
       "        vertical-align: top;\n",
       "    }\n",
       "\n",
       "    .dataframe thead th {\n",
       "        text-align: right;\n",
       "    }\n",
       "</style>\n",
       "<table border=\"1\" class=\"dataframe\">\n",
       "  <thead>\n",
       "    <tr style=\"text-align: right;\">\n",
       "      <th></th>\n",
       "      <th>Branch</th>\n",
       "      <th>Customer type</th>\n",
       "      <th>Gender</th>\n",
       "      <th>Product line</th>\n",
       "      <th>Unit price</th>\n",
       "      <th>Quantity</th>\n",
       "      <th>Total</th>\n",
       "      <th>Date</th>\n",
       "      <th>Time</th>\n",
       "      <th>Payment</th>\n",
       "      <th>gross income</th>\n",
       "    </tr>\n",
       "  </thead>\n",
       "  <tbody>\n",
       "    <tr>\n",
       "      <th>0</th>\n",
       "      <td>A</td>\n",
       "      <td>Member</td>\n",
       "      <td>Female</td>\n",
       "      <td>Health and beauty</td>\n",
       "      <td>74.69</td>\n",
       "      <td>7</td>\n",
       "      <td>548.9715</td>\n",
       "      <td>5</td>\n",
       "      <td>2</td>\n",
       "      <td>Ewallet</td>\n",
       "      <td>26.1415</td>\n",
       "    </tr>\n",
       "    <tr>\n",
       "      <th>1</th>\n",
       "      <td>C</td>\n",
       "      <td>Normal</td>\n",
       "      <td>Female</td>\n",
       "      <td>Electronic accessories</td>\n",
       "      <td>15.28</td>\n",
       "      <td>5</td>\n",
       "      <td>80.2200</td>\n",
       "      <td>4</td>\n",
       "      <td>1</td>\n",
       "      <td>Cash</td>\n",
       "      <td>3.8200</td>\n",
       "    </tr>\n",
       "    <tr>\n",
       "      <th>2</th>\n",
       "      <td>A</td>\n",
       "      <td>Normal</td>\n",
       "      <td>Male</td>\n",
       "      <td>Home and lifestyle</td>\n",
       "      <td>46.33</td>\n",
       "      <td>7</td>\n",
       "      <td>340.5255</td>\n",
       "      <td>6</td>\n",
       "      <td>2</td>\n",
       "      <td>Credit card</td>\n",
       "      <td>16.2155</td>\n",
       "    </tr>\n",
       "    <tr>\n",
       "      <th>3</th>\n",
       "      <td>A</td>\n",
       "      <td>Member</td>\n",
       "      <td>Male</td>\n",
       "      <td>Health and beauty</td>\n",
       "      <td>58.22</td>\n",
       "      <td>8</td>\n",
       "      <td>489.0480</td>\n",
       "      <td>6</td>\n",
       "      <td>4</td>\n",
       "      <td>Ewallet</td>\n",
       "      <td>23.2880</td>\n",
       "    </tr>\n",
       "    <tr>\n",
       "      <th>4</th>\n",
       "      <td>A</td>\n",
       "      <td>Normal</td>\n",
       "      <td>Male</td>\n",
       "      <td>Sports and travel</td>\n",
       "      <td>86.31</td>\n",
       "      <td>7</td>\n",
       "      <td>634.3785</td>\n",
       "      <td>4</td>\n",
       "      <td>1</td>\n",
       "      <td>Ewallet</td>\n",
       "      <td>30.2085</td>\n",
       "    </tr>\n",
       "    <tr>\n",
       "      <th>...</th>\n",
       "      <td>...</td>\n",
       "      <td>...</td>\n",
       "      <td>...</td>\n",
       "      <td>...</td>\n",
       "      <td>...</td>\n",
       "      <td>...</td>\n",
       "      <td>...</td>\n",
       "      <td>...</td>\n",
       "      <td>...</td>\n",
       "      <td>...</td>\n",
       "      <td>...</td>\n",
       "    </tr>\n",
       "    <tr>\n",
       "      <th>995</th>\n",
       "      <td>C</td>\n",
       "      <td>Normal</td>\n",
       "      <td>Male</td>\n",
       "      <td>Health and beauty</td>\n",
       "      <td>40.35</td>\n",
       "      <td>1</td>\n",
       "      <td>42.3675</td>\n",
       "      <td>1</td>\n",
       "      <td>2</td>\n",
       "      <td>Ewallet</td>\n",
       "      <td>2.0175</td>\n",
       "    </tr>\n",
       "    <tr>\n",
       "      <th>996</th>\n",
       "      <td>B</td>\n",
       "      <td>Normal</td>\n",
       "      <td>Female</td>\n",
       "      <td>Home and lifestyle</td>\n",
       "      <td>97.38</td>\n",
       "      <td>10</td>\n",
       "      <td>1022.4900</td>\n",
       "      <td>5</td>\n",
       "      <td>3</td>\n",
       "      <td>Ewallet</td>\n",
       "      <td>48.6900</td>\n",
       "    </tr>\n",
       "    <tr>\n",
       "      <th>997</th>\n",
       "      <td>A</td>\n",
       "      <td>Member</td>\n",
       "      <td>Male</td>\n",
       "      <td>Food and beverages</td>\n",
       "      <td>31.84</td>\n",
       "      <td>1</td>\n",
       "      <td>33.4320</td>\n",
       "      <td>5</td>\n",
       "      <td>2</td>\n",
       "      <td>Cash</td>\n",
       "      <td>1.5920</td>\n",
       "    </tr>\n",
       "    <tr>\n",
       "      <th>998</th>\n",
       "      <td>A</td>\n",
       "      <td>Normal</td>\n",
       "      <td>Male</td>\n",
       "      <td>Home and lifestyle</td>\n",
       "      <td>65.82</td>\n",
       "      <td>1</td>\n",
       "      <td>69.1110</td>\n",
       "      <td>4</td>\n",
       "      <td>2</td>\n",
       "      <td>Cash</td>\n",
       "      <td>3.2910</td>\n",
       "    </tr>\n",
       "    <tr>\n",
       "      <th>999</th>\n",
       "      <td>A</td>\n",
       "      <td>Member</td>\n",
       "      <td>Female</td>\n",
       "      <td>Fashion accessories</td>\n",
       "      <td>88.34</td>\n",
       "      <td>7</td>\n",
       "      <td>649.2990</td>\n",
       "      <td>0</td>\n",
       "      <td>2</td>\n",
       "      <td>Cash</td>\n",
       "      <td>30.9190</td>\n",
       "    </tr>\n",
       "  </tbody>\n",
       "</table>\n",
       "<p>1000 rows × 11 columns</p>\n",
       "</div>"
      ],
      "text/plain": [
       "    Branch Customer type  Gender            Product line  Unit price  \\\n",
       "0        A        Member  Female       Health and beauty       74.69   \n",
       "1        C        Normal  Female  Electronic accessories       15.28   \n",
       "2        A        Normal    Male      Home and lifestyle       46.33   \n",
       "3        A        Member    Male       Health and beauty       58.22   \n",
       "4        A        Normal    Male       Sports and travel       86.31   \n",
       "..     ...           ...     ...                     ...         ...   \n",
       "995      C        Normal    Male       Health and beauty       40.35   \n",
       "996      B        Normal  Female      Home and lifestyle       97.38   \n",
       "997      A        Member    Male      Food and beverages       31.84   \n",
       "998      A        Normal    Male      Home and lifestyle       65.82   \n",
       "999      A        Member  Female     Fashion accessories       88.34   \n",
       "\n",
       "     Quantity      Total  Date Time      Payment  gross income  \n",
       "0           7   548.9715     5    2      Ewallet       26.1415  \n",
       "1           5    80.2200     4    1         Cash        3.8200  \n",
       "2           7   340.5255     6    2  Credit card       16.2155  \n",
       "3           8   489.0480     6    4      Ewallet       23.2880  \n",
       "4           7   634.3785     4    1      Ewallet       30.2085  \n",
       "..        ...        ...   ...  ...          ...           ...  \n",
       "995         1    42.3675     1    2      Ewallet        2.0175  \n",
       "996        10  1022.4900     5    3      Ewallet       48.6900  \n",
       "997         1    33.4320     5    2         Cash        1.5920  \n",
       "998         1    69.1110     4    2         Cash        3.2910  \n",
       "999         7   649.2990     0    2         Cash       30.9190  \n",
       "\n",
       "[1000 rows x 11 columns]"
      ]
     },
     "execution_count": 32,
     "metadata": {},
     "output_type": "execute_result"
    }
   ],
   "source": [
    "day_dataset = dataset.drop(['Invoice ID', 'City', 'cogs', 'gross margin percentage','Rating'],axis = 1)\n",
    "day_dataset"
   ]
  },
  {
   "cell_type": "code",
   "execution_count": 33,
   "id": "10b80a29",
   "metadata": {},
   "outputs": [],
   "source": [
    "day_train_set, day_test_set = train_test_split(day_dataset,\n",
    "                                      test_size = 0.2,\n",
    "                                      shuffle = True,\n",
    "                                      random_state = 42,\n",
    "                                        stratify=day_dataset[\"Date\"])\n",
    "# here I am stratifying data based on the day of the week attribute, i.e. 'Date' so that the customer classes are equally proportioned in both test and training dataset.|"
   ]
  },
  {
   "cell_type": "code",
   "execution_count": 34,
   "id": "cd362f5d",
   "metadata": {},
   "outputs": [],
   "source": [
    "num_attribs_day =  [\"Unit price\",\"Quantity\",\"Total\",\"gross income\"]\n",
    "cat_attribs_day = [\"Product line\",\"Payment\",\"Gender\",\"Branch\",\"Customer type\",\"Time\"]\n",
    "\n",
    "# Pipeline for numerical attributes\n",
    "num_pipeline_day = Pipeline([('std_scaler', StandardScaler())]) \n",
    "# Complete Pipeline\n",
    "full_pipeline_day = ColumnTransformer([('num', num_pipeline_day, num_attribs_day), \n",
    "                                   ('cat', OneHotEncoder(), cat_attribs_day)]) "
   ]
  },
  {
   "cell_type": "code",
   "execution_count": 35,
   "id": "f8d2e95f",
   "metadata": {},
   "outputs": [],
   "source": [
    "day_train_set_temp = full_pipeline_day.fit_transform(day_train_set)\n",
    "day_test_set_temp = full_pipeline_day.transform(day_test_set)"
   ]
  },
  {
   "cell_type": "code",
   "execution_count": 36,
   "id": "3c4f4010",
   "metadata": {},
   "outputs": [],
   "source": [
    "# creating the final dataset\n",
    "\n",
    "day_train_set_prepared = pd.DataFrame(day_train_set_temp,\n",
    "            columns = [\"Unit price\",\"Quantity\",\"Total\",\"Gross Income\",\"Electronic Accessories\",\"Fashion Accessories\",\"Food and Beverages\",\"Health and Beauty\",\"Home and Lifestyle\",\"Sports and Travel\",\"Cash\",\"Credit Card\",\"Ewallet\",\"Male\",\"Female\",\"Branch A\",\"Branch B\", \"Branch C\",\"Member Customer\",\"Normal Customer\",\"Morning\",\"Afternoon\", \"Evening\", \"Night\"],\n",
    "                        index  = day_train_set.index)\n",
    "day_test_set_prepared = pd.DataFrame(day_test_set_temp,\n",
    "            columns = [\"Unit price\",\"Quantity\",\"Total\",\"Gross Income\",\"Electronic Accessories\",\"Fashion Accessories\",\"Food and Beverages\",\"Health and Beauty\",\"Home and Lifestyle\",\"Sports and Travel\",\"Cash\",\"Credit Card\",\"Ewallet\",\"Male\",\"Female\",\"Branch A\",\"Branch B\", \"Branch C\",\"Member Customer\",\"Normal Customer\",\"Morning\",\"Afternoon\", \"Evening\", \"Night\"],\n",
    "                        index  = day_test_set.index)\n",
    "\n",
    "day_train_set_prepared[\"Date\"] = day_train_set[\"Date\"]\n",
    "day_test_set_prepared[\"Date\"] = day_test_set[\"Date\"]\n"
   ]
  },
  {
   "cell_type": "markdown",
   "id": "e8194cfe",
   "metadata": {},
   "source": [
    "Now, saving the prepared datasets for future use"
   ]
  },
  {
   "cell_type": "code",
   "execution_count": 37,
   "id": "1ff4828c",
   "metadata": {},
   "outputs": [],
   "source": [
    "day_train_set_prepared.to_csv(\"day_train_set_prepared.csv\",index = False, sep = ',')\n",
    "day_test_set_prepared.to_csv(\"day_test_set_prepared.csv\",index = False, sep = ',')"
   ]
  },
  {
   "cell_type": "markdown",
   "id": "6598de22",
   "metadata": {},
   "source": [
    "===============================================================================\n",
    "\n",
    "Now that we have the cleaned and preprocessed datasets (using pipelines), we can now proceed to training our models.\n",
    "\n",
    "==============================================================================="
   ]
  },
  {
   "cell_type": "markdown",
   "id": "653cdd3d",
   "metadata": {},
   "source": [
    "## Multiple Linear Regression To Predict Gross Income"
   ]
  },
  {
   "cell_type": "code",
   "execution_count": 38,
   "id": "f4c376f7",
   "metadata": {},
   "outputs": [],
   "source": [
    "lr_train_data = lr_train_set_prepared.drop([\"gross income\"], axis = 1)\n",
    "lr_train_target = lr_train_set_prepared[\"gross income\"]\n",
    "\n",
    "lr_test_data = lr_test_set_prepared.drop([\"gross income\"], axis = 1)\n",
    "lr_test_target = lr_test_set_prepared[\"gross income\"]"
   ]
  },
  {
   "cell_type": "markdown",
   "id": "ec43ad0c",
   "metadata": {},
   "source": [
    "### Without Lasso Regularization"
   ]
  },
  {
   "cell_type": "markdown",
   "id": "034e37d1",
   "metadata": {},
   "source": [
    "Creating multiple linear regression without lasso pipeline"
   ]
  },
  {
   "cell_type": "code",
   "execution_count": 39,
   "id": "245d08b1",
   "metadata": {},
   "outputs": [
    {
     "data": {
      "text/plain": [
       "{'memory': None,\n",
       " 'steps': [('linear_regression', LinearRegression())],\n",
       " 'verbose': False,\n",
       " 'linear_regression': LinearRegression(),\n",
       " 'linear_regression__copy_X': True,\n",
       " 'linear_regression__fit_intercept': True,\n",
       " 'linear_regression__n_jobs': None,\n",
       " 'linear_regression__normalize': False,\n",
       " 'linear_regression__positive': False}"
      ]
     },
     "execution_count": 39,
     "metadata": {},
     "output_type": "execute_result"
    }
   ],
   "source": [
    "linear_pipe =  Pipeline([('linear_regression',LinearRegression())])\n",
    "linear_pipe.get_params()"
   ]
  },
  {
   "cell_type": "markdown",
   "id": "cbe5bda3",
   "metadata": {},
   "source": [
    "Hyperparameter Tuning"
   ]
  },
  {
   "cell_type": "code",
   "execution_count": 40,
   "id": "1fd47f1d",
   "metadata": {},
   "outputs": [],
   "source": [
    "linear_grid = {'linear_regression__copy_X': [True,False],\n",
    "                   'linear_regression__fit_intercept': [True,False],\n",
    "                   'linear_regression__n_jobs': [None,1,2,3,4,5,10,15,20],\n",
    "                   'linear_regression__normalize': [True,False],\n",
    "                   'linear_regression__positive': [True,False],\n",
    "                   }"
   ]
  },
  {
   "cell_type": "code",
   "execution_count": 41,
   "id": "c4acc523",
   "metadata": {
    "scrolled": true
   },
   "outputs": [
    {
     "data": {
      "text/plain": [
       "GridSearchCV(cv=5,\n",
       "             estimator=Pipeline(steps=[('linear_regression',\n",
       "                                        LinearRegression())]),\n",
       "             param_grid={'linear_regression__copy_X': [True, False],\n",
       "                         'linear_regression__fit_intercept': [True, False],\n",
       "                         'linear_regression__n_jobs': [None, 1, 2, 3, 4, 5, 10,\n",
       "                                                       15, 20],\n",
       "                         'linear_regression__normalize': [True, False],\n",
       "                         'linear_regression__positive': [True, False]},\n",
       "             scoring='neg_mean_squared_error')"
      ]
     },
     "execution_count": 41,
     "metadata": {},
     "output_type": "execute_result"
    }
   ],
   "source": [
    "linear_gridsearch = GridSearchCV(linear_pipe,\n",
    "                                 param_grid=linear_grid,\n",
    "                                 cv=5,\n",
    "                                 scoring = 'neg_mean_squared_error',\n",
    "                                 refit=True)\n",
    "\n",
    "# as the task at hand is regression, the approriate scoring method is \"neg_mean_squared_error\"\n",
    "\n",
    "linear_gridsearch"
   ]
  },
  {
   "cell_type": "markdown",
   "id": "733d0279",
   "metadata": {},
   "source": [
    "Training and saving the model"
   ]
  },
  {
   "cell_type": "code",
   "execution_count": 42,
   "id": "dcc067ca",
   "metadata": {},
   "outputs": [
    {
     "data": {
      "text/plain": [
       "{'linear_regression__copy_X': True,\n",
       " 'linear_regression__fit_intercept': False,\n",
       " 'linear_regression__n_jobs': None,\n",
       " 'linear_regression__normalize': True,\n",
       " 'linear_regression__positive': True}"
      ]
     },
     "execution_count": 42,
     "metadata": {},
     "output_type": "execute_result"
    }
   ],
   "source": [
    "linear_gridsearch.fit(lr_train_data,lr_train_target)\n",
    "\n",
    "linear_gridsearch.best_params_"
   ]
  },
  {
   "cell_type": "code",
   "execution_count": 43,
   "id": "89552ae8",
   "metadata": {},
   "outputs": [
    {
     "data": {
      "text/plain": [
       "['final_linear_model_gross_income.pkl']"
      ]
     },
     "execution_count": 43,
     "metadata": {},
     "output_type": "execute_result"
    }
   ],
   "source": [
    "final_linear_model_gross_income = linear_gridsearch.best_estimator_\n",
    "\n",
    "joblib.dump(final_linear_model_gross_income,\"final_linear_model_gross_income.pkl\")"
   ]
  },
  {
   "cell_type": "markdown",
   "id": "0a729078",
   "metadata": {},
   "source": [
    "### With Lasso Regularization"
   ]
  },
  {
   "cell_type": "markdown",
   "id": "6fc376d4",
   "metadata": {},
   "source": [
    "Creating multiple linear regression with lasso pipeline"
   ]
  },
  {
   "cell_type": "code",
   "execution_count": 44,
   "id": "6d1f80e6",
   "metadata": {},
   "outputs": [
    {
     "data": {
      "text/plain": [
       "{'memory': None,\n",
       " 'steps': [('Lasso', Lasso())],\n",
       " 'verbose': False,\n",
       " 'Lasso': Lasso(),\n",
       " 'Lasso__alpha': 1.0,\n",
       " 'Lasso__copy_X': True,\n",
       " 'Lasso__fit_intercept': True,\n",
       " 'Lasso__max_iter': 1000,\n",
       " 'Lasso__normalize': False,\n",
       " 'Lasso__positive': False,\n",
       " 'Lasso__precompute': False,\n",
       " 'Lasso__random_state': None,\n",
       " 'Lasso__selection': 'cyclic',\n",
       " 'Lasso__tol': 0.0001,\n",
       " 'Lasso__warm_start': False}"
      ]
     },
     "execution_count": 44,
     "metadata": {},
     "output_type": "execute_result"
    }
   ],
   "source": [
    "linear_lasso_pipe =  Pipeline([('Lasso',Lasso())])\n",
    "linear_lasso_pipe.get_params()"
   ]
  },
  {
   "cell_type": "markdown",
   "id": "068f40c4",
   "metadata": {},
   "source": [
    "Hyperparameter Tuning"
   ]
  },
  {
   "cell_type": "code",
   "execution_count": 45,
   "id": "6ba8c61e",
   "metadata": {},
   "outputs": [],
   "source": [
    "linear_lasso_grid = {'Lasso__alpha': np.arange(0.001,1,0.003)}"
   ]
  },
  {
   "cell_type": "code",
   "execution_count": 46,
   "id": "e1cf6c5d",
   "metadata": {
    "scrolled": true
   },
   "outputs": [
    {
     "data": {
      "text/plain": [
       "GridSearchCV(cv=5, estimator=Pipeline(steps=[('Lasso', Lasso())]),\n",
       "             param_grid={'Lasso__alpha': array([0.001, 0.004, 0.007, 0.01 , 0.013, 0.016, 0.019, 0.022, 0.025,\n",
       "       0.028, 0.031, 0.034, 0.037, 0.04 , 0.043, 0.046, 0.049, 0.052,\n",
       "       0.055, 0.058, 0.061, 0.064, 0.067, 0.07 , 0.073, 0.076, 0.079,\n",
       "       0.082, 0.085, 0.088, 0.091, 0.094, 0.097, 0.1  , 0.103, 0.106,\n",
       "       0.109, 0.112, 0.115, 0.118, 0.121, 0.124, 0.127...\n",
       "       0.838, 0.841, 0.844, 0.847, 0.85 , 0.853, 0.856, 0.859, 0.862,\n",
       "       0.865, 0.868, 0.871, 0.874, 0.877, 0.88 , 0.883, 0.886, 0.889,\n",
       "       0.892, 0.895, 0.898, 0.901, 0.904, 0.907, 0.91 , 0.913, 0.916,\n",
       "       0.919, 0.922, 0.925, 0.928, 0.931, 0.934, 0.937, 0.94 , 0.943,\n",
       "       0.946, 0.949, 0.952, 0.955, 0.958, 0.961, 0.964, 0.967, 0.97 ,\n",
       "       0.973, 0.976, 0.979, 0.982, 0.985, 0.988, 0.991, 0.994, 0.997])},\n",
       "             scoring='neg_mean_squared_error')"
      ]
     },
     "execution_count": 46,
     "metadata": {},
     "output_type": "execute_result"
    }
   ],
   "source": [
    "linear_lasso_gridsearch = GridSearchCV(linear_lasso_pipe,\n",
    "                                 param_grid=linear_lasso_grid,\n",
    "                                 cv=5,\n",
    "                                 scoring = 'neg_mean_squared_error',\n",
    "                                 refit=True)\n",
    "\n",
    "# as the task at hand is regression, the approriate scoring method is \"neg_mean_squared_error\"\n",
    "\n",
    "linear_lasso_gridsearch"
   ]
  },
  {
   "cell_type": "markdown",
   "id": "7acdc20a",
   "metadata": {},
   "source": [
    "Training and Savingthe Model"
   ]
  },
  {
   "cell_type": "code",
   "execution_count": 47,
   "id": "03793c19",
   "metadata": {},
   "outputs": [
    {
     "data": {
      "text/plain": [
       "{'Lasso__alpha': 0.010000000000000002}"
      ]
     },
     "execution_count": 47,
     "metadata": {},
     "output_type": "execute_result"
    }
   ],
   "source": [
    "linear_lasso_gridsearch.fit(lr_train_data,lr_train_target)\n",
    "\n",
    "linear_lasso_gridsearch.best_params_"
   ]
  },
  {
   "cell_type": "code",
   "execution_count": 48,
   "id": "41e27acd",
   "metadata": {},
   "outputs": [
    {
     "data": {
      "text/plain": [
       "['final_linear_lasso_model_gross_income.pkl']"
      ]
     },
     "execution_count": 48,
     "metadata": {},
     "output_type": "execute_result"
    }
   ],
   "source": [
    "final_linear_lasso_model_gross_income = linear_lasso_gridsearch.best_estimator_\n",
    "\n",
    "joblib.dump(final_linear_lasso_model_gross_income,\"final_linear_lasso_model_gross_income.pkl\")"
   ]
  },
  {
   "cell_type": "markdown",
   "id": "2cb4ed53",
   "metadata": {},
   "source": [
    "## Multiple Linear Regression To Predict Unit Price"
   ]
  },
  {
   "cell_type": "code",
   "execution_count": 49,
   "id": "115d58c0",
   "metadata": {},
   "outputs": [],
   "source": [
    "lr_train_data2 = lr_train_set_prepared.drop([\"Unit price\"], axis = 1)\n",
    "lr_train_target2 = lr_train_set_prepared[\"Unit price\"]\n",
    "\n",
    "lr_test_data2 = lr_test_set_prepared.drop([\"Unit price\"], axis = 1)\n",
    "lr_test_target2 = lr_test_set_prepared[\"Unit price\"]"
   ]
  },
  {
   "cell_type": "markdown",
   "id": "53039f00",
   "metadata": {},
   "source": [
    "### Without Lasso Regularization"
   ]
  },
  {
   "cell_type": "markdown",
   "id": "577e1c6b",
   "metadata": {},
   "source": [
    "Creating multiple linear regression without lasso pipeline"
   ]
  },
  {
   "cell_type": "code",
   "execution_count": 50,
   "id": "c32f2051",
   "metadata": {},
   "outputs": [
    {
     "data": {
      "text/plain": [
       "{'memory': None,\n",
       " 'steps': [('linear_regression', LinearRegression())],\n",
       " 'verbose': False,\n",
       " 'linear_regression': LinearRegression(),\n",
       " 'linear_regression__copy_X': True,\n",
       " 'linear_regression__fit_intercept': True,\n",
       " 'linear_regression__n_jobs': None,\n",
       " 'linear_regression__normalize': False,\n",
       " 'linear_regression__positive': False}"
      ]
     },
     "execution_count": 50,
     "metadata": {},
     "output_type": "execute_result"
    }
   ],
   "source": [
    "linear_pipe2 =  Pipeline([('linear_regression',LinearRegression())])\n",
    "linear_pipe2.get_params()"
   ]
  },
  {
   "cell_type": "markdown",
   "id": "9da210a8",
   "metadata": {},
   "source": [
    "Hyperparameter Tuning"
   ]
  },
  {
   "cell_type": "code",
   "execution_count": 51,
   "id": "d6eddd6f",
   "metadata": {},
   "outputs": [],
   "source": [
    "linear_grid2 = {'linear_regression__copy_X': [True,False],\n",
    "                   'linear_regression__fit_intercept': [True,False],\n",
    "                   'linear_regression__n_jobs': [None,1,2,3,4,5,10,15,20],\n",
    "                   'linear_regression__normalize': [True,False],\n",
    "                   'linear_regression__positive': [True,False],\n",
    "                   }"
   ]
  },
  {
   "cell_type": "code",
   "execution_count": 52,
   "id": "30ef1f08",
   "metadata": {},
   "outputs": [
    {
     "data": {
      "text/plain": [
       "GridSearchCV(cv=5,\n",
       "             estimator=Pipeline(steps=[('linear_regression',\n",
       "                                        LinearRegression())]),\n",
       "             param_grid={'linear_regression__copy_X': [True, False],\n",
       "                         'linear_regression__fit_intercept': [True, False],\n",
       "                         'linear_regression__n_jobs': [None, 1, 2, 3, 4, 5, 10,\n",
       "                                                       15, 20],\n",
       "                         'linear_regression__normalize': [True, False],\n",
       "                         'linear_regression__positive': [True, False]},\n",
       "             scoring='neg_mean_squared_error')"
      ]
     },
     "execution_count": 52,
     "metadata": {},
     "output_type": "execute_result"
    }
   ],
   "source": [
    "linear_gridsearch2 = GridSearchCV(linear_pipe2,\n",
    "                                 param_grid=linear_grid2,\n",
    "                                 cv=5,\n",
    "                                 scoring = 'neg_mean_squared_error',\n",
    "                                 refit=True)\n",
    "\n",
    "# as the task at hand is regression, the approriate scoring method is \"neg_mean_squared_error\"\n",
    "\n",
    "linear_gridsearch2"
   ]
  },
  {
   "cell_type": "markdown",
   "id": "a07bd579",
   "metadata": {},
   "source": [
    "Training and Saving the Model"
   ]
  },
  {
   "cell_type": "code",
   "execution_count": 53,
   "id": "9a76dd55",
   "metadata": {},
   "outputs": [
    {
     "data": {
      "text/plain": [
       "{'linear_regression__copy_X': True,\n",
       " 'linear_regression__fit_intercept': False,\n",
       " 'linear_regression__n_jobs': None,\n",
       " 'linear_regression__normalize': True,\n",
       " 'linear_regression__positive': False}"
      ]
     },
     "execution_count": 53,
     "metadata": {},
     "output_type": "execute_result"
    }
   ],
   "source": [
    "linear_gridsearch2.fit(lr_train_data2,lr_train_target2)\n",
    "\n",
    "linear_gridsearch2.best_params_"
   ]
  },
  {
   "cell_type": "code",
   "execution_count": 54,
   "id": "cbcbefa8",
   "metadata": {},
   "outputs": [
    {
     "data": {
      "text/plain": [
       "['final_linear_model_unit_price.pkl']"
      ]
     },
     "execution_count": 54,
     "metadata": {},
     "output_type": "execute_result"
    }
   ],
   "source": [
    "final_linear_model_unit_price = linear_gridsearch2.best_estimator_\n",
    "\n",
    "joblib.dump(final_linear_model_unit_price,\"final_linear_model_unit_price.pkl\")"
   ]
  },
  {
   "cell_type": "markdown",
   "id": "0cec837a",
   "metadata": {},
   "source": [
    "### With Lasso Regularization"
   ]
  },
  {
   "cell_type": "markdown",
   "id": "bf01a882",
   "metadata": {},
   "source": [
    "Creating multiple linear regression with lasso pipeline"
   ]
  },
  {
   "cell_type": "code",
   "execution_count": 55,
   "id": "64de901c",
   "metadata": {},
   "outputs": [
    {
     "data": {
      "text/plain": [
       "{'memory': None,\n",
       " 'steps': [('Lasso', Lasso())],\n",
       " 'verbose': False,\n",
       " 'Lasso': Lasso(),\n",
       " 'Lasso__alpha': 1.0,\n",
       " 'Lasso__copy_X': True,\n",
       " 'Lasso__fit_intercept': True,\n",
       " 'Lasso__max_iter': 1000,\n",
       " 'Lasso__normalize': False,\n",
       " 'Lasso__positive': False,\n",
       " 'Lasso__precompute': False,\n",
       " 'Lasso__random_state': None,\n",
       " 'Lasso__selection': 'cyclic',\n",
       " 'Lasso__tol': 0.0001,\n",
       " 'Lasso__warm_start': False}"
      ]
     },
     "execution_count": 55,
     "metadata": {},
     "output_type": "execute_result"
    }
   ],
   "source": [
    "linear_lasso_pipe2 =  Pipeline([('Lasso',Lasso())])\n",
    "linear_lasso_pipe2.get_params()"
   ]
  },
  {
   "cell_type": "markdown",
   "id": "b50d25e8",
   "metadata": {},
   "source": [
    "Hyperparameter Tuning"
   ]
  },
  {
   "cell_type": "code",
   "execution_count": 56,
   "id": "030797af",
   "metadata": {},
   "outputs": [],
   "source": [
    "linear_lasso_grid2 = {'Lasso__alpha': np.arange(0.001,1,0.003)}"
   ]
  },
  {
   "cell_type": "code",
   "execution_count": 57,
   "id": "d46045f7",
   "metadata": {},
   "outputs": [
    {
     "data": {
      "text/plain": [
       "GridSearchCV(cv=5, estimator=Pipeline(steps=[('Lasso', Lasso())]),\n",
       "             param_grid={'Lasso__alpha': array([0.001, 0.004, 0.007, 0.01 , 0.013, 0.016, 0.019, 0.022, 0.025,\n",
       "       0.028, 0.031, 0.034, 0.037, 0.04 , 0.043, 0.046, 0.049, 0.052,\n",
       "       0.055, 0.058, 0.061, 0.064, 0.067, 0.07 , 0.073, 0.076, 0.079,\n",
       "       0.082, 0.085, 0.088, 0.091, 0.094, 0.097, 0.1  , 0.103, 0.106,\n",
       "       0.109, 0.112, 0.115, 0.118, 0.121, 0.124, 0.127...\n",
       "       0.838, 0.841, 0.844, 0.847, 0.85 , 0.853, 0.856, 0.859, 0.862,\n",
       "       0.865, 0.868, 0.871, 0.874, 0.877, 0.88 , 0.883, 0.886, 0.889,\n",
       "       0.892, 0.895, 0.898, 0.901, 0.904, 0.907, 0.91 , 0.913, 0.916,\n",
       "       0.919, 0.922, 0.925, 0.928, 0.931, 0.934, 0.937, 0.94 , 0.943,\n",
       "       0.946, 0.949, 0.952, 0.955, 0.958, 0.961, 0.964, 0.967, 0.97 ,\n",
       "       0.973, 0.976, 0.979, 0.982, 0.985, 0.988, 0.991, 0.994, 0.997])},\n",
       "             scoring='neg_mean_squared_error')"
      ]
     },
     "execution_count": 57,
     "metadata": {},
     "output_type": "execute_result"
    }
   ],
   "source": [
    "linear_lasso_gridsearch2 = GridSearchCV(linear_lasso_pipe2,\n",
    "                                 param_grid=linear_lasso_grid2,\n",
    "                                 cv=5,\n",
    "                                 scoring = 'neg_mean_squared_error',\n",
    "                                 refit=True)\n",
    "\n",
    "# as the task at hand is regression, the approriate scoring method is \"neg_mean_squared_error\"\n",
    "\n",
    "linear_lasso_gridsearch2"
   ]
  },
  {
   "cell_type": "markdown",
   "id": "df50d8b2",
   "metadata": {},
   "source": [
    "Training and Saving the Model"
   ]
  },
  {
   "cell_type": "code",
   "execution_count": 58,
   "id": "90724649",
   "metadata": {},
   "outputs": [
    {
     "data": {
      "text/plain": [
       "{'Lasso__alpha': 0.010000000000000002}"
      ]
     },
     "execution_count": 58,
     "metadata": {},
     "output_type": "execute_result"
    }
   ],
   "source": [
    "linear_lasso_gridsearch2.fit(lr_train_data2,lr_train_target2)\n",
    "\n",
    "linear_lasso_gridsearch2.best_params_"
   ]
  },
  {
   "cell_type": "code",
   "execution_count": 59,
   "id": "be7f80e6",
   "metadata": {},
   "outputs": [
    {
     "data": {
      "text/plain": [
       "['final_linear_lasso_model_unit_price.pkl']"
      ]
     },
     "execution_count": 59,
     "metadata": {},
     "output_type": "execute_result"
    }
   ],
   "source": [
    "final_linear_lasso_model_unit_price = linear_lasso_gridsearch.best_estimator_\n",
    "\n",
    "joblib.dump(final_linear_lasso_model_unit_price,\"final_linear_lasso_model_unit_price.pkl\")"
   ]
  },
  {
   "cell_type": "markdown",
   "id": "9153f771",
   "metadata": {},
   "source": [
    "## Logistic Regression to Classify Gender"
   ]
  },
  {
   "cell_type": "code",
   "execution_count": 60,
   "id": "0efe2ffb",
   "metadata": {},
   "outputs": [],
   "source": [
    "gender_train_data = gender_train_set_prepared.drop([\"Male\", \"Female\"], axis = 1)\n",
    "gender_train_target = gender_train_set_prepared[\"Male\"]\n",
    "\n",
    "gender_test_data = gender_test_set_prepared.drop([\"Male\",\"Female\"], axis = 1)\n",
    "gender_test_target = gender_test_set_prepared[\"Male\"]"
   ]
  },
  {
   "cell_type": "markdown",
   "id": "5aa609f8",
   "metadata": {},
   "source": [
    "Creating Pipeline for logisstic Regression"
   ]
  },
  {
   "cell_type": "code",
   "execution_count": 61,
   "id": "523ef187",
   "metadata": {},
   "outputs": [
    {
     "data": {
      "text/plain": [
       "{'memory': None,\n",
       " 'steps': [('PolynomialFeatures', PolynomialFeatures(interaction_only=True)),\n",
       "  ('LogisticRegression', LogisticRegression(tol=2))],\n",
       " 'verbose': False,\n",
       " 'PolynomialFeatures': PolynomialFeatures(interaction_only=True),\n",
       " 'LogisticRegression': LogisticRegression(tol=2),\n",
       " 'PolynomialFeatures__degree': 2,\n",
       " 'PolynomialFeatures__include_bias': True,\n",
       " 'PolynomialFeatures__interaction_only': True,\n",
       " 'PolynomialFeatures__order': 'C',\n",
       " 'LogisticRegression__C': 1.0,\n",
       " 'LogisticRegression__class_weight': None,\n",
       " 'LogisticRegression__dual': False,\n",
       " 'LogisticRegression__fit_intercept': True,\n",
       " 'LogisticRegression__intercept_scaling': 1,\n",
       " 'LogisticRegression__l1_ratio': None,\n",
       " 'LogisticRegression__max_iter': 100,\n",
       " 'LogisticRegression__multi_class': 'auto',\n",
       " 'LogisticRegression__n_jobs': None,\n",
       " 'LogisticRegression__penalty': 'l2',\n",
       " 'LogisticRegression__random_state': None,\n",
       " 'LogisticRegression__solver': 'lbfgs',\n",
       " 'LogisticRegression__tol': 2,\n",
       " 'LogisticRegression__verbose': 0,\n",
       " 'LogisticRegression__warm_start': False}"
      ]
     },
     "execution_count": 61,
     "metadata": {},
     "output_type": "execute_result"
    }
   ],
   "source": [
    "log_pipe =Pipeline([(('PolynomialFeatures', PolynomialFeatures(degree=2, interaction_only=True))),\n",
    "    ('LogisticRegression',LogisticRegression(fit_intercept=True, tol=2))])\n",
    "\n",
    "log_pipe.get_params()"
   ]
  },
  {
   "cell_type": "markdown",
   "id": "cc193d7e",
   "metadata": {},
   "source": [
    "Training and Saving the model"
   ]
  },
  {
   "cell_type": "code",
   "execution_count": 62,
   "id": "0243c3e5",
   "metadata": {},
   "outputs": [
    {
     "data": {
      "text/plain": [
       "Pipeline(steps=[('PolynomialFeatures',\n",
       "                 PolynomialFeatures(interaction_only=True)),\n",
       "                ('LogisticRegression', LogisticRegression(tol=2))])"
      ]
     },
     "execution_count": 62,
     "metadata": {},
     "output_type": "execute_result"
    }
   ],
   "source": [
    "log_pipe.fit(gender_train_data,gender_train_target)"
   ]
  },
  {
   "cell_type": "code",
   "execution_count": 63,
   "id": "71189609",
   "metadata": {},
   "outputs": [
    {
     "data": {
      "text/plain": [
       "['final_log_model_gender.pkl']"
      ]
     },
     "execution_count": 63,
     "metadata": {},
     "output_type": "execute_result"
    }
   ],
   "source": [
    "final_log_model_gender = log_pipe\n",
    "\n",
    "joblib.dump(final_log_model_gender,\"final_log_model_gender.pkl\")"
   ]
  },
  {
   "cell_type": "markdown",
   "id": "b9164bf5",
   "metadata": {},
   "source": [
    "## Logistic Regression to Classify Customer type"
   ]
  },
  {
   "cell_type": "code",
   "execution_count": 64,
   "id": "abd40040",
   "metadata": {},
   "outputs": [],
   "source": [
    "customer_train_data = customer_train_set_prepared.drop([\"Customer type\"], axis = 1)\n",
    "customer_train_target = customer_train_set_prepared[\"Customer type\"]\n",
    "\n",
    "customer_test_data = customer_test_set_prepared.drop([\"Customer type\"], axis = 1)\n",
    "customer_test_target = customer_test_set_prepared[\"Customer type\"]"
   ]
  },
  {
   "cell_type": "markdown",
   "id": "c657cb17",
   "metadata": {},
   "source": [
    "Creating Pipeline for Logistic Regression"
   ]
  },
  {
   "cell_type": "code",
   "execution_count": 65,
   "id": "977f7a63",
   "metadata": {},
   "outputs": [
    {
     "data": {
      "text/plain": [
       "{'memory': None,\n",
       " 'steps': [('PolynomialFeatures', PolynomialFeatures(interaction_only=True)),\n",
       "  ('LogisticRegression', LogisticRegression(tol=2))],\n",
       " 'verbose': False,\n",
       " 'PolynomialFeatures': PolynomialFeatures(interaction_only=True),\n",
       " 'LogisticRegression': LogisticRegression(tol=2),\n",
       " 'PolynomialFeatures__degree': 2,\n",
       " 'PolynomialFeatures__include_bias': True,\n",
       " 'PolynomialFeatures__interaction_only': True,\n",
       " 'PolynomialFeatures__order': 'C',\n",
       " 'LogisticRegression__C': 1.0,\n",
       " 'LogisticRegression__class_weight': None,\n",
       " 'LogisticRegression__dual': False,\n",
       " 'LogisticRegression__fit_intercept': True,\n",
       " 'LogisticRegression__intercept_scaling': 1,\n",
       " 'LogisticRegression__l1_ratio': None,\n",
       " 'LogisticRegression__max_iter': 100,\n",
       " 'LogisticRegression__multi_class': 'auto',\n",
       " 'LogisticRegression__n_jobs': None,\n",
       " 'LogisticRegression__penalty': 'l2',\n",
       " 'LogisticRegression__random_state': None,\n",
       " 'LogisticRegression__solver': 'lbfgs',\n",
       " 'LogisticRegression__tol': 2,\n",
       " 'LogisticRegression__verbose': 0,\n",
       " 'LogisticRegression__warm_start': False}"
      ]
     },
     "execution_count": 65,
     "metadata": {},
     "output_type": "execute_result"
    }
   ],
   "source": [
    "log_pipe2 = Pipeline([('PolynomialFeatures', PolynomialFeatures(degree=2, interaction_only=True)),\n",
    "                ('LogisticRegression', LogisticRegression(fit_intercept=True, tol=2))])\n",
    "\n",
    "log_pipe2.get_params()"
   ]
  },
  {
   "cell_type": "markdown",
   "id": "ce14fc4f",
   "metadata": {},
   "source": [
    "Training and Saving the Model"
   ]
  },
  {
   "cell_type": "code",
   "execution_count": 66,
   "id": "0d6826b3",
   "metadata": {},
   "outputs": [
    {
     "data": {
      "text/plain": [
       "Pipeline(steps=[('PolynomialFeatures',\n",
       "                 PolynomialFeatures(interaction_only=True)),\n",
       "                ('LogisticRegression', LogisticRegression(tol=2))])"
      ]
     },
     "execution_count": 66,
     "metadata": {},
     "output_type": "execute_result"
    }
   ],
   "source": [
    "log_pipe2.fit(customer_train_data,customer_train_target)"
   ]
  },
  {
   "cell_type": "code",
   "execution_count": 67,
   "id": "83097b7d",
   "metadata": {},
   "outputs": [
    {
     "data": {
      "text/plain": [
       "['final_log_model_customer.pkl']"
      ]
     },
     "execution_count": 67,
     "metadata": {},
     "output_type": "execute_result"
    }
   ],
   "source": [
    "final_log_model_customer = log_pipe2\n",
    "\n",
    "joblib.dump(final_log_model_customer,\"final_log_model_customer.pkl\")"
   ]
  },
  {
   "cell_type": "markdown",
   "id": "0265b063",
   "metadata": {},
   "source": [
    "## Classifiers for Predicting the Day of Purchase\n",
    "\n",
    "Although it says to \"predict the day of purchase\", the task essentially is to classify the weekday (obtained in the dataset by the Date attribute)"
   ]
  },
  {
   "cell_type": "code",
   "execution_count": 68,
   "id": "96003c97",
   "metadata": {},
   "outputs": [],
   "source": [
    "day_train_data = day_train_set_prepared.drop([\"Date\"], axis = 1)\n",
    "day_train_target = day_train_set_prepared[\"Date\"]\n",
    "\n",
    "day_test_data = day_test_set_prepared.drop([\"Date\"], axis = 1)\n",
    "day_test_target = day_test_set_prepared[\"Date\"]"
   ]
  },
  {
   "cell_type": "markdown",
   "id": "2ca43703",
   "metadata": {},
   "source": [
    "For this task, I will be using 2 classifiers,namely, Decision Tree Classifier, and Random Forest Classifier."
   ]
  },
  {
   "cell_type": "markdown",
   "id": "8dfe0f89",
   "metadata": {},
   "source": [
    "### Decision Tree Classifier"
   ]
  },
  {
   "cell_type": "code",
   "execution_count": 69,
   "id": "a59c34f0",
   "metadata": {},
   "outputs": [
    {
     "data": {
      "text/plain": [
       "{'memory': None,\n",
       " 'steps': [('DecisionTreeClassifier',\n",
       "   DecisionTreeClassifier(max_depth=5, random_state=0))],\n",
       " 'verbose': False,\n",
       " 'DecisionTreeClassifier': DecisionTreeClassifier(max_depth=5, random_state=0),\n",
       " 'DecisionTreeClassifier__ccp_alpha': 0.0,\n",
       " 'DecisionTreeClassifier__class_weight': None,\n",
       " 'DecisionTreeClassifier__criterion': 'gini',\n",
       " 'DecisionTreeClassifier__max_depth': 5,\n",
       " 'DecisionTreeClassifier__max_features': None,\n",
       " 'DecisionTreeClassifier__max_leaf_nodes': None,\n",
       " 'DecisionTreeClassifier__min_impurity_decrease': 0.0,\n",
       " 'DecisionTreeClassifier__min_impurity_split': None,\n",
       " 'DecisionTreeClassifier__min_samples_leaf': 1,\n",
       " 'DecisionTreeClassifier__min_samples_split': 2,\n",
       " 'DecisionTreeClassifier__min_weight_fraction_leaf': 0.0,\n",
       " 'DecisionTreeClassifier__random_state': 0,\n",
       " 'DecisionTreeClassifier__splitter': 'best'}"
      ]
     },
     "execution_count": 69,
     "metadata": {},
     "output_type": "execute_result"
    }
   ],
   "source": [
    "dt_pipe =Pipeline([('DecisionTreeClassifier', DecisionTreeClassifier(random_state=0,max_depth=5))])\n",
    "dt_pipe.get_params()"
   ]
  },
  {
   "cell_type": "markdown",
   "id": "6ffff29d",
   "metadata": {},
   "source": [
    "Hyperparameter Tuning"
   ]
  },
  {
   "cell_type": "code",
   "execution_count": 70,
   "id": "cdc38184",
   "metadata": {},
   "outputs": [],
   "source": [
    "dt_grid = {'DecisionTreeClassifier__criterion':['gini', 'entropy'],\n",
    "                 'DecisionTreeClassifier__max_depth':list(range(1,10)),\n",
    "                 'DecisionTreeClassifier__min_samples_split':list(range(2,10)),\n",
    "                 'DecisionTreeClassifier__min_samples_leaf':list(range(1,10))}"
   ]
  },
  {
   "cell_type": "code",
   "execution_count": 71,
   "id": "fdaeeddb",
   "metadata": {},
   "outputs": [
    {
     "data": {
      "text/plain": [
       "GridSearchCV(cv=5,\n",
       "             estimator=Pipeline(steps=[('DecisionTreeClassifier',\n",
       "                                        DecisionTreeClassifier(max_depth=5,\n",
       "                                                               random_state=0))]),\n",
       "             param_grid={'DecisionTreeClassifier__criterion': ['gini',\n",
       "                                                               'entropy'],\n",
       "                         'DecisionTreeClassifier__max_depth': [1, 2, 3, 4, 5, 6,\n",
       "                                                               7, 8, 9],\n",
       "                         'DecisionTreeClassifier__min_samples_leaf': [1, 2, 3,\n",
       "                                                                      4, 5, 6,\n",
       "                                                                      7, 8, 9],\n",
       "                         'DecisionTreeClassifier__min_samples_split': [2, 3, 4,\n",
       "                                                                       5, 6, 7,\n",
       "                                                                       8, 9]},\n",
       "             scoring='accuracy')"
      ]
     },
     "execution_count": 71,
     "metadata": {},
     "output_type": "execute_result"
    }
   ],
   "source": [
    "dt_gridsearch = GridSearchCV(dt_pipe, \n",
    "                          param_grid=dt_grid,\n",
    "                          cv=5,\n",
    "                          scoring='accuracy',\n",
    "                          refit=True)\n",
    "\n",
    "# as the task at hand is classification, the approriate scoring method is \"accuracy\"\n",
    "\n",
    "dt_gridsearch"
   ]
  },
  {
   "cell_type": "markdown",
   "id": "f3051687",
   "metadata": {},
   "source": [
    "Training and Saving the model"
   ]
  },
  {
   "cell_type": "code",
   "execution_count": 72,
   "id": "7047f121",
   "metadata": {},
   "outputs": [
    {
     "data": {
      "text/plain": [
       "{'DecisionTreeClassifier__criterion': 'entropy',\n",
       " 'DecisionTreeClassifier__max_depth': 8,\n",
       " 'DecisionTreeClassifier__min_samples_leaf': 2,\n",
       " 'DecisionTreeClassifier__min_samples_split': 2}"
      ]
     },
     "execution_count": 72,
     "metadata": {},
     "output_type": "execute_result"
    }
   ],
   "source": [
    "dt_gridsearch.fit(day_train_data,day_train_target)\n",
    "\n",
    "dt_gridsearch.best_params_"
   ]
  },
  {
   "cell_type": "code",
   "execution_count": 73,
   "id": "59f1f5da",
   "metadata": {},
   "outputs": [
    {
     "data": {
      "text/plain": [
       "['final_dt_model_day.pkl']"
      ]
     },
     "execution_count": 73,
     "metadata": {},
     "output_type": "execute_result"
    }
   ],
   "source": [
    "final_dt_model_day = dt_gridsearch.best_estimator_\n",
    "\n",
    "joblib.dump(final_dt_model_day,\"final_dt_model_day.pkl\")"
   ]
  },
  {
   "cell_type": "markdown",
   "id": "f61474de",
   "metadata": {},
   "source": [
    "### Random Forest Classifier"
   ]
  },
  {
   "cell_type": "code",
   "execution_count": 74,
   "id": "86a1e072",
   "metadata": {},
   "outputs": [
    {
     "data": {
      "text/plain": [
       "{'memory': None,\n",
       " 'steps': [('RandomForest', RandomForestClassifier(random_state=0))],\n",
       " 'verbose': False,\n",
       " 'RandomForest': RandomForestClassifier(random_state=0),\n",
       " 'RandomForest__bootstrap': True,\n",
       " 'RandomForest__ccp_alpha': 0.0,\n",
       " 'RandomForest__class_weight': None,\n",
       " 'RandomForest__criterion': 'gini',\n",
       " 'RandomForest__max_depth': None,\n",
       " 'RandomForest__max_features': 'auto',\n",
       " 'RandomForest__max_leaf_nodes': None,\n",
       " 'RandomForest__max_samples': None,\n",
       " 'RandomForest__min_impurity_decrease': 0.0,\n",
       " 'RandomForest__min_impurity_split': None,\n",
       " 'RandomForest__min_samples_leaf': 1,\n",
       " 'RandomForest__min_samples_split': 2,\n",
       " 'RandomForest__min_weight_fraction_leaf': 0.0,\n",
       " 'RandomForest__n_estimators': 100,\n",
       " 'RandomForest__n_jobs': None,\n",
       " 'RandomForest__oob_score': False,\n",
       " 'RandomForest__random_state': 0,\n",
       " 'RandomForest__verbose': 0,\n",
       " 'RandomForest__warm_start': False}"
      ]
     },
     "execution_count": 74,
     "metadata": {},
     "output_type": "execute_result"
    }
   ],
   "source": [
    "rf_pipe = Pipeline([('RandomForest', RandomForestClassifier(random_state=0))])\n",
    "rf_pipe.get_params()"
   ]
  },
  {
   "cell_type": "markdown",
   "id": "411ce0c2",
   "metadata": {},
   "source": [
    "Hyperparameter Tuning"
   ]
  },
  {
   "cell_type": "code",
   "execution_count": 75,
   "id": "4b7e10f3",
   "metadata": {},
   "outputs": [],
   "source": [
    "rf_grid = {'RandomForest__criterion':[\"gini\",\"entropy\"],\n",
    "                     'RandomForest__max_depth':list(range(1,10)),\n",
    "                     'RandomForest__min_samples_split':list(range(2,10)),\n",
    "                     'RandomForest__min_samples_leaf':list(range(1,10))}"
   ]
  },
  {
   "cell_type": "code",
   "execution_count": 76,
   "id": "112c14aa",
   "metadata": {},
   "outputs": [
    {
     "data": {
      "text/plain": [
       "GridSearchCV(cv=5,\n",
       "             estimator=Pipeline(steps=[('RandomForest',\n",
       "                                        RandomForestClassifier(random_state=0))]),\n",
       "             param_grid={'RandomForest__criterion': ['gini', 'entropy'],\n",
       "                         'RandomForest__max_depth': [1, 2, 3, 4, 5, 6, 7, 8, 9],\n",
       "                         'RandomForest__min_samples_leaf': [1, 2, 3, 4, 5, 6, 7,\n",
       "                                                            8, 9],\n",
       "                         'RandomForest__min_samples_split': [2, 3, 4, 5, 6, 7,\n",
       "                                                             8, 9]},\n",
       "             scoring='accuracy')"
      ]
     },
     "execution_count": 76,
     "metadata": {},
     "output_type": "execute_result"
    }
   ],
   "source": [
    "rf_gridsearch = GridSearchCV(rf_pipe,\n",
    "                             param_grid=rf_grid,\n",
    "                             cv=5,\n",
    "                             scoring='accuracy',\n",
    "                             refit=True)\n",
    "# as the task at hand is classification, the approriate scoring method is \"accuracy\"\n",
    "\n",
    "rf_gridsearch"
   ]
  },
  {
   "cell_type": "markdown",
   "id": "b7f1ecd4",
   "metadata": {},
   "source": [
    "Training and Saving the Model"
   ]
  },
  {
   "cell_type": "code",
   "execution_count": 77,
   "id": "224e9711",
   "metadata": {},
   "outputs": [
    {
     "data": {
      "text/plain": [
       "{'RandomForest__criterion': 'gini',\n",
       " 'RandomForest__max_depth': 7,\n",
       " 'RandomForest__min_samples_leaf': 3,\n",
       " 'RandomForest__min_samples_split': 9}"
      ]
     },
     "execution_count": 77,
     "metadata": {},
     "output_type": "execute_result"
    }
   ],
   "source": [
    "rf_gridsearch.fit(day_train_data,day_train_target)\n",
    "\n",
    "rf_gridsearch.best_params_"
   ]
  },
  {
   "cell_type": "code",
   "execution_count": 78,
   "id": "5072e314",
   "metadata": {},
   "outputs": [
    {
     "data": {
      "text/plain": [
       "['final_rf_model_day.pkl']"
      ]
     },
     "execution_count": 78,
     "metadata": {},
     "output_type": "execute_result"
    }
   ],
   "source": [
    "final_rf_model_day = rf_gridsearch.best_estimator_\n",
    "\n",
    "joblib.dump(final_rf_model_day,\"final_rf_model_day.pkl\")"
   ]
  },
  {
   "cell_type": "code",
   "execution_count": null,
   "id": "ba6dd5de",
   "metadata": {},
   "outputs": [],
   "source": []
  }
 ],
 "metadata": {
  "kernelspec": {
   "display_name": "Python 3",
   "language": "python",
   "name": "python3"
  },
  "language_info": {
   "codemirror_mode": {
    "name": "ipython",
    "version": 3
   },
   "file_extension": ".py",
   "mimetype": "text/x-python",
   "name": "python",
   "nbconvert_exporter": "python",
   "pygments_lexer": "ipython3",
   "version": "3.8.8"
  }
 },
 "nbformat": 4,
 "nbformat_minor": 5
}
